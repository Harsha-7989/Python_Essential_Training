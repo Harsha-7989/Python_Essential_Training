{
  "cells": [
    {
      "cell_type": "markdown",
      "metadata": {
        "id": "view-in-github",
        "colab_type": "text"
      },
      "source": [
        "<a href=\"https://colab.research.google.com/github/Harsha-7989/Python_Essential_Training/blob/main/02_07_Challenge_Hints.ipynb\" target=\"_parent\"><img src=\"https://colab.research.google.com/assets/colab-badge.svg\" alt=\"Open In Colab\"/></a>"
      ]
    },
    {
      "cell_type": "markdown",
      "id": "48f2163c",
      "metadata": {
        "id": "48f2163c"
      },
      "source": [
        "## Factorial Challenge\n",
        "\n",
        "The factorial function gives the number of possible arrangements of a set of items of length \"n\"\n",
        "\n",
        "For example, there are 4! (\"four factorial\") or 24 ways to arrange four items, which can be calculated as:\n",
        "4 \\* 3 \\* 2 \\* 1\n",
        "\n",
        "5! = 5 \\* 4 \\* 3 \\* 2 \\* 1 = 120\n",
        "\n",
        "6! = 6 \\* 5 \\* 4 \\* 3 \\* 2 \\* 1 = 720\n",
        "\n",
        "etc.\n",
        "\n",
        "In a set of 0 items (an empty set) there is only one way to arrange the items, therefore, 0! = 1\n",
        "\n",
        "For the purposes of this exercise, factorials are only defined for **positive integers** (including 0)\n",
        "\n"
      ]
    },
    {
      "cell_type": "markdown",
      "id": "76c229aa",
      "metadata": {
        "id": "76c229aa"
      },
      "source": [
        "### Challenge Hints!"
      ]
    },
    {
      "cell_type": "markdown",
      "id": "102ebdab",
      "metadata": {
        "id": "102ebdab"
      },
      "source": [
        "**HINT 1:** You can figure out whether a variable is of a certain type in the following way:\n"
      ]
    },
    {
      "cell_type": "code",
      "execution_count": 1,
      "id": "df2ebdca",
      "metadata": {
        "scrolled": true,
        "colab": {
          "base_uri": "https://localhost:8080/"
        },
        "id": "df2ebdca",
        "outputId": "4abc50c1-6927-4471-e49d-6466d65bd68d"
      },
      "outputs": [
        {
          "output_type": "stream",
          "name": "stdout",
          "text": [
            "myVar is an integer!\n"
          ]
        }
      ],
      "source": [
        "myVar = 1\n",
        "\n",
        "if type(myVar) == int:\n",
        "    print('myVar is an integer!')\n",
        "\n",
        "if type(myVar) != int:\n",
        "    print('myVar is NOT an integer!')"
      ]
    },
    {
      "cell_type": "markdown",
      "id": "77f06600",
      "metadata": {
        "id": "77f06600"
      },
      "source": [
        "**HINT 2:** You can create a while loop and manipulate multiple variables inside of it:"
      ]
    },
    {
      "cell_type": "code",
      "execution_count": 2,
      "id": "6ac23a6d",
      "metadata": {
        "colab": {
          "base_uri": "https://localhost:8080/"
        },
        "id": "6ac23a6d",
        "outputId": "8c7359ce-be08-4923-d71f-9aa0b5ae2fd9"
      },
      "outputs": [
        {
          "output_type": "execute_result",
          "data": {
            "text/plain": [
              "55"
            ]
          },
          "metadata": {},
          "execution_count": 2
        }
      ],
      "source": [
        "# This prints the sum of all of the numbers from 1 to 10\n",
        "i = 0\n",
        "s = 0\n",
        "while i < 10:\n",
        "    i = i + 1\n",
        "    s = s + i\n",
        "\n",
        "s"
      ]
    },
    {
      "cell_type": "markdown",
      "id": "c058630b",
      "metadata": {
        "id": "c058630b"
      },
      "source": [
        "**HINT 3:** Alternatively, a function can call itself! This is called \"recursion\" This also returns the sum of all numbers from 0 to 10:\n"
      ]
    },
    {
      "cell_type": "code",
      "execution_count": 3,
      "id": "094c9140",
      "metadata": {
        "colab": {
          "base_uri": "https://localhost:8080/"
        },
        "id": "094c9140",
        "outputId": "94629dd9-b778-4af9-8de5-4ea9863fd862"
      },
      "outputs": [
        {
          "output_type": "execute_result",
          "data": {
            "text/plain": [
              "55"
            ]
          },
          "metadata": {},
          "execution_count": 3
        }
      ],
      "source": [
        "def addNumbers(i):\n",
        "    if i == 0:\n",
        "        return 0\n",
        "    return i + addNumbers(i - 1)\n",
        "\n",
        "addNumbers(10)"
      ]
    },
    {
      "cell_type": "code",
      "execution_count": 4,
      "id": "92af0386",
      "metadata": {
        "id": "92af0386"
      },
      "outputs": [],
      "source": [
        "# Returns the value of the factorial of num if it is defined, otherwise, returns None\n",
        "def factorial(num):\n",
        "    pass\n"
      ]
    },
    {
      "cell_type": "code",
      "execution_count": 5,
      "id": "1d10be7a",
      "metadata": {
        "id": "1d10be7a"
      },
      "outputs": [],
      "source": [
        "factorial(5)"
      ]
    },
    {
      "cell_type": "code",
      "execution_count": 6,
      "id": "c43845c1",
      "metadata": {
        "id": "c43845c1"
      },
      "outputs": [],
      "source": [
        "factorial(0)"
      ]
    },
    {
      "cell_type": "code",
      "execution_count": 7,
      "id": "8f605415",
      "metadata": {
        "id": "8f605415"
      },
      "outputs": [],
      "source": [
        "factorial(-2)"
      ]
    },
    {
      "cell_type": "code",
      "execution_count": 8,
      "id": "5b973ff0",
      "metadata": {
        "id": "5b973ff0"
      },
      "outputs": [],
      "source": [
        "factorial(1.2)"
      ]
    },
    {
      "cell_type": "code",
      "execution_count": 9,
      "id": "67f07cca",
      "metadata": {
        "id": "67f07cca"
      },
      "outputs": [],
      "source": [
        "factorial('spam spam spam spam spam spam')"
      ]
    },
    {
      "cell_type": "code",
      "execution_count": null,
      "id": "714148cd",
      "metadata": {
        "id": "714148cd"
      },
      "outputs": [],
      "source": []
    }
  ],
  "metadata": {
    "kernelspec": {
      "display_name": "Python 3 (ipykernel)",
      "language": "python",
      "name": "python3"
    },
    "language_info": {
      "codemirror_mode": {
        "name": "ipython",
        "version": 3
      },
      "file_extension": ".py",
      "mimetype": "text/x-python",
      "name": "python",
      "nbconvert_exporter": "python",
      "pygments_lexer": "ipython3",
      "version": "3.9.13"
    },
    "colab": {
      "provenance": [],
      "include_colab_link": true
    }
  },
  "nbformat": 4,
  "nbformat_minor": 5
}