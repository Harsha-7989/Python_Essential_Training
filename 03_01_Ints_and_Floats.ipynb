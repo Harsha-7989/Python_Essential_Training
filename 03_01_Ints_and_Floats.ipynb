{
  "cells": [
    {
      "cell_type": "markdown",
      "metadata": {
        "id": "view-in-github",
        "colab_type": "text"
      },
      "source": [
        "<a href=\"https://colab.research.google.com/github/Harsha-7989/Python_Essential_Training/blob/main/03_01_Ints_and_Floats.ipynb\" target=\"_parent\"><img src=\"https://colab.research.google.com/assets/colab-badge.svg\" alt=\"Open In Colab\"/></a>"
      ]
    },
    {
      "cell_type": "markdown",
      "id": "1433045d",
      "metadata": {
        "id": "1433045d"
      },
      "source": [
        "## Ints and Floats"
      ]
    },
    {
      "cell_type": "code",
      "execution_count": 1,
      "id": "620f3454",
      "metadata": {
        "colab": {
          "base_uri": "https://localhost:8080/"
        },
        "id": "620f3454",
        "outputId": "ffb8351f-50dd-465f-ac6d-b468821d7daf"
      },
      "outputs": [
        {
          "output_type": "execute_result",
          "data": {
            "text/plain": [
              "5.0"
            ]
          },
          "metadata": {},
          "execution_count": 1
        }
      ],
      "source": [
        "20 / 4"
      ]
    },
    {
      "cell_type": "code",
      "execution_count": 2,
      "id": "20679daa",
      "metadata": {
        "colab": {
          "base_uri": "https://localhost:8080/"
        },
        "id": "20679daa",
        "outputId": "69a44cf3-22d3-432f-8f02-c5f6bf92db2f"
      },
      "outputs": [
        {
          "output_type": "execute_result",
          "data": {
            "text/plain": [
              "8.0"
            ]
          },
          "metadata": {},
          "execution_count": 2
        }
      ],
      "source": [
        "4 + 4.0"
      ]
    },
    {
      "cell_type": "code",
      "execution_count": 3,
      "id": "1715beac",
      "metadata": {
        "colab": {
          "base_uri": "https://localhost:8080/"
        },
        "id": "1715beac",
        "outputId": "464583ca-4a85-4a72-cd05-a4afa1798928"
      },
      "outputs": [
        {
          "output_type": "execute_result",
          "data": {
            "text/plain": [
              "16.0"
            ]
          },
          "metadata": {},
          "execution_count": 3
        }
      ],
      "source": [
        "4 * 4.0"
      ]
    },
    {
      "cell_type": "code",
      "execution_count": 4,
      "id": "2b5bc9df",
      "metadata": {
        "colab": {
          "base_uri": "https://localhost:8080/"
        },
        "id": "2b5bc9df",
        "outputId": "aef0c5e4-1416-4c60-a827-1d12e067a5da"
      },
      "outputs": [
        {
          "output_type": "execute_result",
          "data": {
            "text/plain": [
              "256.0"
            ]
          },
          "metadata": {},
          "execution_count": 4
        }
      ],
      "source": [
        "4 ** 4.0"
      ]
    },
    {
      "cell_type": "code",
      "execution_count": 5,
      "id": "638697a4",
      "metadata": {
        "colab": {
          "base_uri": "https://localhost:8080/"
        },
        "id": "638697a4",
        "outputId": "74330054-6121-4dba-e5d7-343cd0393296"
      },
      "outputs": [
        {
          "output_type": "execute_result",
          "data": {
            "text/plain": [
              "256"
            ]
          },
          "metadata": {},
          "execution_count": 5
        }
      ],
      "source": [
        "int(4 ** 4.0)"
      ]
    },
    {
      "cell_type": "code",
      "execution_count": 6,
      "id": "4fd9aa8c",
      "metadata": {
        "colab": {
          "base_uri": "https://localhost:8080/"
        },
        "id": "4fd9aa8c",
        "outputId": "87486803-2e90-42ea-9534-642a4e2f879b"
      },
      "outputs": [
        {
          "output_type": "execute_result",
          "data": {
            "text/plain": [
              "8"
            ]
          },
          "metadata": {},
          "execution_count": 6
        }
      ],
      "source": [
        "int(8.9)"
      ]
    },
    {
      "cell_type": "code",
      "execution_count": 7,
      "id": "d364df95",
      "metadata": {
        "colab": {
          "base_uri": "https://localhost:8080/"
        },
        "id": "d364df95",
        "outputId": "7fe60d8f-c7e9-4362-e5e8-dea73f28fa80"
      },
      "outputs": [
        {
          "output_type": "execute_result",
          "data": {
            "text/plain": [
              "8"
            ]
          },
          "metadata": {},
          "execution_count": 7
        }
      ],
      "source": [
        "int(8.99999999)"
      ]
    },
    {
      "cell_type": "code",
      "execution_count": 8,
      "id": "bab7fcd4",
      "metadata": {
        "colab": {
          "base_uri": "https://localhost:8080/"
        },
        "id": "bab7fcd4",
        "outputId": "409b66cd-4ccb-49e1-a60e-b2603199cf5f"
      },
      "outputs": [
        {
          "output_type": "execute_result",
          "data": {
            "text/plain": [
              "4"
            ]
          },
          "metadata": {},
          "execution_count": 8
        }
      ],
      "source": [
        "int(14/3)"
      ]
    },
    {
      "cell_type": "code",
      "execution_count": 9,
      "id": "6d7617e5",
      "metadata": {
        "colab": {
          "base_uri": "https://localhost:8080/"
        },
        "id": "6d7617e5",
        "outputId": "d30abb8c-592b-45f9-d6fd-e300ea2163ab"
      },
      "outputs": [
        {
          "output_type": "execute_result",
          "data": {
            "text/plain": [
              "4.67"
            ]
          },
          "metadata": {},
          "execution_count": 9
        }
      ],
      "source": [
        "round(14/3, 2)"
      ]
    },
    {
      "cell_type": "code",
      "execution_count": 10,
      "id": "397778a3",
      "metadata": {
        "colab": {
          "base_uri": "https://localhost:8080/"
        },
        "id": "397778a3",
        "outputId": "65a35343-02b7-44db-9198-3c29d293bafa"
      },
      "outputs": [
        {
          "output_type": "execute_result",
          "data": {
            "text/plain": [
              "0.19999999999999996"
            ]
          },
          "metadata": {},
          "execution_count": 10
        }
      ],
      "source": [
        "1.2 - 1.0"
      ]
    },
    {
      "cell_type": "code",
      "execution_count": 11,
      "id": "a5e9a0d1",
      "metadata": {
        "colab": {
          "base_uri": "https://localhost:8080/"
        },
        "id": "a5e9a0d1",
        "outputId": "d4a7f5af-8f12-46fb-fc04-593e28868557"
      },
      "outputs": [
        {
          "output_type": "execute_result",
          "data": {
            "text/plain": [
              "4.666666666666667"
            ]
          },
          "metadata": {},
          "execution_count": 11
        }
      ],
      "source": [
        "14/3"
      ]
    },
    {
      "cell_type": "code",
      "execution_count": 12,
      "id": "d3e4911c",
      "metadata": {
        "colab": {
          "base_uri": "https://localhost:8080/"
        },
        "id": "d3e4911c",
        "outputId": "651429ae-4b48-46c0-9011-1744caf6ba58"
      },
      "outputs": [
        {
          "output_type": "execute_result",
          "data": {
            "text/plain": [
              "0.2"
            ]
          },
          "metadata": {},
          "execution_count": 12
        }
      ],
      "source": [
        "round(1.2 - 1.0, 2)"
      ]
    },
    {
      "cell_type": "code",
      "execution_count": null,
      "id": "9e80dd60",
      "metadata": {
        "id": "9e80dd60"
      },
      "outputs": [],
      "source": []
    }
  ],
  "metadata": {
    "kernelspec": {
      "display_name": "Python 3 (ipykernel)",
      "language": "python",
      "name": "python3"
    },
    "language_info": {
      "codemirror_mode": {
        "name": "ipython",
        "version": 3
      },
      "file_extension": ".py",
      "mimetype": "text/x-python",
      "name": "python",
      "nbconvert_exporter": "python",
      "pygments_lexer": "ipython3",
      "version": "3.9.13"
    },
    "colab": {
      "provenance": [],
      "include_colab_link": true
    }
  },
  "nbformat": 4,
  "nbformat_minor": 5
}