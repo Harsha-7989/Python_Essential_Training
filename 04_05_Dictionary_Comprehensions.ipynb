{
  "cells": [
    {
      "cell_type": "markdown",
      "metadata": {
        "id": "view-in-github",
        "colab_type": "text"
      },
      "source": [
        "<a href=\"https://colab.research.google.com/github/Harsha-7989/Python_Essential_Training/blob/main/04_05_Dictionary_Comprehensions.ipynb\" target=\"_parent\"><img src=\"https://colab.research.google.com/assets/colab-badge.svg\" alt=\"Open In Colab\"/></a>"
      ]
    },
    {
      "cell_type": "markdown",
      "id": "f76cf3b1",
      "metadata": {
        "id": "f76cf3b1"
      },
      "source": [
        "## Dictionary Comprehensions"
      ]
    },
    {
      "cell_type": "code",
      "execution_count": 1,
      "id": "92d3299d",
      "metadata": {
        "colab": {
          "base_uri": "https://localhost:8080/"
        },
        "id": "92d3299d",
        "outputId": "8d63c451-24ac-48e3-e44c-378e80e07a60"
      },
      "outputs": [
        {
          "output_type": "execute_result",
          "data": {
            "text/plain": [
              "{'a': 'aardvark', 'b': 'bear', 'c': 'cat', 'd': 'dog'}"
            ]
          },
          "metadata": {},
          "execution_count": 1
        }
      ],
      "source": [
        "animalList = [('a', 'aardvark'), ('b', 'bear'), ('c', 'cat'), ('d', 'dog')]\n",
        "animals = {item[0]: item[1] for item in animalList}\n",
        "animals"
      ]
    },
    {
      "cell_type": "code",
      "execution_count": 2,
      "id": "68206d1c",
      "metadata": {
        "colab": {
          "base_uri": "https://localhost:8080/"
        },
        "id": "68206d1c",
        "outputId": "5e3f283e-eb9a-4864-dc79-c9de3c6f38f8"
      },
      "outputs": [
        {
          "output_type": "execute_result",
          "data": {
            "text/plain": [
              "{'a': 'aardvark', 'b': 'bear', 'c': 'cat', 'd': 'dog'}"
            ]
          },
          "metadata": {},
          "execution_count": 2
        }
      ],
      "source": [
        "animals = {key: value for key, value in animalList}\n",
        "animals"
      ]
    },
    {
      "cell_type": "code",
      "execution_count": 3,
      "id": "96bdf466",
      "metadata": {
        "colab": {
          "base_uri": "https://localhost:8080/"
        },
        "id": "96bdf466",
        "outputId": "150f00e0-f9bf-4262-b6a0-104e15963042"
      },
      "outputs": [
        {
          "output_type": "execute_result",
          "data": {
            "text/plain": [
              "dict_items([('a', 'aardvark'), ('b', 'bear'), ('c', 'cat'), ('d', 'dog')])"
            ]
          },
          "metadata": {},
          "execution_count": 3
        }
      ],
      "source": [
        "animals.items()"
      ]
    },
    {
      "cell_type": "code",
      "execution_count": 4,
      "id": "467b6984",
      "metadata": {
        "colab": {
          "base_uri": "https://localhost:8080/"
        },
        "id": "467b6984",
        "outputId": "6e1fafd9-e521-41f8-e0a7-52f7fde51f9f"
      },
      "outputs": [
        {
          "output_type": "execute_result",
          "data": {
            "text/plain": [
              "[('a', 'aardvark'), ('b', 'bear'), ('c', 'cat'), ('d', 'dog')]"
            ]
          },
          "metadata": {},
          "execution_count": 4
        }
      ],
      "source": [
        "list(animals.items())"
      ]
    },
    {
      "cell_type": "code",
      "execution_count": 5,
      "id": "494fe288",
      "metadata": {
        "colab": {
          "base_uri": "https://localhost:8080/"
        },
        "id": "494fe288",
        "outputId": "280d80f4-7359-4366-d04b-83a6b8de4249"
      },
      "outputs": [
        {
          "output_type": "execute_result",
          "data": {
            "text/plain": [
              "[{'letter': 'a', 'name': 'aardvark'},\n",
              " {'letter': 'b', 'name': 'bear'},\n",
              " {'letter': 'c', 'name': 'cat'},\n",
              " {'letter': 'd', 'name': 'dog'}]"
            ]
          },
          "metadata": {},
          "execution_count": 5
        }
      ],
      "source": [
        "[{'letter': key, 'name': value} for key, value in animals.items()]"
      ]
    },
    {
      "cell_type": "code",
      "execution_count": null,
      "id": "3766f5e9",
      "metadata": {
        "id": "3766f5e9"
      },
      "outputs": [],
      "source": []
    }
  ],
  "metadata": {
    "kernelspec": {
      "display_name": "Python 3 (ipykernel)",
      "language": "python",
      "name": "python3"
    },
    "language_info": {
      "codemirror_mode": {
        "name": "ipython",
        "version": 3
      },
      "file_extension": ".py",
      "mimetype": "text/x-python",
      "name": "python",
      "nbconvert_exporter": "python",
      "pygments_lexer": "ipython3",
      "version": "3.10.2"
    },
    "colab": {
      "provenance": [],
      "include_colab_link": true
    }
  },
  "nbformat": 4,
  "nbformat_minor": 5
}