{
  "cells": [
    {
      "cell_type": "markdown",
      "metadata": {
        "id": "view-in-github",
        "colab_type": "text"
      },
      "source": [
        "<a href=\"https://colab.research.google.com/github/Harsha-7989/Python_Essential_Training/blob/main/09_03_Processes.ipynb\" target=\"_parent\"><img src=\"https://colab.research.google.com/assets/colab-badge.svg\" alt=\"Open In Colab\"/></a>"
      ]
    },
    {
      "cell_type": "code",
      "source": [
        "!pip install multiprocess"
      ],
      "metadata": {
        "colab": {
          "base_uri": "https://localhost:8080/"
        },
        "id": "nsuVFLKYA48A",
        "outputId": "51cf35ec-9690-487f-ebd0-028b62f4f8ce"
      },
      "id": "nsuVFLKYA48A",
      "execution_count": 2,
      "outputs": [
        {
          "output_type": "stream",
          "name": "stdout",
          "text": [
            "Collecting multiprocess\n",
            "  Downloading multiprocess-0.70.18-py311-none-any.whl.metadata (7.5 kB)\n",
            "Collecting dill>=0.4.0 (from multiprocess)\n",
            "  Downloading dill-0.4.0-py3-none-any.whl.metadata (10 kB)\n",
            "Downloading multiprocess-0.70.18-py311-none-any.whl (144 kB)\n",
            "\u001b[2K   \u001b[90m━━━━━━━━━━━━━━━━━━━━━━━━━━━━━━━━━━━━━━━━\u001b[0m \u001b[32m144.5/144.5 kB\u001b[0m \u001b[31m3.4 MB/s\u001b[0m eta \u001b[36m0:00:00\u001b[0m\n",
            "\u001b[?25hDownloading dill-0.4.0-py3-none-any.whl (119 kB)\n",
            "\u001b[2K   \u001b[90m━━━━━━━━━━━━━━━━━━━━━━━━━━━━━━━━━━━━━━━━\u001b[0m \u001b[32m119.7/119.7 kB\u001b[0m \u001b[31m8.3 MB/s\u001b[0m eta \u001b[36m0:00:00\u001b[0m\n",
            "\u001b[?25hInstalling collected packages: dill, multiprocess\n",
            "Successfully installed dill-0.4.0 multiprocess-0.70.18\n"
          ]
        }
      ]
    },
    {
      "cell_type": "code",
      "execution_count": 3,
      "id": "34fcf0b8",
      "metadata": {
        "id": "34fcf0b8"
      },
      "outputs": [],
      "source": [
        "from multiprocess import Process\n",
        "import time\n",
        "import threading"
      ]
    },
    {
      "cell_type": "markdown",
      "id": "b9bc0c6f",
      "metadata": {
        "id": "b9bc0c6f"
      },
      "source": [
        "## Processes"
      ]
    },
    {
      "cell_type": "code",
      "execution_count": 5,
      "id": "37273e14",
      "metadata": {
        "colab": {
          "base_uri": "https://localhost:8080/"
        },
        "id": "37273e14",
        "outputId": "88aeb630-cc30-44ac-ce8a-7081c33841ed"
      },
      "outputs": [
        {
          "output_type": "stream",
          "name": "stdout",
          "text": [
            "0\n",
            "Finished computing!\n",
            "4\n",
            "9\n",
            "Finished computing!Finished computing!\n",
            "\n",
            "11636492564\n",
            "\n",
            "Finished computing!Finished computing!\n",
            "Finished computing!81\n",
            "\n",
            "\n",
            "\n",
            "\n",
            "Finished computing!\n",
            "Finished computing!Finished computing!\n",
            "\n",
            "\n",
            "Finished computing!\n",
            "\n"
          ]
        },
        {
          "output_type": "execute_result",
          "data": {
            "text/plain": [
              "[None, None, None, None, None, None, None, None, None, None]"
            ]
          },
          "metadata": {},
          "execution_count": 5
        }
      ],
      "source": [
        "def longSquare(num, results):\n",
        "    time.sleep(1)\n",
        "    print(num**2)\n",
        "    print('Finished computing!')\n",
        "\n",
        "results = {}\n",
        "processes = [Process(target=longSquare, args=(n,results)) for n in range(0, 10)]\n",
        "[p.start() for p in processes]\n",
        "[p.join() for p in processes]\n",
        "\n",
        "\n"
      ]
    },
    {
      "cell_type": "code",
      "execution_count": 6,
      "id": "ee636997",
      "metadata": {
        "colab": {
          "base_uri": "https://localhost:8080/"
        },
        "id": "ee636997",
        "outputId": "88c55e1e-884c-48fa-aacc-20bd4a969079"
      },
      "outputs": [
        {
          "output_type": "stream",
          "name": "stdout",
          "text": [
            "01\n",
            "Finished computing!\n",
            "\n",
            "Finished computing!\n",
            "4\n",
            "Finished computing!\n",
            "9\n",
            "Finished computing!\n",
            "16\n",
            "Finished computing!\n",
            "25\n",
            "Finished computing!\n",
            "36\n",
            "Finished computing!\n",
            "49\n",
            "Finished computing!\n",
            "64\n",
            "Finished computing!\n",
            "81\n",
            "Finished computing!\n",
            "{}\n"
          ]
        }
      ],
      "source": [
        "results = {}\n",
        "threads = [threading.Thread(target=longSquare, args=(n, results)) for n in range(0, 10)]\n",
        "[t.start() for t in threads]\n",
        "[t.join() for t in threads]\n",
        "print(results)"
      ]
    },
    {
      "cell_type": "code",
      "execution_count": null,
      "id": "129b1aa4",
      "metadata": {
        "id": "129b1aa4"
      },
      "outputs": [],
      "source": []
    }
  ],
  "metadata": {
    "kernelspec": {
      "display_name": "Python 3 (ipykernel)",
      "language": "python",
      "name": "python3"
    },
    "language_info": {
      "codemirror_mode": {
        "name": "ipython",
        "version": 3
      },
      "file_extension": ".py",
      "mimetype": "text/x-python",
      "name": "python",
      "nbconvert_exporter": "python",
      "pygments_lexer": "ipython3",
      "version": "3.10.2"
    },
    "colab": {
      "provenance": [],
      "include_colab_link": true
    }
  },
  "nbformat": 4,
  "nbformat_minor": 5
}