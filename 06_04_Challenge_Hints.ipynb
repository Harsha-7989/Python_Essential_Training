{
  "cells": [
    {
      "cell_type": "markdown",
      "metadata": {
        "id": "view-in-github",
        "colab_type": "text"
      },
      "source": [
        "<a href=\"https://colab.research.google.com/github/Harsha-7989/Python_Essential_Training/blob/main/06_04_Challenge_Hints.ipynb\" target=\"_parent\"><img src=\"https://colab.research.google.com/assets/colab-badge.svg\" alt=\"Open In Colab\"/></a>"
      ]
    },
    {
      "cell_type": "markdown",
      "id": "6aa3058e",
      "metadata": {
        "id": "6aa3058e"
      },
      "source": [
        "## Squaring Up"
      ]
    },
    {
      "cell_type": "markdown",
      "id": "5af7d03e",
      "metadata": {
        "id": "5af7d03e"
      },
      "source": [
        "**HINT 1:** Two triangles, when added together, make a square"
      ]
    },
    {
      "cell_type": "markdown",
      "id": "904577f5",
      "metadata": {
        "id": "904577f5"
      },
      "source": [
        "**HINT 2:** Your two triangles will be of different sizes"
      ]
    },
    {
      "cell_type": "markdown",
      "id": "9b094dfc-9e6e-40f8-a343-aee8db57af38",
      "metadata": {
        "id": "9b094dfc-9e6e-40f8-a343-aee8db57af38"
      },
      "source": [
        "**HINT 3:** Here are some examples for you:\n",
        "\n",
        "triangle(2) + triangle(3) = 3 + 6 = 9\n",
        "\n",
        "triangle(3) + triangle(4) = 6 + 10 = 16"
      ]
    },
    {
      "cell_type": "code",
      "execution_count": 1,
      "id": "687b1069-7a8c-46bc-b1c6-6ab94fe4a1e7",
      "metadata": {
        "id": "687b1069-7a8c-46bc-b1c6-6ab94fe4a1e7"
      },
      "outputs": [],
      "source": [
        "# Python code​​​​​​‌‌​‌​​‌‌​‌​‌‌‌​​​​​‌‌‌‌‌​ below\n",
        "def triangle(num):\n",
        "    if num == 1:\n",
        "        return num\n",
        "    return num + triangle(num - 1)\n",
        "\n",
        "def square(num):\n",
        "    return triangle(num) + triangle(num-1)\n",
        "    pass"
      ]
    },
    {
      "cell_type": "code",
      "source": [],
      "metadata": {
        "id": "GCw_9b1ucXDi"
      },
      "id": "GCw_9b1ucXDi",
      "execution_count": null,
      "outputs": []
    }
  ],
  "metadata": {
    "kernelspec": {
      "display_name": "Python 3 (ipykernel)",
      "language": "python",
      "name": "python3"
    },
    "language_info": {
      "codemirror_mode": {
        "name": "ipython",
        "version": 3
      },
      "file_extension": ".py",
      "mimetype": "text/x-python",
      "name": "python",
      "nbconvert_exporter": "python",
      "pygments_lexer": "ipython3",
      "version": "3.9.13"
    },
    "vscode": {
      "interpreter": {
        "hash": "949777d72b0d2535278d3dc13498b2535136f6dfe0678499012e853ee9abcab1"
      }
    },
    "colab": {
      "provenance": [],
      "include_colab_link": true
    }
  },
  "nbformat": 4,
  "nbformat_minor": 5
}