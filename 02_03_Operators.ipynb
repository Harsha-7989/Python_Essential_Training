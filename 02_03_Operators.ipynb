{
  "cells": [
    {
      "cell_type": "markdown",
      "metadata": {
        "id": "view-in-github",
        "colab_type": "text"
      },
      "source": [
        "<a href=\"https://colab.research.google.com/github/Harsha-7989/Python_Essential_Training/blob/main/02_03_Operators.ipynb\" target=\"_parent\"><img src=\"https://colab.research.google.com/assets/colab-badge.svg\" alt=\"Open In Colab\"/></a>"
      ]
    },
    {
      "cell_type": "markdown",
      "id": "30d9684d",
      "metadata": {
        "id": "30d9684d"
      },
      "source": [
        "## Arithmetic Operators"
      ]
    },
    {
      "cell_type": "code",
      "execution_count": 1,
      "id": "f4a9a1bc",
      "metadata": {
        "colab": {
          "base_uri": "https://localhost:8080/"
        },
        "id": "f4a9a1bc",
        "outputId": "2fcdf5b8-f763-4b0b-abc0-ba7738ef14de"
      },
      "outputs": [
        {
          "output_type": "execute_result",
          "data": {
            "text/plain": [
              "2"
            ]
          },
          "metadata": {},
          "execution_count": 1
        }
      ],
      "source": [
        "1 + 1"
      ]
    },
    {
      "cell_type": "code",
      "execution_count": 2,
      "id": "6e14dea6",
      "metadata": {
        "colab": {
          "base_uri": "https://localhost:8080/"
        },
        "id": "6e14dea6",
        "outputId": "9394b7b8-d84c-4648-a61a-6c1ea46ed22a"
      },
      "outputs": [
        {
          "output_type": "execute_result",
          "data": {
            "text/plain": [
              "20"
            ]
          },
          "metadata": {},
          "execution_count": 2
        }
      ],
      "source": [
        "4 * 5"
      ]
    },
    {
      "cell_type": "code",
      "execution_count": 3,
      "id": "5b1a4e73",
      "metadata": {
        "colab": {
          "base_uri": "https://localhost:8080/"
        },
        "id": "5b1a4e73",
        "outputId": "ae5afe40-711a-4f26-edc5-fef1e714d55a"
      },
      "outputs": [
        {
          "output_type": "execute_result",
          "data": {
            "text/plain": [
              "25"
            ]
          },
          "metadata": {},
          "execution_count": 3
        }
      ],
      "source": [
        "5 ** 2"
      ]
    },
    {
      "cell_type": "code",
      "execution_count": 4,
      "id": "e8d2c9be",
      "metadata": {
        "colab": {
          "base_uri": "https://localhost:8080/"
        },
        "id": "e8d2c9be",
        "outputId": "fa0d3e54-de11-44ec-86f3-d5953d5d0df1"
      },
      "outputs": [
        {
          "output_type": "execute_result",
          "data": {
            "text/plain": [
              "4.0"
            ]
          },
          "metadata": {},
          "execution_count": 4
        }
      ],
      "source": [
        "20 / 5"
      ]
    },
    {
      "cell_type": "code",
      "execution_count": 7,
      "id": "7c1cc1d2",
      "metadata": {
        "colab": {
          "base_uri": "https://localhost:8080/"
        },
        "id": "7c1cc1d2",
        "outputId": "3cb542ad-dafa-44f0-9f7f-5bb311c46aa5"
      },
      "outputs": [
        {
          "output_type": "execute_result",
          "data": {
            "text/plain": [
              "3"
            ]
          },
          "metadata": {},
          "execution_count": 7
        }
      ],
      "source": [
        "20 // 6"
      ]
    },
    {
      "cell_type": "code",
      "execution_count": 6,
      "id": "09a73309",
      "metadata": {
        "colab": {
          "base_uri": "https://localhost:8080/"
        },
        "id": "09a73309",
        "outputId": "a752ab6c-4e21-4dcc-bc1e-ac3eea4022c8"
      },
      "outputs": [
        {
          "output_type": "execute_result",
          "data": {
            "text/plain": [
              "2"
            ]
          },
          "metadata": {},
          "execution_count": 6
        }
      ],
      "source": [
        "20 % 6"
      ]
    },
    {
      "cell_type": "markdown",
      "id": "d161fedb",
      "metadata": {
        "id": "d161fedb"
      },
      "source": [
        "### Arithmetic Operators with Strings"
      ]
    },
    {
      "cell_type": "code",
      "execution_count": 8,
      "id": "f63375d4",
      "metadata": {
        "colab": {
          "base_uri": "https://localhost:8080/",
          "height": 35
        },
        "id": "f63375d4",
        "outputId": "4f5f973a-961e-4e50-fe91-b862da9eb804"
      },
      "outputs": [
        {
          "output_type": "execute_result",
          "data": {
            "text/plain": [
              "'string 1 string 2'"
            ],
            "application/vnd.google.colaboratory.intrinsic+json": {
              "type": "string"
            }
          },
          "metadata": {},
          "execution_count": 8
        }
      ],
      "source": [
        "'string 1 ' + 'string 2'"
      ]
    },
    {
      "cell_type": "code",
      "execution_count": 9,
      "id": "825db314",
      "metadata": {
        "colab": {
          "base_uri": "https://localhost:8080/",
          "height": 35
        },
        "id": "825db314",
        "outputId": "66a1b0b6-392b-4d56-c5a8-4fd118df2daf"
      },
      "outputs": [
        {
          "output_type": "execute_result",
          "data": {
            "text/plain": [
              "'- string 1 - - string 1 - - string 1 - - string 1 - '"
            ],
            "application/vnd.google.colaboratory.intrinsic+json": {
              "type": "string"
            }
          },
          "metadata": {},
          "execution_count": 9
        }
      ],
      "source": [
        "'- string 1 - ' * 4"
      ]
    },
    {
      "cell_type": "code",
      "execution_count": 10,
      "id": "5f6b6a00",
      "metadata": {
        "colab": {
          "base_uri": "https://localhost:8080/",
          "height": 141
        },
        "id": "5f6b6a00",
        "outputId": "fa1917fb-e558-4ca3-ca94-540bf8eddca3"
      },
      "outputs": [
        {
          "output_type": "error",
          "ename": "TypeError",
          "evalue": "can only concatenate str (not \"int\") to str",
          "traceback": [
            "\u001b[0;31m---------------------------------------------------------------------------\u001b[0m",
            "\u001b[0;31mTypeError\u001b[0m                                 Traceback (most recent call last)",
            "\u001b[0;32m<ipython-input-10-b83dd5eb1ac5>\u001b[0m in \u001b[0;36m<cell line: 0>\u001b[0;34m()\u001b[0m\n\u001b[0;32m----> 1\u001b[0;31m \u001b[0;34m' 1'\u001b[0m \u001b[0;34m+\u001b[0m \u001b[0;36m4\u001b[0m\u001b[0;34m\u001b[0m\u001b[0;34m\u001b[0m\u001b[0m\n\u001b[0m",
            "\u001b[0;31mTypeError\u001b[0m: can only concatenate str (not \"int\") to str"
          ]
        }
      ],
      "source": [
        "' 1' + 4"
      ]
    },
    {
      "cell_type": "markdown",
      "id": "5508c805",
      "metadata": {
        "id": "5508c805"
      },
      "source": [
        "## Comparison, Logical, and Membership Operators"
      ]
    },
    {
      "cell_type": "markdown",
      "id": "d9ce3a09",
      "metadata": {
        "id": "d9ce3a09"
      },
      "source": [
        "### Comparison Operators"
      ]
    },
    {
      "cell_type": "code",
      "execution_count": 11,
      "id": "3f56da71",
      "metadata": {
        "colab": {
          "base_uri": "https://localhost:8080/"
        },
        "id": "3f56da71",
        "outputId": "e495fc11-d9d8-4ef8-8654-deb2280c2ec5"
      },
      "outputs": [
        {
          "output_type": "execute_result",
          "data": {
            "text/plain": [
              "True"
            ]
          },
          "metadata": {},
          "execution_count": 11
        }
      ],
      "source": [
        "True == True"
      ]
    },
    {
      "cell_type": "code",
      "execution_count": 12,
      "id": "a881ca52",
      "metadata": {
        "colab": {
          "base_uri": "https://localhost:8080/"
        },
        "id": "a881ca52",
        "outputId": "b5e080aa-080a-474c-cd37-2d13bcf3fa58"
      },
      "outputs": [
        {
          "output_type": "execute_result",
          "data": {
            "text/plain": [
              "True"
            ]
          },
          "metadata": {},
          "execution_count": 12
        }
      ],
      "source": [
        "4 < 5"
      ]
    },
    {
      "cell_type": "code",
      "execution_count": 13,
      "id": "f69e4f6f",
      "metadata": {
        "colab": {
          "base_uri": "https://localhost:8080/"
        },
        "id": "f69e4f6f",
        "outputId": "532ef02c-01bd-4b1e-ebb8-2bdab2b40bb5"
      },
      "outputs": [
        {
          "output_type": "execute_result",
          "data": {
            "text/plain": [
              "True"
            ]
          },
          "metadata": {},
          "execution_count": 13
        }
      ],
      "source": [
        "5 <= 5"
      ]
    },
    {
      "cell_type": "code",
      "execution_count": 14,
      "id": "ee8391b9",
      "metadata": {
        "colab": {
          "base_uri": "https://localhost:8080/"
        },
        "id": "ee8391b9",
        "outputId": "b59baa57-63f5-40d6-a53b-02c1d360f550"
      },
      "outputs": [
        {
          "output_type": "execute_result",
          "data": {
            "text/plain": [
              "True"
            ]
          },
          "metadata": {},
          "execution_count": 14
        }
      ],
      "source": [
        "5 > 2"
      ]
    },
    {
      "cell_type": "code",
      "execution_count": 15,
      "id": "8e26b646",
      "metadata": {
        "colab": {
          "base_uri": "https://localhost:8080/"
        },
        "id": "8e26b646",
        "outputId": "a1c1b949-1ec5-4dbe-c576-58772f1ecc6f"
      },
      "outputs": [
        {
          "output_type": "execute_result",
          "data": {
            "text/plain": [
              "True"
            ]
          },
          "metadata": {},
          "execution_count": 15
        }
      ],
      "source": [
        "5 >=2"
      ]
    },
    {
      "cell_type": "markdown",
      "id": "81123eb2",
      "metadata": {
        "id": "81123eb2"
      },
      "source": [
        "### Logical Operators (and, or, not)"
      ]
    },
    {
      "cell_type": "code",
      "execution_count": 16,
      "id": "edae2069",
      "metadata": {
        "colab": {
          "base_uri": "https://localhost:8080/"
        },
        "id": "edae2069",
        "outputId": "7874627d-808e-44c2-955d-4f0984d71ef1"
      },
      "outputs": [
        {
          "output_type": "execute_result",
          "data": {
            "text/plain": [
              "True"
            ]
          },
          "metadata": {},
          "execution_count": 16
        }
      ],
      "source": [
        "True and True"
      ]
    },
    {
      "cell_type": "code",
      "execution_count": 17,
      "id": "39808456",
      "metadata": {
        "colab": {
          "base_uri": "https://localhost:8080/"
        },
        "id": "39808456",
        "outputId": "f6a9a973-102a-4ea2-c6ce-e2c3d4eaaecc"
      },
      "outputs": [
        {
          "output_type": "execute_result",
          "data": {
            "text/plain": [
              "False"
            ]
          },
          "metadata": {},
          "execution_count": 17
        }
      ],
      "source": [
        "True and False"
      ]
    },
    {
      "cell_type": "code",
      "execution_count": 18,
      "id": "e105cfae",
      "metadata": {
        "colab": {
          "base_uri": "https://localhost:8080/"
        },
        "id": "e105cfae",
        "outputId": "1814302c-bf82-4514-ff38-8c472e641648"
      },
      "outputs": [
        {
          "output_type": "execute_result",
          "data": {
            "text/plain": [
              "True"
            ]
          },
          "metadata": {},
          "execution_count": 18
        }
      ],
      "source": [
        "True or False"
      ]
    },
    {
      "cell_type": "code",
      "execution_count": 19,
      "id": "9efc6572",
      "metadata": {
        "colab": {
          "base_uri": "https://localhost:8080/"
        },
        "id": "9efc6572",
        "outputId": "f2557239-a0a4-42cc-cc6f-35b0f035964c"
      },
      "outputs": [
        {
          "output_type": "execute_result",
          "data": {
            "text/plain": [
              "False"
            ]
          },
          "metadata": {},
          "execution_count": 19
        }
      ],
      "source": [
        "False or False"
      ]
    },
    {
      "cell_type": "code",
      "execution_count": 20,
      "id": "7e730018",
      "metadata": {
        "colab": {
          "base_uri": "https://localhost:8080/"
        },
        "id": "7e730018",
        "outputId": "358aeeac-9a3d-4ee6-e76c-a44c611a4610"
      },
      "outputs": [
        {
          "output_type": "execute_result",
          "data": {
            "text/plain": [
              "False"
            ]
          },
          "metadata": {},
          "execution_count": 20
        }
      ],
      "source": [
        "not True"
      ]
    },
    {
      "cell_type": "code",
      "execution_count": 21,
      "id": "7ce9131d",
      "metadata": {
        "colab": {
          "base_uri": "https://localhost:8080/"
        },
        "id": "7ce9131d",
        "outputId": "516a017d-60bf-42f8-bc4b-95fc1fd429e5"
      },
      "outputs": [
        {
          "output_type": "execute_result",
          "data": {
            "text/plain": [
              "True"
            ]
          },
          "metadata": {},
          "execution_count": 21
        }
      ],
      "source": [
        "not False"
      ]
    },
    {
      "cell_type": "markdown",
      "id": "70fa4623",
      "metadata": {
        "id": "70fa4623"
      },
      "source": [
        "### Membership Operators"
      ]
    },
    {
      "cell_type": "code",
      "execution_count": 22,
      "id": "d7fcbe12",
      "metadata": {
        "colab": {
          "base_uri": "https://localhost:8080/"
        },
        "id": "d7fcbe12",
        "outputId": "cd4ef4ef-9049-485a-dca8-1ea00e0b1c36"
      },
      "outputs": [
        {
          "output_type": "execute_result",
          "data": {
            "text/plain": [
              "True"
            ]
          },
          "metadata": {},
          "execution_count": 22
        }
      ],
      "source": [
        "1 in [1,2,3,4,5]"
      ]
    },
    {
      "cell_type": "code",
      "execution_count": 23,
      "id": "051cb18c",
      "metadata": {
        "colab": {
          "base_uri": "https://localhost:8080/"
        },
        "id": "051cb18c",
        "outputId": "99c102c2-26bf-490c-ee90-6ef53b1afd71"
      },
      "outputs": [
        {
          "output_type": "execute_result",
          "data": {
            "text/plain": [
              "True"
            ]
          },
          "metadata": {},
          "execution_count": 23
        }
      ],
      "source": [
        "10 not in [1,2,3,4,5]"
      ]
    },
    {
      "cell_type": "code",
      "execution_count": 24,
      "id": "e032e25c",
      "metadata": {
        "colab": {
          "base_uri": "https://localhost:8080/"
        },
        "id": "e032e25c",
        "outputId": "0801b322-d6b0-403d-c305-8bef4656e947"
      },
      "outputs": [
        {
          "output_type": "execute_result",
          "data": {
            "text/plain": [
              "False"
            ]
          },
          "metadata": {},
          "execution_count": 24
        }
      ],
      "source": [
        "'cat' not in 'my pet cat'"
      ]
    },
    {
      "cell_type": "code",
      "execution_count": 24,
      "id": "142e2fca",
      "metadata": {
        "id": "142e2fca"
      },
      "outputs": [],
      "source": []
    }
  ],
  "metadata": {
    "kernelspec": {
      "display_name": "Python 3 (ipykernel)",
      "language": "python",
      "name": "python3"
    },
    "language_info": {
      "codemirror_mode": {
        "name": "ipython",
        "version": 3
      },
      "file_extension": ".py",
      "mimetype": "text/x-python",
      "name": "python",
      "nbconvert_exporter": "python",
      "pygments_lexer": "ipython3",
      "version": "3.9.13"
    },
    "colab": {
      "provenance": [],
      "include_colab_link": true
    }
  },
  "nbformat": 4,
  "nbformat_minor": 5
}