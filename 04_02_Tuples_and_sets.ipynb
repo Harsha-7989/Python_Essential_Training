{
  "cells": [
    {
      "cell_type": "markdown",
      "metadata": {
        "id": "view-in-github",
        "colab_type": "text"
      },
      "source": [
        "<a href=\"https://colab.research.google.com/github/Harsha-7989/Python_Essential_Training/blob/main/04_02_Tuples_and_sets.ipynb\" target=\"_parent\"><img src=\"https://colab.research.google.com/assets/colab-badge.svg\" alt=\"Open In Colab\"/></a>"
      ]
    },
    {
      "cell_type": "markdown",
      "id": "9ace3b36",
      "metadata": {
        "id": "9ace3b36"
      },
      "source": [
        "## Sets"
      ]
    },
    {
      "cell_type": "code",
      "execution_count": 1,
      "id": "d2f6b728",
      "metadata": {
        "colab": {
          "base_uri": "https://localhost:8080/"
        },
        "id": "d2f6b728",
        "outputId": "3c0f7919-5797-4025-96b6-a4e9fca97f60"
      },
      "outputs": [
        {
          "output_type": "execute_result",
          "data": {
            "text/plain": [
              "{'a', 'b', 'c'}"
            ]
          },
          "metadata": {},
          "execution_count": 1
        }
      ],
      "source": [
        "mySet = {'a', 'b', 'c'}\n",
        "mySet"
      ]
    },
    {
      "cell_type": "code",
      "execution_count": 2,
      "id": "8aefd2cd",
      "metadata": {
        "id": "8aefd2cd"
      },
      "outputs": [],
      "source": [
        "mySet = set(('a', 'b', 'c'))"
      ]
    },
    {
      "cell_type": "code",
      "execution_count": 3,
      "id": "e101dd56",
      "metadata": {
        "colab": {
          "base_uri": "https://localhost:8080/"
        },
        "id": "e101dd56",
        "outputId": "190172e4-0f17-41ad-d050-fa45f8fd88cc"
      },
      "outputs": [
        {
          "output_type": "execute_result",
          "data": {
            "text/plain": [
              "{'a', 'b', 'c'}"
            ]
          },
          "metadata": {},
          "execution_count": 3
        }
      ],
      "source": [
        "mySet"
      ]
    },
    {
      "cell_type": "code",
      "execution_count": 4,
      "id": "69200543",
      "metadata": {
        "colab": {
          "base_uri": "https://localhost:8080/"
        },
        "id": "69200543",
        "outputId": "392aeea5-91e8-4b7a-c1de-9727e380db71"
      },
      "outputs": [
        {
          "output_type": "execute_result",
          "data": {
            "text/plain": [
              "['c', 'b', 'a']"
            ]
          },
          "metadata": {},
          "execution_count": 4
        }
      ],
      "source": [
        "myList = ['a', 'b', 'b', 'c', 'c']\n",
        "myList = list(set(myList))\n",
        "myList"
      ]
    },
    {
      "cell_type": "code",
      "execution_count": 5,
      "id": "d72cab4d",
      "metadata": {
        "colab": {
          "base_uri": "https://localhost:8080/",
          "height": 141
        },
        "id": "d72cab4d",
        "outputId": "a5a94e04-3101-49bc-da84-1522271a6e38"
      },
      "outputs": [
        {
          "output_type": "error",
          "ename": "TypeError",
          "evalue": "'set' object is not subscriptable",
          "traceback": [
            "\u001b[0;31m---------------------------------------------------------------------------\u001b[0m",
            "\u001b[0;31mTypeError\u001b[0m                                 Traceback (most recent call last)",
            "\u001b[0;32m<ipython-input-5-da59c1434a77>\u001b[0m in \u001b[0;36m<cell line: 0>\u001b[0;34m()\u001b[0m\n\u001b[0;32m----> 1\u001b[0;31m \u001b[0mmySet\u001b[0m\u001b[0;34m[\u001b[0m\u001b[0;36m0\u001b[0m\u001b[0;34m]\u001b[0m\u001b[0;34m\u001b[0m\u001b[0;34m\u001b[0m\u001b[0m\n\u001b[0m",
            "\u001b[0;31mTypeError\u001b[0m: 'set' object is not subscriptable"
          ]
        }
      ],
      "source": [
        "mySet[0]"
      ]
    },
    {
      "cell_type": "code",
      "execution_count": 6,
      "id": "a806d16a",
      "metadata": {
        "colab": {
          "base_uri": "https://localhost:8080/",
          "height": 228
        },
        "id": "a806d16a",
        "outputId": "96d45587-d5e9-43ed-dd44-6cb4b72160b7"
      },
      "outputs": [
        {
          "output_type": "stream",
          "name": "stderr",
          "text": [
            "<>:2: SyntaxWarning: 'int' object is not subscriptable; perhaps you missed a comma?\n",
            "<>:2: SyntaxWarning: 'int' object is not subscriptable; perhaps you missed a comma?\n",
            "<ipython-input-6-bc0dafc5d3bb>:2: SyntaxWarning: 'int' object is not subscriptable; perhaps you missed a comma?\n",
            "  1[0]\n"
          ]
        },
        {
          "output_type": "error",
          "ename": "TypeError",
          "evalue": "'int' object is not subscriptable",
          "traceback": [
            "\u001b[0;31m---------------------------------------------------------------------------\u001b[0m",
            "\u001b[0;31mTypeError\u001b[0m                                 Traceback (most recent call last)",
            "\u001b[0;32m<ipython-input-6-bc0dafc5d3bb>\u001b[0m in \u001b[0;36m<cell line: 0>\u001b[0;34m()\u001b[0m\n\u001b[1;32m      1\u001b[0m \u001b[0mnumber\u001b[0m \u001b[0;34m=\u001b[0m \u001b[0;36m1\u001b[0m\u001b[0;34m\u001b[0m\u001b[0;34m\u001b[0m\u001b[0m\n\u001b[0;32m----> 2\u001b[0;31m \u001b[0;36m1\u001b[0m\u001b[0;34m[\u001b[0m\u001b[0;36m0\u001b[0m\u001b[0;34m]\u001b[0m\u001b[0;34m\u001b[0m\u001b[0;34m\u001b[0m\u001b[0m\n\u001b[0m",
            "\u001b[0;31mTypeError\u001b[0m: 'int' object is not subscriptable"
          ]
        }
      ],
      "source": [
        "number = 1\n",
        "1[0]"
      ]
    },
    {
      "cell_type": "code",
      "execution_count": 7,
      "id": "80dc46d0",
      "metadata": {
        "colab": {
          "base_uri": "https://localhost:8080/"
        },
        "id": "80dc46d0",
        "outputId": "3b62d9b4-0497-481e-c0af-d66e39054a14"
      },
      "outputs": [
        {
          "output_type": "execute_result",
          "data": {
            "text/plain": [
              "{'a', 'b', 'c', 'd'}"
            ]
          },
          "metadata": {},
          "execution_count": 7
        }
      ],
      "source": [
        "mySet.add('d')\n",
        "mySet"
      ]
    },
    {
      "cell_type": "code",
      "execution_count": 8,
      "id": "2a98889e",
      "metadata": {
        "colab": {
          "base_uri": "https://localhost:8080/"
        },
        "id": "2a98889e",
        "outputId": "c48614af-c3f0-41dd-f11b-9f567fc6108d"
      },
      "outputs": [
        {
          "output_type": "execute_result",
          "data": {
            "text/plain": [
              "True"
            ]
          },
          "metadata": {},
          "execution_count": 8
        }
      ],
      "source": [
        "'a' in mySet"
      ]
    },
    {
      "cell_type": "code",
      "execution_count": 9,
      "id": "a921cee9",
      "metadata": {
        "colab": {
          "base_uri": "https://localhost:8080/"
        },
        "id": "a921cee9",
        "outputId": "15d1fd05-73b5-41dd-c3d3-64f0881007a6"
      },
      "outputs": [
        {
          "output_type": "execute_result",
          "data": {
            "text/plain": [
              "False"
            ]
          },
          "metadata": {},
          "execution_count": 9
        }
      ],
      "source": [
        "'z' in mySet"
      ]
    },
    {
      "cell_type": "code",
      "execution_count": 10,
      "id": "ab1b620c",
      "metadata": {
        "colab": {
          "base_uri": "https://localhost:8080/"
        },
        "id": "ab1b620c",
        "outputId": "29b871d3-f919-49a7-8698-d6014cfce670"
      },
      "outputs": [
        {
          "output_type": "execute_result",
          "data": {
            "text/plain": [
              "4"
            ]
          },
          "metadata": {},
          "execution_count": 10
        }
      ],
      "source": [
        "len(mySet)"
      ]
    },
    {
      "cell_type": "code",
      "execution_count": 11,
      "id": "e6e31f21",
      "metadata": {
        "colab": {
          "base_uri": "https://localhost:8080/"
        },
        "id": "e6e31f21",
        "outputId": "5ae65d92-bc64-456d-a2b6-f94e3015187f"
      },
      "outputs": [
        {
          "output_type": "stream",
          "name": "stdout",
          "text": [
            "c\n",
            "b\n",
            "d\n",
            "a\n"
          ]
        }
      ],
      "source": [
        "while len(mySet):\n",
        "    print(mySet.pop())"
      ]
    },
    {
      "cell_type": "code",
      "execution_count": 12,
      "id": "feb2c369",
      "metadata": {
        "colab": {
          "base_uri": "https://localhost:8080/"
        },
        "id": "feb2c369",
        "outputId": "c7d3200b-705d-473f-a3d5-40c812f4333f"
      },
      "outputs": [
        {
          "output_type": "execute_result",
          "data": {
            "text/plain": [
              "set()"
            ]
          },
          "metadata": {},
          "execution_count": 12
        }
      ],
      "source": [
        "mySet"
      ]
    },
    {
      "cell_type": "code",
      "execution_count": 13,
      "id": "f46ecc23",
      "metadata": {
        "id": "f46ecc23"
      },
      "outputs": [],
      "source": [
        "mySet = {'a', 'b', 'c'}"
      ]
    },
    {
      "cell_type": "code",
      "execution_count": 14,
      "id": "db7970a1",
      "metadata": {
        "id": "db7970a1"
      },
      "outputs": [],
      "source": [
        "mySet.discard('a')"
      ]
    },
    {
      "cell_type": "code",
      "execution_count": 15,
      "id": "8831c30e",
      "metadata": {
        "colab": {
          "base_uri": "https://localhost:8080/"
        },
        "id": "8831c30e",
        "outputId": "86562dd3-ebdf-4997-8ccf-415bce396146"
      },
      "outputs": [
        {
          "output_type": "execute_result",
          "data": {
            "text/plain": [
              "{'b', 'c'}"
            ]
          },
          "metadata": {},
          "execution_count": 15
        }
      ],
      "source": [
        "mySet"
      ]
    },
    {
      "cell_type": "markdown",
      "id": "f39e6aee",
      "metadata": {
        "id": "f39e6aee"
      },
      "source": [
        "## Tuples"
      ]
    },
    {
      "cell_type": "code",
      "execution_count": 16,
      "id": "98151b6a",
      "metadata": {
        "colab": {
          "base_uri": "https://localhost:8080/"
        },
        "id": "98151b6a",
        "outputId": "7e7a6dcf-082f-40f1-f22b-86ef39a31d3c"
      },
      "outputs": [
        {
          "output_type": "execute_result",
          "data": {
            "text/plain": [
              "('a', 'b', 'c')"
            ]
          },
          "metadata": {},
          "execution_count": 16
        }
      ],
      "source": [
        "myTuple = ('a', 'b', 'c')\n",
        "myTuple"
      ]
    },
    {
      "cell_type": "code",
      "execution_count": 17,
      "id": "2841cbc2",
      "metadata": {
        "colab": {
          "base_uri": "https://localhost:8080/",
          "height": 35
        },
        "id": "2841cbc2",
        "outputId": "f925772c-aca2-4e6b-9eeb-89ab73fb34c3"
      },
      "outputs": [
        {
          "output_type": "execute_result",
          "data": {
            "text/plain": [
              "'a'"
            ],
            "application/vnd.google.colaboratory.intrinsic+json": {
              "type": "string"
            }
          },
          "metadata": {},
          "execution_count": 17
        }
      ],
      "source": [
        "myTuple[0]"
      ]
    },
    {
      "cell_type": "code",
      "execution_count": 18,
      "id": "42b2f324",
      "metadata": {
        "colab": {
          "base_uri": "https://localhost:8080/",
          "height": 141
        },
        "id": "42b2f324",
        "outputId": "d814b839-bad2-4954-a85a-72dbd29db50c"
      },
      "outputs": [
        {
          "output_type": "error",
          "ename": "TypeError",
          "evalue": "'tuple' object does not support item assignment",
          "traceback": [
            "\u001b[0;31m---------------------------------------------------------------------------\u001b[0m",
            "\u001b[0;31mTypeError\u001b[0m                                 Traceback (most recent call last)",
            "\u001b[0;32m<ipython-input-18-aac5f24e0c0d>\u001b[0m in \u001b[0;36m<cell line: 0>\u001b[0;34m()\u001b[0m\n\u001b[0;32m----> 1\u001b[0;31m \u001b[0mmyTuple\u001b[0m\u001b[0;34m[\u001b[0m\u001b[0;36m0\u001b[0m\u001b[0;34m]\u001b[0m \u001b[0;34m=\u001b[0m \u001b[0;34m'd'\u001b[0m\u001b[0;34m\u001b[0m\u001b[0;34m\u001b[0m\u001b[0m\n\u001b[0m",
            "\u001b[0;31mTypeError\u001b[0m: 'tuple' object does not support item assignment"
          ]
        }
      ],
      "source": [
        "myTuple[0] = 'd'"
      ]
    },
    {
      "cell_type": "code",
      "execution_count": 19,
      "id": "1f64ecd4",
      "metadata": {
        "colab": {
          "base_uri": "https://localhost:8080/"
        },
        "id": "1f64ecd4",
        "outputId": "369126ba-e59f-4858-f29e-cbab73b81237"
      },
      "outputs": [
        {
          "output_type": "execute_result",
          "data": {
            "text/plain": [
              "tuple"
            ]
          },
          "metadata": {},
          "execution_count": 19
        }
      ],
      "source": [
        "def returnsMultipleValues():\n",
        "    return 1,2,3\n",
        "\n",
        "type(returnsMultipleValues())"
      ]
    },
    {
      "cell_type": "code",
      "execution_count": 20,
      "id": "ecca91c0",
      "metadata": {
        "id": "ecca91c0"
      },
      "outputs": [],
      "source": [
        "myTuple = (1,2,3)"
      ]
    },
    {
      "cell_type": "code",
      "execution_count": 21,
      "id": "08d209bb",
      "metadata": {
        "colab": {
          "base_uri": "https://localhost:8080/"
        },
        "id": "08d209bb",
        "outputId": "300ccd89-467d-4602-afc4-697d293dc838"
      },
      "outputs": [
        {
          "output_type": "execute_result",
          "data": {
            "text/plain": [
              "tuple"
            ]
          },
          "metadata": {},
          "execution_count": 21
        }
      ],
      "source": [
        "type(myTuple)"
      ]
    },
    {
      "cell_type": "code",
      "execution_count": 22,
      "id": "0c5c57a0",
      "metadata": {
        "id": "0c5c57a0"
      },
      "outputs": [],
      "source": [
        "a, b, c = returnsMultipleValues()"
      ]
    },
    {
      "cell_type": "code",
      "execution_count": 23,
      "id": "d8f3b2cf",
      "metadata": {
        "colab": {
          "base_uri": "https://localhost:8080/"
        },
        "id": "d8f3b2cf",
        "outputId": "e3391de1-3a9d-4e0c-9fd5-74745a81a08d"
      },
      "outputs": [
        {
          "output_type": "stream",
          "name": "stdout",
          "text": [
            "1\n",
            "2\n",
            "3\n"
          ]
        }
      ],
      "source": [
        "print(a)\n",
        "print(b)\n",
        "print(c)"
      ]
    },
    {
      "cell_type": "code",
      "execution_count": null,
      "id": "de8a9af3",
      "metadata": {
        "id": "de8a9af3"
      },
      "outputs": [],
      "source": []
    }
  ],
  "metadata": {
    "kernelspec": {
      "display_name": "Python 3 (ipykernel)",
      "language": "python",
      "name": "python3"
    },
    "language_info": {
      "codemirror_mode": {
        "name": "ipython",
        "version": 3
      },
      "file_extension": ".py",
      "mimetype": "text/x-python",
      "name": "python",
      "nbconvert_exporter": "python",
      "pygments_lexer": "ipython3",
      "version": "3.10.2"
    },
    "colab": {
      "provenance": [],
      "include_colab_link": true
    }
  },
  "nbformat": 4,
  "nbformat_minor": 5
}