{
  "cells": [
    {
      "cell_type": "markdown",
      "metadata": {
        "id": "view-in-github",
        "colab_type": "text"
      },
      "source": [
        "<a href=\"https://colab.research.google.com/github/Harsha-7989/Python_Essential_Training/blob/main/04_04_List_Comprehensions.ipynb\" target=\"_parent\"><img src=\"https://colab.research.google.com/assets/colab-badge.svg\" alt=\"Open In Colab\"/></a>"
      ]
    },
    {
      "cell_type": "markdown",
      "id": "345ce831",
      "metadata": {
        "id": "345ce831"
      },
      "source": [
        "## List Comprehensions"
      ]
    },
    {
      "cell_type": "code",
      "execution_count": 1,
      "id": "1ac3c215",
      "metadata": {
        "colab": {
          "base_uri": "https://localhost:8080/"
        },
        "id": "1ac3c215",
        "outputId": "4311a27a-054a-4d16-9fc7-137db6231b23"
      },
      "outputs": [
        {
          "output_type": "execute_result",
          "data": {
            "text/plain": [
              "[2, 4, 6, 8, 10]"
            ]
          },
          "metadata": {},
          "execution_count": 1
        }
      ],
      "source": [
        "myList = [1,2,3,4,5]\n",
        "[2*item for item in myList]"
      ]
    },
    {
      "cell_type": "markdown",
      "id": "21948942",
      "metadata": {
        "id": "21948942"
      },
      "source": [
        "### List comprehensions with filters"
      ]
    },
    {
      "cell_type": "code",
      "execution_count": 2,
      "id": "4d3e4c21",
      "metadata": {
        "colab": {
          "base_uri": "https://localhost:8080/"
        },
        "id": "4d3e4c21",
        "outputId": "0f002c2a-ad82-4d42-96de-6b7e05079202"
      },
      "outputs": [
        {
          "output_type": "execute_result",
          "data": {
            "text/plain": [
              "[0, 10, 20, 30, 40, 50, 60, 70, 80, 90]"
            ]
          },
          "metadata": {},
          "execution_count": 2
        }
      ],
      "source": [
        "myList = list(range(100))\n",
        "filteredList = [item for item in myList if item % 10 == 0]\n",
        "filteredList"
      ]
    },
    {
      "cell_type": "code",
      "execution_count": 3,
      "id": "677c0c15",
      "metadata": {
        "colab": {
          "base_uri": "https://localhost:8080/"
        },
        "id": "677c0c15",
        "outputId": "ae171323-1919-4c51-d316-4e698a77c6ee"
      },
      "outputs": [
        {
          "output_type": "stream",
          "name": "stdout",
          "text": [
            "[0, 1, 2, 10, 11, 12, 20, 21, 22, 30, 31, 32, 40, 41, 42, 50, 51, 52, 60, 61, 62, 70, 71, 72, 80, 81, 82, 90, 91, 92]\n"
          ]
        }
      ],
      "source": [
        "filteredList = [item for item in myList if item % 10 < 3]\n",
        "print(filteredList)"
      ]
    },
    {
      "cell_type": "markdown",
      "id": "6463db7f",
      "metadata": {
        "id": "6463db7f"
      },
      "source": [
        "### List comprehensions with functions"
      ]
    },
    {
      "cell_type": "code",
      "execution_count": 4,
      "id": "18b7d353",
      "metadata": {
        "colab": {
          "base_uri": "https://localhost:8080/"
        },
        "id": "18b7d353",
        "outputId": "6be69dfa-1f52-4d9a-c48f-fbc4b62eea27"
      },
      "outputs": [
        {
          "output_type": "execute_result",
          "data": {
            "text/plain": [
              "['My name is Ryan Mitchell', ' I live in Boston']"
            ]
          },
          "metadata": {},
          "execution_count": 4
        }
      ],
      "source": [
        "myString = 'My name is Ryan Mitchell. I live in Boston'\n",
        "myString.split('.')"
      ]
    },
    {
      "cell_type": "code",
      "execution_count": 5,
      "id": "097bb41d",
      "metadata": {
        "colab": {
          "base_uri": "https://localhost:8080/"
        },
        "id": "097bb41d",
        "outputId": "557ad752-d838-4a12-fb1d-f52482cce338"
      },
      "outputs": [
        {
          "output_type": "execute_result",
          "data": {
            "text/plain": [
              "['My', 'name', 'is', 'Ryan', 'Mitchell.', 'I', 'live', 'in', 'Boston']"
            ]
          },
          "metadata": {},
          "execution_count": 5
        }
      ],
      "source": [
        "myString.split()"
      ]
    },
    {
      "cell_type": "code",
      "execution_count": 6,
      "id": "bbcdc319",
      "metadata": {
        "colab": {
          "base_uri": "https://localhost:8080/"
        },
        "id": "bbcdc319",
        "outputId": "e24cecb3-efd5-4148-da96-78ccf0425ad9"
      },
      "outputs": [
        {
          "output_type": "execute_result",
          "data": {
            "text/plain": [
              "['my', 'name', 'is', 'ryan', 'mitchell', 'i', 'live', 'in', 'boston']"
            ]
          },
          "metadata": {},
          "execution_count": 6
        }
      ],
      "source": [
        "def cleanWord(word):\n",
        "    return word.replace('.', '').lower()\n",
        "\n",
        "[cleanWord(word) for word in myString.split()]"
      ]
    },
    {
      "cell_type": "code",
      "execution_count": 7,
      "id": "34281955",
      "metadata": {
        "colab": {
          "base_uri": "https://localhost:8080/"
        },
        "id": "34281955",
        "outputId": "e5038543-37ac-4059-b3d1-e055730742da"
      },
      "outputs": [
        {
          "output_type": "execute_result",
          "data": {
            "text/plain": [
              "['my', 'is', 'i', 'in']"
            ]
          },
          "metadata": {},
          "execution_count": 7
        }
      ],
      "source": [
        "[cleanWord(word) for word in myString.split() if len(cleanWord(word)) < 3]"
      ]
    },
    {
      "cell_type": "markdown",
      "id": "fcdadece",
      "metadata": {
        "id": "fcdadece"
      },
      "source": [
        "### Nested list comprehensions"
      ]
    },
    {
      "cell_type": "code",
      "execution_count": 8,
      "id": "08a10fed",
      "metadata": {
        "colab": {
          "base_uri": "https://localhost:8080/"
        },
        "id": "08a10fed",
        "outputId": "b9d5d0c1-d734-4ed2-9380-9a97feb7ed75"
      },
      "outputs": [
        {
          "output_type": "execute_result",
          "data": {
            "text/plain": [
              "[['my', 'name', 'is', 'ryan', 'mitchell'], ['i', 'live', 'in', 'boston']]"
            ]
          },
          "metadata": {},
          "execution_count": 8
        }
      ],
      "source": [
        "[[cleanWord(word) for word in sentence.split()] for sentence in myString.split('.')]"
      ]
    },
    {
      "cell_type": "code",
      "execution_count": null,
      "id": "9653eb8d",
      "metadata": {
        "id": "9653eb8d"
      },
      "outputs": [],
      "source": []
    }
  ],
  "metadata": {
    "kernelspec": {
      "display_name": "Python 3 (ipykernel)",
      "language": "python",
      "name": "python3"
    },
    "language_info": {
      "codemirror_mode": {
        "name": "ipython",
        "version": 3
      },
      "file_extension": ".py",
      "mimetype": "text/x-python",
      "name": "python",
      "nbconvert_exporter": "python",
      "pygments_lexer": "ipython3",
      "version": "3.10.2"
    },
    "colab": {
      "provenance": [],
      "include_colab_link": true
    }
  },
  "nbformat": 4,
  "nbformat_minor": 5
}