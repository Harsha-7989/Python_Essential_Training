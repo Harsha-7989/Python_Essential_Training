{
  "cells": [
    {
      "cell_type": "markdown",
      "metadata": {
        "id": "view-in-github",
        "colab_type": "text"
      },
      "source": [
        "<a href=\"https://colab.research.google.com/github/Harsha-7989/Python_Essential_Training/blob/main/02_04_ControlFlow.ipynb\" target=\"_parent\"><img src=\"https://colab.research.google.com/assets/colab-badge.svg\" alt=\"Open In Colab\"/></a>"
      ]
    },
    {
      "cell_type": "markdown",
      "id": "4e835ee3",
      "metadata": {
        "id": "4e835ee3"
      },
      "source": [
        "## Control Flow"
      ]
    },
    {
      "cell_type": "markdown",
      "id": "2a65107b",
      "metadata": {
        "id": "2a65107b"
      },
      "source": [
        "### If / Else statements"
      ]
    },
    {
      "cell_type": "code",
      "execution_count": 1,
      "id": "03d16962",
      "metadata": {
        "colab": {
          "base_uri": "https://localhost:8080/"
        },
        "id": "03d16962",
        "outputId": "99147ec4-6eb0-443a-ff69-91f4e3a63ba7"
      },
      "outputs": [
        {
          "output_type": "stream",
          "name": "stdout",
          "text": [
            "It is true!\n",
            "Also print this\n",
            "Always print this\n"
          ]
        }
      ],
      "source": [
        "a = True\n",
        "if a:\n",
        "    print('It is true!')\n",
        "    print('Also print this')\n",
        "else:\n",
        "    print('It is false!')\n",
        "print('Always print this')"
      ]
    },
    {
      "cell_type": "code",
      "execution_count": 2,
      "id": "c250abc7",
      "metadata": {
        "colab": {
          "base_uri": "https://localhost:8080/"
        },
        "id": "c250abc7",
        "outputId": "1860f7b6-30e6-4cad-9aaa-a9e0e3d49626"
      },
      "outputs": [
        {
          "output_type": "stream",
          "name": "stdout",
          "text": [
            "It is true!\n",
            "Also print this\n",
            "Always print this\n"
          ]
        }
      ],
      "source": [
        "a = True\n",
        "b = False\n",
        "c = True\n",
        "if a:\n",
        "    print('It is true!')\n",
        "    print('Also print this')\n",
        "    if b:\n",
        "        print('Both are true')\n",
        "        if c:\n",
        "            print('All three are true')\n",
        "else:\n",
        "    print('It is false!')\n",
        "print('Always print this')"
      ]
    },
    {
      "cell_type": "markdown",
      "id": "ecc930e8",
      "metadata": {
        "id": "ecc930e8"
      },
      "source": [
        "### For loops"
      ]
    },
    {
      "cell_type": "code",
      "execution_count": 3,
      "id": "8b49fa67",
      "metadata": {
        "colab": {
          "base_uri": "https://localhost:8080/"
        },
        "id": "8b49fa67",
        "outputId": "8f9684b6-a0b7-4deb-c99d-831acfc3076b"
      },
      "outputs": [
        {
          "output_type": "stream",
          "name": "stdout",
          "text": [
            "1\n",
            "2\n",
            "3\n",
            "4\n",
            "5\n"
          ]
        }
      ],
      "source": [
        "a = [1,2,3,4,5]\n",
        "for number in a:\n",
        "    print(number)"
      ]
    },
    {
      "cell_type": "code",
      "execution_count": 4,
      "id": "55d76100",
      "metadata": {
        "colab": {
          "base_uri": "https://localhost:8080/"
        },
        "id": "55d76100",
        "outputId": "191e5164-4f44-4b21-d8c8-45a0e01e9c62"
      },
      "outputs": [
        {
          "output_type": "execute_result",
          "data": {
            "text/plain": [
              "True"
            ]
          },
          "metadata": {},
          "execution_count": 4
        }
      ],
      "source": [
        "4 in a"
      ]
    },
    {
      "cell_type": "markdown",
      "id": "8b4d6361",
      "metadata": {
        "id": "8b4d6361"
      },
      "source": [
        "### While loops"
      ]
    },
    {
      "cell_type": "code",
      "execution_count": 5,
      "id": "053eb644",
      "metadata": {
        "colab": {
          "base_uri": "https://localhost:8080/"
        },
        "id": "053eb644",
        "outputId": "dc032ead-e3f0-47eb-b048-9b0baea391b3"
      },
      "outputs": [
        {
          "output_type": "stream",
          "name": "stdout",
          "text": [
            "0\n",
            "1\n",
            "2\n",
            "3\n",
            "4\n"
          ]
        }
      ],
      "source": [
        "a = 0\n",
        "while a < 5:\n",
        "    print(a)\n",
        "    a = a + 1"
      ]
    },
    {
      "cell_type": "code",
      "execution_count": 5,
      "id": "f8052766",
      "metadata": {
        "id": "f8052766"
      },
      "outputs": [],
      "source": []
    }
  ],
  "metadata": {
    "kernelspec": {
      "display_name": "Python 3 (ipykernel)",
      "language": "python",
      "name": "python3"
    },
    "language_info": {
      "codemirror_mode": {
        "name": "ipython",
        "version": 3
      },
      "file_extension": ".py",
      "mimetype": "text/x-python",
      "name": "python",
      "nbconvert_exporter": "python",
      "pygments_lexer": "ipython3",
      "version": "3.9.13"
    },
    "colab": {
      "provenance": [],
      "include_colab_link": true
    }
  },
  "nbformat": 4,
  "nbformat_minor": 5
}