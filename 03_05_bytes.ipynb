{
  "cells": [
    {
      "cell_type": "markdown",
      "metadata": {
        "id": "view-in-github",
        "colab_type": "text"
      },
      "source": [
        "<a href=\"https://colab.research.google.com/github/Harsha-7989/Python_Essential_Training/blob/main/03_05_bytes.ipynb\" target=\"_parent\"><img src=\"https://colab.research.google.com/assets/colab-badge.svg\" alt=\"Open In Colab\"/></a>"
      ]
    },
    {
      "cell_type": "markdown",
      "id": "fcb242f6",
      "metadata": {
        "id": "fcb242f6"
      },
      "source": [
        "### Bytes"
      ]
    },
    {
      "cell_type": "code",
      "execution_count": 1,
      "id": "3c3ee6d8",
      "metadata": {
        "colab": {
          "base_uri": "https://localhost:8080/"
        },
        "id": "3c3ee6d8",
        "outputId": "59078652-1df6-4309-cdf8-f2465a76d1db"
      },
      "outputs": [
        {
          "output_type": "execute_result",
          "data": {
            "text/plain": [
              "b'\\x00\\x00\\x00\\x00'"
            ]
          },
          "metadata": {},
          "execution_count": 1
        }
      ],
      "source": [
        "bytes(4)"
      ]
    },
    {
      "cell_type": "code",
      "execution_count": 2,
      "id": "9a254973",
      "metadata": {
        "colab": {
          "base_uri": "https://localhost:8080/"
        },
        "id": "9a254973",
        "outputId": "d265fa45-0653-4175-9090-2e14d0a73547"
      },
      "outputs": [
        {
          "output_type": "execute_result",
          "data": {
            "text/plain": [
              "b'\\xf0\\x9f\\x99\\x84'"
            ]
          },
          "metadata": {},
          "execution_count": 2
        }
      ],
      "source": [
        "smileyBytes = bytes('🙄', 'utf-8')\n",
        "smileyBytes"
      ]
    },
    {
      "cell_type": "code",
      "execution_count": 3,
      "id": "a18b1572",
      "metadata": {
        "colab": {
          "base_uri": "https://localhost:8080/",
          "height": 35
        },
        "id": "a18b1572",
        "outputId": "9c02bbea-d7b4-404c-84a7-61f720b29b35"
      },
      "outputs": [
        {
          "output_type": "execute_result",
          "data": {
            "text/plain": [
              "'🙄'"
            ],
            "application/vnd.google.colaboratory.intrinsic+json": {
              "type": "string"
            }
          },
          "metadata": {},
          "execution_count": 3
        }
      ],
      "source": [
        "smileyBytes.decode('utf-8')"
      ]
    },
    {
      "cell_type": "code",
      "execution_count": 4,
      "id": "48a506cd",
      "metadata": {
        "id": "48a506cd"
      },
      "outputs": [],
      "source": [
        "smileyBytes = bytearray('🙄', 'utf-8')"
      ]
    },
    {
      "cell_type": "code",
      "execution_count": 5,
      "id": "5e920566",
      "metadata": {
        "colab": {
          "base_uri": "https://localhost:8080/"
        },
        "id": "5e920566",
        "outputId": "c928638c-1290-4631-f46f-b8fae442e565"
      },
      "outputs": [
        {
          "output_type": "execute_result",
          "data": {
            "text/plain": [
              "bytearray(b'\\xf0\\x9f\\x99\\x84')"
            ]
          },
          "metadata": {},
          "execution_count": 5
        }
      ],
      "source": [
        "smileyBytes"
      ]
    },
    {
      "cell_type": "code",
      "execution_count": 6,
      "id": "6f5cb2b0",
      "metadata": {
        "id": "6f5cb2b0"
      },
      "outputs": [],
      "source": [
        "smileyBytes[3] = int('85', 16)"
      ]
    },
    {
      "cell_type": "code",
      "execution_count": 7,
      "id": "8b5cd28d",
      "metadata": {
        "colab": {
          "base_uri": "https://localhost:8080/",
          "height": 35
        },
        "id": "8b5cd28d",
        "outputId": "a7af5f16-9666-46e2-8f42-eb944d003247"
      },
      "outputs": [
        {
          "output_type": "execute_result",
          "data": {
            "text/plain": [
              "'🙅'"
            ],
            "application/vnd.google.colaboratory.intrinsic+json": {
              "type": "string"
            }
          },
          "metadata": {},
          "execution_count": 7
        }
      ],
      "source": [
        "smileyBytes.decode('utf-8')"
      ]
    },
    {
      "cell_type": "code",
      "execution_count": null,
      "id": "fd1a7b83",
      "metadata": {
        "id": "fd1a7b83"
      },
      "outputs": [],
      "source": []
    }
  ],
  "metadata": {
    "kernelspec": {
      "display_name": "Python 3 (ipykernel)",
      "language": "python",
      "name": "python3"
    },
    "language_info": {
      "codemirror_mode": {
        "name": "ipython",
        "version": 3
      },
      "file_extension": ".py",
      "mimetype": "text/x-python",
      "name": "python",
      "nbconvert_exporter": "python",
      "pygments_lexer": "ipython3",
      "version": "3.9.13"
    },
    "colab": {
      "provenance": [],
      "include_colab_link": true
    }
  },
  "nbformat": 4,
  "nbformat_minor": 5
}