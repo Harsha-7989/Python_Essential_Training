{
  "cells": [
    {
      "cell_type": "markdown",
      "metadata": {
        "id": "view-in-github",
        "colab_type": "text"
      },
      "source": [
        "<a href=\"https://colab.research.google.com/github/Harsha-7989/Python_Essential_Training/blob/main/06_02_VariablesAndScope.ipynb\" target=\"_parent\"><img src=\"https://colab.research.google.com/assets/colab-badge.svg\" alt=\"Open In Colab\"/></a>"
      ]
    },
    {
      "cell_type": "markdown",
      "id": "a3234b19",
      "metadata": {
        "id": "a3234b19"
      },
      "source": [
        "## Function Scope"
      ]
    },
    {
      "cell_type": "code",
      "execution_count": 1,
      "id": "7e8c7923",
      "metadata": {
        "colab": {
          "base_uri": "https://localhost:8080/"
        },
        "id": "7e8c7923",
        "outputId": "7d08330e-f11e-434f-ba60-a1c295a2bc9a"
      },
      "outputs": [
        {
          "output_type": "stream",
          "name": "stdout",
          "text": [
            "(1, 2)\n",
            "{'operation': 'sum'}\n"
          ]
        }
      ],
      "source": [
        "def performOperation(*args, **kwargs):\n",
        "    print(args)\n",
        "    print(kwargs)\n",
        "\n",
        "performOperation(1, 2, operation='sum')"
      ]
    },
    {
      "cell_type": "markdown",
      "id": "3c713aa1",
      "metadata": {
        "id": "3c713aa1"
      },
      "source": [
        "### locals()"
      ]
    },
    {
      "cell_type": "code",
      "execution_count": 3,
      "id": "1d65e494",
      "metadata": {
        "colab": {
          "base_uri": "https://localhost:8080/"
        },
        "id": "1d65e494",
        "outputId": "8085d84e-c848-4c64-f707-c55d83ba9c3e"
      },
      "outputs": [
        {
          "output_type": "stream",
          "name": "stdout",
          "text": [
            "{'num1': 1, 'num2': 2, 'operation': 'multiply'}\n"
          ]
        }
      ],
      "source": [
        "def performOperation(num1, num2, operation='sum'):\n",
        "    print(locals())\n",
        "\n",
        "performOperation(1, 2, operation='multiply')\n"
      ]
    },
    {
      "cell_type": "code",
      "source": [
        "print(num1)"
      ],
      "metadata": {
        "colab": {
          "base_uri": "https://localhost:8080/",
          "height": 141
        },
        "id": "FCmcFHg2Yy9n",
        "outputId": "963b12e9-51c7-46d7-9866-c05a0b27de8e"
      },
      "id": "FCmcFHg2Yy9n",
      "execution_count": 5,
      "outputs": [
        {
          "output_type": "error",
          "ename": "NameError",
          "evalue": "name 'num1' is not defined",
          "traceback": [
            "\u001b[0;31m---------------------------------------------------------------------------\u001b[0m",
            "\u001b[0;31mNameError\u001b[0m                                 Traceback (most recent call last)",
            "\u001b[0;32m<ipython-input-5-01dfdea16339>\u001b[0m in \u001b[0;36m<cell line: 0>\u001b[0;34m()\u001b[0m\n\u001b[0;32m----> 1\u001b[0;31m \u001b[0mprint\u001b[0m\u001b[0;34m(\u001b[0m\u001b[0mnum1\u001b[0m\u001b[0;34m)\u001b[0m\u001b[0;34m\u001b[0m\u001b[0;34m\u001b[0m\u001b[0m\n\u001b[0m",
            "\u001b[0;31mNameError\u001b[0m: name 'num1' is not defined"
          ]
        }
      ]
    },
    {
      "cell_type": "markdown",
      "id": "cb7460d3",
      "metadata": {
        "id": "cb7460d3"
      },
      "source": [
        "### globals()"
      ]
    },
    {
      "cell_type": "code",
      "execution_count": 6,
      "id": "224306e8",
      "metadata": {
        "colab": {
          "base_uri": "https://localhost:8080/"
        },
        "id": "224306e8",
        "outputId": "7a19b003-c9bf-4fec-f777-c409f44d1011"
      },
      "outputs": [
        {
          "output_type": "execute_result",
          "data": {
            "text/plain": [
              "{'__name__': '__main__',\n",
              " '__doc__': 'Automatically created module for IPython interactive environment',\n",
              " '__package__': None,\n",
              " '__loader__': None,\n",
              " '__spec__': None,\n",
              " '__builtin__': <module 'builtins' (built-in)>,\n",
              " '__builtins__': <module 'builtins' (built-in)>,\n",
              " '_ih': ['',\n",
              "  \"def performOperation(*args, **kwargs):\\n    print(args)\\n    print(kwargs)\\n\\nperformOperation(1, 2, operation='sum')\",\n",
              "  \"def performOperation(num1, num2, operation='sum'):\\n    print(locals())\\n    \\nperformOperation(1, 2, operation='multiply')\\nprint(num1)\",\n",
              "  \"def performOperation(num1, num2, operation='sum'):\\n    print(locals())\\n    \\nperformOperation(1, 2, operation='multiply')\",\n",
              "  'print(num1)',\n",
              "  'print(num1)',\n",
              "  'globals()'],\n",
              " '_oh': {},\n",
              " '_dh': ['/content'],\n",
              " 'In': ['',\n",
              "  \"def performOperation(*args, **kwargs):\\n    print(args)\\n    print(kwargs)\\n\\nperformOperation(1, 2, operation='sum')\",\n",
              "  \"def performOperation(num1, num2, operation='sum'):\\n    print(locals())\\n    \\nperformOperation(1, 2, operation='multiply')\\nprint(num1)\",\n",
              "  \"def performOperation(num1, num2, operation='sum'):\\n    print(locals())\\n    \\nperformOperation(1, 2, operation='multiply')\",\n",
              "  'print(num1)',\n",
              "  'print(num1)',\n",
              "  'globals()'],\n",
              " 'Out': {},\n",
              " 'get_ipython': <bound method InteractiveShell.get_ipython of <google.colab._shell.Shell object at 0x789d44e74f10>>,\n",
              " 'exit': <IPython.core.autocall.ZMQExitAutocall at 0x789d44e77cd0>,\n",
              " 'quit': <IPython.core.autocall.ZMQExitAutocall at 0x789d44e77cd0>,\n",
              " '_': '',\n",
              " '__': '',\n",
              " '___': '',\n",
              " '_i': 'print(num1)',\n",
              " '_ii': 'print(num1)',\n",
              " '_iii': \"def performOperation(num1, num2, operation='sum'):\\n    print(locals())\\n    \\nperformOperation(1, 2, operation='multiply')\",\n",
              " '_i1': \"def performOperation(*args, **kwargs):\\n    print(args)\\n    print(kwargs)\\n\\nperformOperation(1, 2, operation='sum')\",\n",
              " 'performOperation': <function __main__.performOperation(num1, num2, operation='sum')>,\n",
              " '_i2': \"def performOperation(num1, num2, operation='sum'):\\n    print(locals())\\n    \\nperformOperation(1, 2, operation='multiply')\\nprint(num1)\",\n",
              " '_i3': \"def performOperation(num1, num2, operation='sum'):\\n    print(locals())\\n    \\nperformOperation(1, 2, operation='multiply')\",\n",
              " '_i4': 'print(num1)',\n",
              " '_i5': 'print(num1)',\n",
              " '_i6': 'globals()'}"
            ]
          },
          "metadata": {},
          "execution_count": 6
        }
      ],
      "source": [
        "globals()"
      ]
    },
    {
      "cell_type": "markdown",
      "id": "e4f3ceba",
      "metadata": {
        "id": "e4f3ceba"
      },
      "source": [
        "### Global and Local scope"
      ]
    },
    {
      "cell_type": "code",
      "execution_count": 7,
      "id": "ac5ac1b9",
      "metadata": {
        "colab": {
          "base_uri": "https://localhost:8080/"
        },
        "id": "ac5ac1b9",
        "outputId": "da87dac6-3605-428b-bbdd-281842c5c65d"
      },
      "outputs": [
        {
          "output_type": "stream",
          "name": "stdout",
          "text": [
            "Some global data\n",
            "{'varA': 1, 'varB': 2}\n",
            "Some global data\n",
            "{'varC': 3, 'varB': 4}\n"
          ]
        }
      ],
      "source": [
        "message = 'Some global data'\n",
        "\n",
        "def function1(varA, varB):\n",
        "    print(message)\n",
        "    print(locals())\n",
        "\n",
        "\n",
        "def function2(varC, varB):\n",
        "    print(message)\n",
        "    print(locals())\n",
        "\n",
        "function1(1, 2)\n",
        "function2(3, 4)"
      ]
    },
    {
      "cell_type": "code",
      "execution_count": 8,
      "id": "34839606",
      "metadata": {
        "colab": {
          "base_uri": "https://localhost:8080/"
        },
        "id": "34839606",
        "outputId": "1a6bf309-4da7-4a7a-8733-816f753eddc3"
      },
      "outputs": [
        {
          "output_type": "stream",
          "name": "stdout",
          "text": [
            "1\n",
            "Some local data\n",
            "{'varA': 1, 'varB': 2, 'message': 'Some local data'}\n",
            "2\n",
            "Some global data\n",
            "{'varC': 3, 'varB': 4}\n"
          ]
        }
      ],
      "source": [
        "message = 'Some global data'\n",
        "varA = 2\n",
        "def function1(varA, varB):\n",
        "    message = 'Some local data'\n",
        "    print(varA)\n",
        "    print(message)\n",
        "    print(locals())\n",
        "\n",
        "\n",
        "def function2(varC, varB):\n",
        "    print(varA)\n",
        "    print(message)\n",
        "    print(locals())\n",
        "\n",
        "function1(1, 2)\n",
        "function2(3, 4)"
      ]
    },
    {
      "cell_type": "code",
      "execution_count": 9,
      "id": "fb5b1343",
      "metadata": {
        "colab": {
          "base_uri": "https://localhost:8080/"
        },
        "id": "fb5b1343",
        "outputId": "e75526b6-e463-4234-be91-fc1c9aad21d4"
      },
      "outputs": [
        {
          "output_type": "stream",
          "name": "stdout",
          "text": [
            "1\n",
            "inner_function local scope: {'varA': 123, 'varB': 456}\n"
          ]
        }
      ],
      "source": [
        "def function1(varA, varB):\n",
        "    message = 'Some local data'\n",
        "    print(varA)\n",
        "    def inner_function(varA, varB):\n",
        "        print(f'inner_function local scope: {locals()}')\n",
        "\n",
        "    inner_function(123, 456)\n",
        "\n",
        "\n",
        "function1(1, 2)\n"
      ]
    },
    {
      "cell_type": "code",
      "execution_count": 10,
      "id": "8930f2aa",
      "metadata": {
        "colab": {
          "base_uri": "https://localhost:8080/"
        },
        "id": "8930f2aa",
        "outputId": "0e4a3433-07f9-4917-97bc-66ceb0203266"
      },
      "outputs": [
        {
          "output_type": "stream",
          "name": "stdout",
          "text": [
            "1\n",
            "{'varA': 1, 'varB': 2, 'message': 'Some local data', 'inner_function': <function function1.<locals>.inner_function at 0x789d40048900>}\n",
            "inner_function local scope: {'varA': 123, 'varB': 456}\n"
          ]
        }
      ],
      "source": [
        "def function1(varA, varB):\n",
        "    message = 'Some local data'\n",
        "    print(varA)\n",
        "    def inner_function(varA, varB):\n",
        "        print(f'inner_function local scope: {locals()}')\n",
        "\n",
        "    print(locals())\n",
        "    inner_function(123, 456)\n",
        "\n",
        "\n",
        "function1(1, 2)\n"
      ]
    },
    {
      "cell_type": "code",
      "execution_count": null,
      "id": "e12c6b2e",
      "metadata": {
        "id": "e12c6b2e"
      },
      "outputs": [],
      "source": []
    }
  ],
  "metadata": {
    "kernelspec": {
      "display_name": "Python 3 (ipykernel)",
      "language": "python",
      "name": "python3"
    },
    "language_info": {
      "codemirror_mode": {
        "name": "ipython",
        "version": 3
      },
      "file_extension": ".py",
      "mimetype": "text/x-python",
      "name": "python",
      "nbconvert_exporter": "python",
      "pygments_lexer": "ipython3",
      "version": "3.9.13"
    },
    "colab": {
      "provenance": [],
      "include_colab_link": true
    }
  },
  "nbformat": 4,
  "nbformat_minor": 5
}