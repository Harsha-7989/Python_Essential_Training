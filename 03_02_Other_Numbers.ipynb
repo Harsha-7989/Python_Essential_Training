{
  "cells": [
    {
      "cell_type": "markdown",
      "metadata": {
        "id": "view-in-github",
        "colab_type": "text"
      },
      "source": [
        "<a href=\"https://colab.research.google.com/github/Harsha-7989/Python_Essential_Training/blob/main/03_02_Other_Numbers.ipynb\" target=\"_parent\"><img src=\"https://colab.research.google.com/assets/colab-badge.svg\" alt=\"Open In Colab\"/></a>"
      ]
    },
    {
      "cell_type": "code",
      "execution_count": 1,
      "id": "6198165c",
      "metadata": {
        "id": "6198165c"
      },
      "outputs": [],
      "source": [
        "from decimal import Decimal, getcontext"
      ]
    },
    {
      "cell_type": "markdown",
      "id": "07c07c37",
      "metadata": {
        "id": "07c07c37"
      },
      "source": [
        "## Integers"
      ]
    },
    {
      "cell_type": "code",
      "execution_count": 2,
      "id": "90fc3a0f",
      "metadata": {
        "colab": {
          "base_uri": "https://localhost:8080/"
        },
        "id": "90fc3a0f",
        "outputId": "15194c45-8582-44b1-afa2-940e93df386b"
      },
      "outputs": [
        {
          "output_type": "execute_result",
          "data": {
            "text/plain": [
              "100"
            ]
          },
          "metadata": {},
          "execution_count": 2
        }
      ],
      "source": [
        "int('100')"
      ]
    },
    {
      "cell_type": "code",
      "execution_count": 4,
      "id": "d8b37c5e",
      "metadata": {
        "colab": {
          "base_uri": "https://localhost:8080/"
        },
        "id": "d8b37c5e",
        "outputId": "dcc772a9-7636-4b17-a5a5-3b886284b0d8"
      },
      "outputs": [
        {
          "output_type": "execute_result",
          "data": {
            "text/plain": [
              "4"
            ]
          },
          "metadata": {},
          "execution_count": 4
        }
      ],
      "source": [
        "int('100', 2)"
      ]
    },
    {
      "cell_type": "code",
      "execution_count": 7,
      "id": "4a827a52",
      "metadata": {
        "colab": {
          "base_uri": "https://localhost:8080/",
          "height": 141
        },
        "id": "4a827a52",
        "outputId": "0b3b7223-bfc2-429a-99ac-356d60571a4d"
      },
      "outputs": [
        {
          "output_type": "error",
          "ename": "TypeError",
          "evalue": "int() can't convert non-string with explicit base",
          "traceback": [
            "\u001b[0;31m---------------------------------------------------------------------------\u001b[0m",
            "\u001b[0;31mTypeError\u001b[0m                                 Traceback (most recent call last)",
            "\u001b[0;32m<ipython-input-7-28bbd083a888>\u001b[0m in \u001b[0;36m<cell line: 0>\u001b[0;34m()\u001b[0m\n\u001b[0;32m----> 1\u001b[0;31m \u001b[0mint\u001b[0m\u001b[0;34m(\u001b[0m\u001b[0;36m100\u001b[0m\u001b[0;34m,\u001b[0m \u001b[0;36m2\u001b[0m\u001b[0;34m)\u001b[0m\u001b[0;34m\u001b[0m\u001b[0;34m\u001b[0m\u001b[0m\n\u001b[0m",
            "\u001b[0;31mTypeError\u001b[0m: int() can't convert non-string with explicit base"
          ]
        }
      ],
      "source": [
        "int(100, 2)"
      ]
    },
    {
      "cell_type": "code",
      "execution_count": 8,
      "id": "a8a0e4f7",
      "metadata": {
        "colab": {
          "base_uri": "https://localhost:8080/"
        },
        "id": "a8a0e4f7",
        "outputId": "f9db250a-307c-4953-f7ef-3592a8186c6b"
      },
      "outputs": [
        {
          "output_type": "execute_result",
          "data": {
            "text/plain": [
              "427"
            ]
          },
          "metadata": {},
          "execution_count": 8
        }
      ],
      "source": [
        "\n",
        "int('1ab', 16)"
      ]
    },
    {
      "cell_type": "code",
      "execution_count": 9,
      "id": "f625c653",
      "metadata": {
        "colab": {
          "base_uri": "https://localhost:8080/"
        },
        "id": "f625c653",
        "outputId": "3d361c16-0a57-44f8-ff7d-131ac64db9a9"
      },
      "outputs": [
        {
          "output_type": "execute_result",
          "data": {
            "text/plain": [
              "0.19999999999999996"
            ]
          },
          "metadata": {},
          "execution_count": 9
        }
      ],
      "source": [
        "1.2 - 1.0"
      ]
    },
    {
      "cell_type": "markdown",
      "id": "8c7e7020",
      "metadata": {
        "id": "8c7e7020"
      },
      "source": [
        "## Decimals"
      ]
    },
    {
      "cell_type": "code",
      "execution_count": 10,
      "id": "0e9334d6",
      "metadata": {
        "colab": {
          "base_uri": "https://localhost:8080/"
        },
        "id": "0e9334d6",
        "outputId": "3e7925e0-1dd6-4d5f-9f30-4a0b58ed05df"
      },
      "outputs": [
        {
          "output_type": "execute_result",
          "data": {
            "text/plain": [
              "Context(prec=28, rounding=ROUND_HALF_EVEN, Emin=-999999, Emax=999999, capitals=1, clamp=0, flags=[], traps=[InvalidOperation, DivisionByZero, Overflow])"
            ]
          },
          "metadata": {},
          "execution_count": 10
        }
      ],
      "source": [
        "getcontext()"
      ]
    },
    {
      "cell_type": "code",
      "execution_count": 11,
      "id": "32dc75fb",
      "metadata": {
        "id": "32dc75fb"
      },
      "outputs": [],
      "source": [
        "getcontext().prec=4"
      ]
    },
    {
      "cell_type": "code",
      "execution_count": 12,
      "id": "fd4dad61",
      "metadata": {
        "colab": {
          "base_uri": "https://localhost:8080/"
        },
        "id": "fd4dad61",
        "outputId": "ae5f4446-a02a-49bb-bb50-557f6fca794e"
      },
      "outputs": [
        {
          "output_type": "execute_result",
          "data": {
            "text/plain": [
              "Context(prec=4, rounding=ROUND_HALF_EVEN, Emin=-999999, Emax=999999, capitals=1, clamp=0, flags=[], traps=[InvalidOperation, DivisionByZero, Overflow])"
            ]
          },
          "metadata": {},
          "execution_count": 12
        }
      ],
      "source": [
        "getcontext()"
      ]
    },
    {
      "cell_type": "code",
      "execution_count": 13,
      "id": "645adafe",
      "metadata": {
        "colab": {
          "base_uri": "https://localhost:8080/"
        },
        "id": "645adafe",
        "outputId": "1fb16a8a-8b9a-4cfc-d92c-8613b5a26814"
      },
      "outputs": [
        {
          "output_type": "execute_result",
          "data": {
            "text/plain": [
              "Decimal('0.3333')"
            ]
          },
          "metadata": {},
          "execution_count": 13
        }
      ],
      "source": [
        "Decimal(1) / Decimal(3)"
      ]
    },
    {
      "cell_type": "code",
      "execution_count": 14,
      "id": "4c4f9d41",
      "metadata": {
        "id": "4c4f9d41"
      },
      "outputs": [],
      "source": [
        "getcontext().prec=2"
      ]
    },
    {
      "cell_type": "code",
      "execution_count": 15,
      "id": "720466f4",
      "metadata": {
        "colab": {
          "base_uri": "https://localhost:8080/"
        },
        "id": "720466f4",
        "outputId": "9e3dc9ac-e008-46fe-f761-f95b504586c1"
      },
      "outputs": [
        {
          "output_type": "execute_result",
          "data": {
            "text/plain": [
              "Decimal('0.33')"
            ]
          },
          "metadata": {},
          "execution_count": 15
        }
      ],
      "source": [
        "Decimal(1) / Decimal(3)"
      ]
    },
    {
      "cell_type": "code",
      "execution_count": 16,
      "id": "1ae61cfc",
      "metadata": {
        "colab": {
          "base_uri": "https://localhost:8080/"
        },
        "id": "1ae61cfc",
        "outputId": "dd2245ef-d7b2-4c8b-8f3b-a61f25743734"
      },
      "outputs": [
        {
          "output_type": "execute_result",
          "data": {
            "text/plain": [
              "Decimal('3.140000000000000124344978758017532527446746826171875')"
            ]
          },
          "metadata": {},
          "execution_count": 16
        }
      ],
      "source": [
        "Decimal(3.14)"
      ]
    },
    {
      "cell_type": "code",
      "execution_count": 17,
      "id": "9463274c",
      "metadata": {
        "colab": {
          "base_uri": "https://localhost:8080/"
        },
        "id": "9463274c",
        "outputId": "aaff9401-260c-438d-f396-ad9423f70ae4"
      },
      "outputs": [
        {
          "output_type": "execute_result",
          "data": {
            "text/plain": [
              "Decimal('3.14')"
            ]
          },
          "metadata": {},
          "execution_count": 17
        }
      ],
      "source": [
        "Decimal('3.14')"
      ]
    },
    {
      "cell_type": "code",
      "execution_count": 18,
      "id": "03e53ec7",
      "metadata": {
        "colab": {
          "base_uri": "https://localhost:8080/"
        },
        "id": "03e53ec7",
        "outputId": "3e19684e-c68b-4568-cbdf-1c22cfbe6f33"
      },
      "outputs": [
        {
          "output_type": "execute_result",
          "data": {
            "text/plain": [
              "0.2"
            ]
          },
          "metadata": {},
          "execution_count": 18
        }
      ],
      "source": [
        "round(1.2 - 1.0, 2)"
      ]
    },
    {
      "cell_type": "code",
      "execution_count": 18,
      "id": "b33aadf1",
      "metadata": {
        "id": "b33aadf1"
      },
      "outputs": [],
      "source": []
    }
  ],
  "metadata": {
    "kernelspec": {
      "display_name": "Python 3 (ipykernel)",
      "language": "python",
      "name": "python3"
    },
    "language_info": {
      "codemirror_mode": {
        "name": "ipython",
        "version": 3
      },
      "file_extension": ".py",
      "mimetype": "text/x-python",
      "name": "python",
      "nbconvert_exporter": "python",
      "pygments_lexer": "ipython3",
      "version": "3.9.13"
    },
    "colab": {
      "provenance": [],
      "include_colab_link": true
    }
  },
  "nbformat": 4,
  "nbformat_minor": 5
}