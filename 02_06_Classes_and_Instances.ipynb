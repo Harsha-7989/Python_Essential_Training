{
  "cells": [
    {
      "cell_type": "markdown",
      "metadata": {
        "id": "view-in-github",
        "colab_type": "text"
      },
      "source": [
        "<a href=\"https://colab.research.google.com/github/Harsha-7989/Python_Essential_Training/blob/main/02_06_Classes_and_Instances.ipynb\" target=\"_parent\"><img src=\"https://colab.research.google.com/assets/colab-badge.svg\" alt=\"Open In Colab\"/></a>"
      ]
    },
    {
      "cell_type": "markdown",
      "id": "7e7cecd6",
      "metadata": {
        "id": "7e7cecd6"
      },
      "source": [
        "## Classes"
      ]
    },
    {
      "cell_type": "code",
      "execution_count": 1,
      "id": "d5cde69b",
      "metadata": {
        "id": "d5cde69b"
      },
      "outputs": [],
      "source": [
        "class Dog:\n",
        "    def __init__(self, name):\n",
        "        self.name = name\n",
        "        self.legs = 4\n",
        "\n",
        "    def speak(self):\n",
        "        print(self.name + ' says: Bark!')\n",
        "\n"
      ]
    },
    {
      "cell_type": "code",
      "execution_count": 2,
      "id": "5b3dde35",
      "metadata": {
        "id": "5b3dde35"
      },
      "outputs": [],
      "source": [
        "my_dog = Dog('Rover')\n",
        "another_dog = Dog('Fluffy')"
      ]
    },
    {
      "cell_type": "code",
      "execution_count": 3,
      "id": "ceed1af6",
      "metadata": {
        "colab": {
          "base_uri": "https://localhost:8080/"
        },
        "id": "ceed1af6",
        "outputId": "3ffc0efe-c61e-45b7-990d-22ce11320f64"
      },
      "outputs": [
        {
          "output_type": "stream",
          "name": "stdout",
          "text": [
            "Rover says: Bark!\n"
          ]
        }
      ],
      "source": [
        "my_dog.speak()"
      ]
    },
    {
      "cell_type": "code",
      "execution_count": 4,
      "id": "b85ea67b",
      "metadata": {
        "colab": {
          "base_uri": "https://localhost:8080/"
        },
        "id": "b85ea67b",
        "outputId": "34bb9496-ace0-44d9-819d-e37c441201e6"
      },
      "outputs": [
        {
          "output_type": "stream",
          "name": "stdout",
          "text": [
            "Fluffy says: Bark!\n"
          ]
        }
      ],
      "source": [
        "another_dog.speak()"
      ]
    },
    {
      "cell_type": "code",
      "execution_count": null,
      "id": "5d1838eb",
      "metadata": {
        "id": "5d1838eb"
      },
      "outputs": [],
      "source": []
    }
  ],
  "metadata": {
    "kernelspec": {
      "display_name": "Python 3 (ipykernel)",
      "language": "python",
      "name": "python3"
    },
    "language_info": {
      "codemirror_mode": {
        "name": "ipython",
        "version": 3
      },
      "file_extension": ".py",
      "mimetype": "text/x-python",
      "name": "python",
      "nbconvert_exporter": "python",
      "pygments_lexer": "ipython3",
      "version": "3.10.2"
    },
    "colab": {
      "provenance": [],
      "include_colab_link": true
    }
  },
  "nbformat": 4,
  "nbformat_minor": 5
}