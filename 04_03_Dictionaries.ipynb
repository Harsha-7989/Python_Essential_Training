{
  "cells": [
    {
      "cell_type": "markdown",
      "metadata": {
        "id": "view-in-github",
        "colab_type": "text"
      },
      "source": [
        "<a href=\"https://colab.research.google.com/github/Harsha-7989/Python_Essential_Training/blob/main/04_03_Dictionaries.ipynb\" target=\"_parent\"><img src=\"https://colab.research.google.com/assets/colab-badge.svg\" alt=\"Open In Colab\"/></a>"
      ]
    },
    {
      "cell_type": "code",
      "execution_count": 22,
      "id": "a6cd1c0a",
      "metadata": {
        "id": "a6cd1c0a"
      },
      "outputs": [],
      "source": [
        "from collections import defaultdict"
      ]
    },
    {
      "cell_type": "markdown",
      "id": "f635ede0",
      "metadata": {
        "id": "f635ede0"
      },
      "source": [
        "## Dictionaries"
      ]
    },
    {
      "cell_type": "code",
      "execution_count": 1,
      "id": "68d250c4",
      "metadata": {
        "colab": {
          "base_uri": "https://localhost:8080/"
        },
        "id": "68d250c4",
        "outputId": "b19146ff-6d7d-46d6-8a93-0e4a12987c9e"
      },
      "outputs": [
        {
          "output_type": "execute_result",
          "data": {
            "text/plain": [
              "{'a': 'aardvark', 'b': 'bear', 'c': 'cat'}"
            ]
          },
          "metadata": {},
          "execution_count": 1
        }
      ],
      "source": [
        "animals = {\n",
        "    'a': 'aardvark',\n",
        "    'b': 'bear',\n",
        "    'c': 'cat',\n",
        "}\n",
        "animals"
      ]
    },
    {
      "cell_type": "code",
      "execution_count": 2,
      "id": "841f1cd7",
      "metadata": {
        "colab": {
          "base_uri": "https://localhost:8080/",
          "height": 35
        },
        "id": "841f1cd7",
        "outputId": "8524798f-b98e-4643-b65a-7f7009f3dde9"
      },
      "outputs": [
        {
          "output_type": "execute_result",
          "data": {
            "text/plain": [
              "'aardvark'"
            ],
            "application/vnd.google.colaboratory.intrinsic+json": {
              "type": "string"
            }
          },
          "metadata": {},
          "execution_count": 2
        }
      ],
      "source": [
        "animals['a']"
      ]
    },
    {
      "cell_type": "code",
      "execution_count": 3,
      "id": "04782755",
      "metadata": {
        "id": "04782755"
      },
      "outputs": [],
      "source": [
        "animals['d'] = 'dog'"
      ]
    },
    {
      "cell_type": "code",
      "execution_count": 4,
      "id": "c65fd4ff",
      "metadata": {
        "colab": {
          "base_uri": "https://localhost:8080/"
        },
        "id": "c65fd4ff",
        "outputId": "6afb968d-b981-4686-d81d-bb7d61c201d3"
      },
      "outputs": [
        {
          "output_type": "execute_result",
          "data": {
            "text/plain": [
              "{'a': 'aardvark', 'b': 'bear', 'c': 'cat', 'd': 'dog'}"
            ]
          },
          "metadata": {},
          "execution_count": 4
        }
      ],
      "source": [
        "animals"
      ]
    },
    {
      "cell_type": "code",
      "execution_count": 5,
      "id": "1a5be2d9",
      "metadata": {
        "colab": {
          "base_uri": "https://localhost:8080/"
        },
        "id": "1a5be2d9",
        "outputId": "001b4fd2-ca8f-4a96-a626-b0f0f49c5f9f"
      },
      "outputs": [
        {
          "output_type": "execute_result",
          "data": {
            "text/plain": [
              "{'a': 'antelope', 'b': 'bear', 'c': 'cat', 'd': 'dog'}"
            ]
          },
          "metadata": {},
          "execution_count": 5
        }
      ],
      "source": [
        "animals['a'] = 'antelope'\n",
        "animals"
      ]
    },
    {
      "cell_type": "code",
      "execution_count": 6,
      "id": "a55c6d44",
      "metadata": {
        "colab": {
          "base_uri": "https://localhost:8080/"
        },
        "id": "a55c6d44",
        "outputId": "90f922d5-74b8-42b9-f20e-ee9330c49080"
      },
      "outputs": [
        {
          "output_type": "execute_result",
          "data": {
            "text/plain": [
              "dict_keys(['a', 'b', 'c', 'd'])"
            ]
          },
          "metadata": {},
          "execution_count": 6
        }
      ],
      "source": [
        "animals.keys()"
      ]
    },
    {
      "cell_type": "code",
      "execution_count": 7,
      "id": "4c851484",
      "metadata": {
        "colab": {
          "base_uri": "https://localhost:8080/"
        },
        "id": "4c851484",
        "outputId": "22456162-c0ef-4c93-9ed6-aadb18ea4283"
      },
      "outputs": [
        {
          "output_type": "execute_result",
          "data": {
            "text/plain": [
              "dict_values(['antelope', 'bear', 'cat', 'dog'])"
            ]
          },
          "metadata": {},
          "execution_count": 7
        }
      ],
      "source": [
        "animals.values()"
      ]
    },
    {
      "cell_type": "code",
      "execution_count": 8,
      "id": "f6c35bdc",
      "metadata": {
        "colab": {
          "base_uri": "https://localhost:8080/"
        },
        "id": "f6c35bdc",
        "outputId": "7ed0b24d-9fb5-494e-8f3a-981fce05b503"
      },
      "outputs": [
        {
          "output_type": "execute_result",
          "data": {
            "text/plain": [
              "['a', 'b', 'c', 'd']"
            ]
          },
          "metadata": {},
          "execution_count": 8
        }
      ],
      "source": [
        "list(animals.keys())"
      ]
    },
    {
      "cell_type": "code",
      "execution_count": 9,
      "id": "dcf867b7",
      "metadata": {
        "colab": {
          "base_uri": "https://localhost:8080/",
          "height": 141
        },
        "id": "dcf867b7",
        "outputId": "e6d2c719-488c-408e-96f6-123269b18c98"
      },
      "outputs": [
        {
          "output_type": "error",
          "ename": "KeyError",
          "evalue": "'e'",
          "traceback": [
            "\u001b[0;31m---------------------------------------------------------------------------\u001b[0m",
            "\u001b[0;31mKeyError\u001b[0m                                  Traceback (most recent call last)",
            "\u001b[0;32m<ipython-input-9-0f356bdd30da>\u001b[0m in \u001b[0;36m<cell line: 0>\u001b[0;34m()\u001b[0m\n\u001b[0;32m----> 1\u001b[0;31m \u001b[0manimals\u001b[0m\u001b[0;34m[\u001b[0m\u001b[0;34m'e'\u001b[0m\u001b[0;34m]\u001b[0m\u001b[0;34m\u001b[0m\u001b[0;34m\u001b[0m\u001b[0m\n\u001b[0m",
            "\u001b[0;31mKeyError\u001b[0m: 'e'"
          ]
        }
      ],
      "source": [
        "animals['e']"
      ]
    },
    {
      "cell_type": "code",
      "execution_count": 10,
      "id": "7c06306f",
      "metadata": {
        "colab": {
          "base_uri": "https://localhost:8080/",
          "height": 35
        },
        "id": "7c06306f",
        "outputId": "e79101c0-f2cf-4a1a-d36b-6fe5047a4db9"
      },
      "outputs": [
        {
          "output_type": "execute_result",
          "data": {
            "text/plain": [
              "'antelope'"
            ],
            "application/vnd.google.colaboratory.intrinsic+json": {
              "type": "string"
            }
          },
          "metadata": {},
          "execution_count": 10
        }
      ],
      "source": [
        "animals.get('a')"
      ]
    },
    {
      "cell_type": "code",
      "execution_count": 11,
      "id": "df87bf97",
      "metadata": {
        "colab": {
          "base_uri": "https://localhost:8080/"
        },
        "id": "df87bf97",
        "outputId": "c09c3c0f-c4b5-405d-cd1e-98f56da4f310"
      },
      "outputs": [
        {
          "output_type": "execute_result",
          "data": {
            "text/plain": [
              "4"
            ]
          },
          "metadata": {},
          "execution_count": 11
        }
      ],
      "source": [
        "len(animals)"
      ]
    },
    {
      "cell_type": "code",
      "execution_count": 12,
      "id": "e1a8477a",
      "metadata": {
        "id": "e1a8477a"
      },
      "outputs": [],
      "source": [
        "animals = {\n",
        "    'a': ['aardvark', 'antelope'],\n",
        "    'b': ['bear'],\n",
        "}"
      ]
    },
    {
      "cell_type": "code",
      "execution_count": 13,
      "id": "97b04f20",
      "metadata": {
        "id": "97b04f20"
      },
      "outputs": [],
      "source": [
        "animals['b'].append('bison')"
      ]
    },
    {
      "cell_type": "code",
      "execution_count": 14,
      "id": "f862d71c",
      "metadata": {
        "id": "f862d71c"
      },
      "outputs": [],
      "source": [
        "animals['c'] = ['cat']"
      ]
    },
    {
      "cell_type": "code",
      "execution_count": 15,
      "id": "ab292c6b",
      "metadata": {
        "id": "ab292c6b"
      },
      "outputs": [],
      "source": [
        "if 'c' not in animals:\n",
        "    animals['c'] = []\n",
        "\n",
        "animals['c'].append('cat')"
      ]
    },
    {
      "cell_type": "code",
      "source": [
        "animals"
      ],
      "metadata": {
        "colab": {
          "base_uri": "https://localhost:8080/"
        },
        "id": "EEqwG1CB2T23",
        "outputId": "70041b7f-b0b0-4e74-f277-32e5c07edec3"
      },
      "id": "EEqwG1CB2T23",
      "execution_count": 16,
      "outputs": [
        {
          "output_type": "execute_result",
          "data": {
            "text/plain": [
              "{'a': ['aardvark', 'antelope'], 'b': ['bear', 'bison'], 'c': ['cat', 'cat']}"
            ]
          },
          "metadata": {},
          "execution_count": 16
        }
      ]
    },
    {
      "cell_type": "code",
      "source": [
        "animals['b'][0]"
      ],
      "metadata": {
        "colab": {
          "base_uri": "https://localhost:8080/",
          "height": 35
        },
        "id": "lfGLMBLL2fjh",
        "outputId": "b0f54696-99da-478d-f458-a7901fbe47d0"
      },
      "id": "lfGLMBLL2fjh",
      "execution_count": 21,
      "outputs": [
        {
          "output_type": "execute_result",
          "data": {
            "text/plain": [
              "'bear'"
            ],
            "application/vnd.google.colaboratory.intrinsic+json": {
              "type": "string"
            }
          },
          "metadata": {},
          "execution_count": 21
        }
      ]
    },
    {
      "cell_type": "markdown",
      "id": "99f7f409",
      "metadata": {
        "id": "99f7f409"
      },
      "source": [
        "### The Default Dict"
      ]
    },
    {
      "cell_type": "code",
      "execution_count": 23,
      "id": "71803fe4",
      "metadata": {
        "id": "71803fe4"
      },
      "outputs": [],
      "source": [
        "animals = defaultdict(list)"
      ]
    },
    {
      "cell_type": "code",
      "execution_count": 24,
      "id": "57e747f6",
      "metadata": {
        "colab": {
          "base_uri": "https://localhost:8080/"
        },
        "id": "57e747f6",
        "outputId": "7ba1e7c0-18ff-42c2-d891-9d795689b2ce"
      },
      "outputs": [
        {
          "output_type": "execute_result",
          "data": {
            "text/plain": [
              "defaultdict(list, {})"
            ]
          },
          "metadata": {},
          "execution_count": 24
        }
      ],
      "source": [
        "animals"
      ]
    },
    {
      "cell_type": "code",
      "execution_count": 25,
      "id": "faaa95e0",
      "metadata": {
        "colab": {
          "base_uri": "https://localhost:8080/"
        },
        "id": "faaa95e0",
        "outputId": "7f06394b-b541-4ea2-d405-f8305aa28ce1"
      },
      "outputs": [
        {
          "output_type": "execute_result",
          "data": {
            "text/plain": [
              "defaultdict(list, {'e': ['elephant']})"
            ]
          },
          "metadata": {},
          "execution_count": 25
        }
      ],
      "source": [
        "animals['e'].append('elephant')\n",
        "animals"
      ]
    },
    {
      "cell_type": "code",
      "execution_count": 26,
      "id": "b8fefdb6",
      "metadata": {
        "colab": {
          "base_uri": "https://localhost:8080/"
        },
        "id": "b8fefdb6",
        "outputId": "4523adc6-b48f-4d71-d82f-23d727ce2fe2"
      },
      "outputs": [
        {
          "output_type": "execute_result",
          "data": {
            "text/plain": [
              "defaultdict(list, {'e': ['elephant', 'emu']})"
            ]
          },
          "metadata": {},
          "execution_count": 26
        }
      ],
      "source": [
        "animals['e'].append('emu')\n",
        "animals"
      ]
    },
    {
      "cell_type": "code",
      "execution_count": 27,
      "id": "f8f53dc5",
      "metadata": {
        "colab": {
          "base_uri": "https://localhost:8080/"
        },
        "id": "f8f53dc5",
        "outputId": "79f33708-573f-46d1-fe2f-10dd3a28f1a5"
      },
      "outputs": [
        {
          "output_type": "execute_result",
          "data": {
            "text/plain": [
              "[]"
            ]
          },
          "metadata": {},
          "execution_count": 27
        }
      ],
      "source": [
        "animals['f']"
      ]
    },
    {
      "cell_type": "code",
      "execution_count": null,
      "id": "6973288b",
      "metadata": {
        "id": "6973288b"
      },
      "outputs": [],
      "source": []
    }
  ],
  "metadata": {
    "kernelspec": {
      "display_name": "Python 3 (ipykernel)",
      "language": "python",
      "name": "python3"
    },
    "language_info": {
      "codemirror_mode": {
        "name": "ipython",
        "version": 3
      },
      "file_extension": ".py",
      "mimetype": "text/x-python",
      "name": "python",
      "nbconvert_exporter": "python",
      "pygments_lexer": "ipython3",
      "version": "3.10.2"
    },
    "colab": {
      "provenance": [],
      "include_colab_link": true
    }
  },
  "nbformat": 4,
  "nbformat_minor": 5
}