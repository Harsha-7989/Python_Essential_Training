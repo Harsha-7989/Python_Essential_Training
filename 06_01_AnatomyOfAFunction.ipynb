{
  "cells": [
    {
      "cell_type": "markdown",
      "metadata": {
        "id": "view-in-github",
        "colab_type": "text"
      },
      "source": [
        "<a href=\"https://colab.research.google.com/github/Harsha-7989/Python_Essential_Training/blob/main/06_01_AnatomyOfAFunction.ipynb\" target=\"_parent\"><img src=\"https://colab.research.google.com/assets/colab-badge.svg\" alt=\"Open In Colab\"/></a>"
      ]
    },
    {
      "cell_type": "code",
      "execution_count": 2,
      "id": "b2f1bf7d",
      "metadata": {
        "id": "b2f1bf7d"
      },
      "outputs": [],
      "source": [
        "import math"
      ]
    },
    {
      "cell_type": "markdown",
      "id": "e641afae",
      "metadata": {
        "id": "e641afae"
      },
      "source": [
        "## Functions"
      ]
    },
    {
      "cell_type": "code",
      "execution_count": 3,
      "id": "5df05257",
      "metadata": {
        "colab": {
          "base_uri": "https://localhost:8080/"
        },
        "id": "5df05257",
        "outputId": "08ebd896-6d26-44b4-c5e8-08beab69d86a"
      },
      "outputs": [
        {
          "output_type": "execute_result",
          "data": {
            "text/plain": [
              "5"
            ]
          },
          "metadata": {},
          "execution_count": 3
        }
      ],
      "source": [
        "def performOperation(num1, num2, operation):\n",
        "    if operation == 'sum':\n",
        "        return num1 + num2\n",
        "    if operation == 'multiply':\n",
        "        return num1 * num2\n",
        "\n",
        "performOperation(2, 3, 'sum')"
      ]
    },
    {
      "cell_type": "code",
      "execution_count": null,
      "id": "4f53e2d0",
      "metadata": {
        "id": "4f53e2d0"
      },
      "outputs": [],
      "source": [
        ""
      ]
    },
    {
      "cell_type": "markdown",
      "id": "c5a6d86b",
      "metadata": {
        "id": "c5a6d86b"
      },
      "source": [
        "### Named Parameters"
      ]
    },
    {
      "cell_type": "code",
      "execution_count": 4,
      "id": "4ebd385a",
      "metadata": {
        "colab": {
          "base_uri": "https://localhost:8080/"
        },
        "id": "4ebd385a",
        "outputId": "36dfae40-77df-486d-9571-8556c9b0bfbb"
      },
      "outputs": [
        {
          "output_type": "execute_result",
          "data": {
            "text/plain": [
              "5"
            ]
          },
          "metadata": {},
          "execution_count": 4
        }
      ],
      "source": [
        "def performOperation(num1, num2, operation='sum'):\n",
        "    if operation == 'sum':\n",
        "        return num1 + num2\n",
        "    if operation == 'multiply':\n",
        "        return num1 * num2\n",
        "\n",
        "performOperation(2, 3)"
      ]
    },
    {
      "cell_type": "code",
      "execution_count": 5,
      "id": "2e45e600",
      "metadata": {
        "colab": {
          "base_uri": "https://localhost:8080/"
        },
        "id": "2e45e600",
        "outputId": "5ceeeaeb-4472-4e07-d110-3d09e33769a0"
      },
      "outputs": [
        {
          "output_type": "stream",
          "name": "stdout",
          "text": [
            "A new message!\n"
          ]
        },
        {
          "output_type": "execute_result",
          "data": {
            "text/plain": [
              "6"
            ]
          },
          "metadata": {},
          "execution_count": 5
        }
      ],
      "source": [
        "def performOperation(num1, num2, operation='sum', message='Default message'):\n",
        "    print(message)\n",
        "    if operation == 'sum':\n",
        "        return num1 + num2\n",
        "    if operation == 'multiply':\n",
        "        return num1 * num2\n",
        "\n",
        "performOperation(2, 3, message='A new message!', operation='multiply')"
      ]
    },
    {
      "cell_type": "markdown",
      "id": "d7fa32cd",
      "metadata": {
        "id": "d7fa32cd"
      },
      "source": [
        "### *args"
      ]
    },
    {
      "cell_type": "code",
      "execution_count": 6,
      "id": "a958ca8f",
      "metadata": {
        "colab": {
          "base_uri": "https://localhost:8080/"
        },
        "id": "a958ca8f",
        "outputId": "edd29737-d54a-49dc-e923-b8b61688d91e"
      },
      "outputs": [
        {
          "output_type": "stream",
          "name": "stdout",
          "text": [
            "(1, 2, 3)\n"
          ]
        }
      ],
      "source": [
        "def performOperation(*args):\n",
        "    print(args)\n",
        "\n",
        "performOperation(1,2,3)"
      ]
    },
    {
      "cell_type": "code",
      "execution_count": null,
      "id": "64d83230",
      "metadata": {
        "id": "64d83230",
        "outputId": "162bba8b-766c-46fe-9a03-661cc0f12a76"
      },
      "outputs": [
        {
          "ename": "TypeError",
          "evalue": "performOperation() got an unexpected keyword argument 'operation'",
          "output_type": "error",
          "traceback": [
            "\u001b[0;31m---------------------------------------------------------------------------\u001b[0m",
            "\u001b[0;31mTypeError\u001b[0m                                 Traceback (most recent call last)",
            "Input \u001b[0;32mIn [10]\u001b[0m, in \u001b[0;36m<module>\u001b[0;34m\u001b[0m\n\u001b[0;32m----> 1\u001b[0m \u001b[43mperformOperation\u001b[49m\u001b[43m(\u001b[49m\u001b[38;5;241;43m1\u001b[39;49m\u001b[43m,\u001b[49m\u001b[38;5;241;43m2\u001b[39;49m\u001b[43m,\u001b[49m\u001b[38;5;241;43m3\u001b[39;49m\u001b[43m,\u001b[49m\u001b[43m \u001b[49m\u001b[43moperation\u001b[49m\u001b[38;5;241;43m=\u001b[39;49m\u001b[38;5;124;43m'\u001b[39;49m\u001b[38;5;124;43msum\u001b[39;49m\u001b[38;5;124;43m'\u001b[39;49m\u001b[43m)\u001b[49m\n",
            "\u001b[0;31mTypeError\u001b[0m: performOperation() got an unexpected keyword argument 'operation'"
          ]
        }
      ],
      "source": [
        "performOperation(1,2,3, operation='sum')"
      ]
    },
    {
      "cell_type": "markdown",
      "id": "27d94525",
      "metadata": {
        "id": "27d94525"
      },
      "source": [
        "### **kwargs"
      ]
    },
    {
      "cell_type": "code",
      "execution_count": 7,
      "id": "a7359d98",
      "metadata": {
        "colab": {
          "base_uri": "https://localhost:8080/"
        },
        "id": "a7359d98",
        "outputId": "2bb356e4-65c1-47ad-9ace-2f592356ab15"
      },
      "outputs": [
        {
          "output_type": "stream",
          "name": "stdout",
          "text": [
            "(1, 2, 3)\n",
            "{'operation': 'sum'}\n"
          ]
        }
      ],
      "source": [
        "def performOperation(*args, **kwargs):\n",
        "    print(args)\n",
        "    print(kwargs)\n",
        "performOperation(1,2,3, operation='sum')"
      ]
    },
    {
      "cell_type": "code",
      "execution_count": 8,
      "id": "92a644aa",
      "metadata": {
        "colab": {
          "base_uri": "https://localhost:8080/"
        },
        "id": "92a644aa",
        "outputId": "77e03093-783f-47f2-8911-36bbce4ce8c3"
      },
      "outputs": [
        {
          "output_type": "execute_result",
          "data": {
            "text/plain": [
              "27"
            ]
          },
          "metadata": {},
          "execution_count": 8
        }
      ],
      "source": [
        "def performOperation(*args, operation='sum'):\n",
        "    if operation == 'sum':\n",
        "        return sum(args)\n",
        "    if operation == 'multiply':\n",
        "        return math.prod(args)\n",
        "\n",
        "performOperation(1,2,3,6, 7, 8, operation='sum')"
      ]
    },
    {
      "cell_type": "code",
      "execution_count": null,
      "id": "57cd4de0",
      "metadata": {
        "id": "57cd4de0"
      },
      "outputs": [],
      "source": []
    }
  ],
  "metadata": {
    "kernelspec": {
      "display_name": "Python 3 (ipykernel)",
      "language": "python",
      "name": "python3"
    },
    "language_info": {
      "codemirror_mode": {
        "name": "ipython",
        "version": 3
      },
      "file_extension": ".py",
      "mimetype": "text/x-python",
      "name": "python",
      "nbconvert_exporter": "python",
      "pygments_lexer": "ipython3",
      "version": "3.9.13"
    },
    "colab": {
      "provenance": [],
      "include_colab_link": true
    }
  },
  "nbformat": 4,
  "nbformat_minor": 5
}