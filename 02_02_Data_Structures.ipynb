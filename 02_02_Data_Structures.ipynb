{
  "cells": [
    {
      "cell_type": "markdown",
      "metadata": {
        "id": "view-in-github",
        "colab_type": "text"
      },
      "source": [
        "<a href=\"https://colab.research.google.com/github/Harsha-7989/Python_Essential_Training/blob/main/02_02_Data_Structures.ipynb\" target=\"_parent\"><img src=\"https://colab.research.google.com/assets/colab-badge.svg\" alt=\"Open In Colab\"/></a>"
      ]
    },
    {
      "cell_type": "markdown",
      "id": "2d0359bf",
      "metadata": {
        "id": "2d0359bf"
      },
      "source": [
        "# Data Structures"
      ]
    },
    {
      "cell_type": "markdown",
      "id": "cc61a7fd",
      "metadata": {
        "id": "cc61a7fd"
      },
      "source": [
        "## Lists"
      ]
    },
    {
      "cell_type": "code",
      "execution_count": 1,
      "id": "124dfa4d",
      "metadata": {
        "colab": {
          "base_uri": "https://localhost:8080/"
        },
        "id": "124dfa4d",
        "outputId": "b2e1f4d1-2d19-4c86-89fc-8adb43b8ddc1"
      },
      "outputs": [
        {
          "output_type": "stream",
          "name": "stdout",
          "text": [
            "[1, 2, 3, 4]\n"
          ]
        }
      ],
      "source": [
        "my_list = [1,2,3,4]\n",
        "print(my_list)"
      ]
    },
    {
      "cell_type": "code",
      "execution_count": 2,
      "id": "343cab68",
      "metadata": {
        "id": "343cab68"
      },
      "outputs": [],
      "source": [
        "my_list = ['list', 'of', 'strings']"
      ]
    },
    {
      "cell_type": "code",
      "execution_count": 3,
      "id": "31dd5ace",
      "metadata": {
        "id": "31dd5ace"
      },
      "outputs": [],
      "source": [
        "my_list = [1,'list', False, []]"
      ]
    },
    {
      "cell_type": "code",
      "execution_count": 4,
      "id": "341e6193",
      "metadata": {
        "id": "341e6193"
      },
      "outputs": [],
      "source": [
        "my_list = [[1,2,3],[False, True], []]"
      ]
    },
    {
      "cell_type": "code",
      "execution_count": 5,
      "id": "71054a67",
      "metadata": {
        "colab": {
          "base_uri": "https://localhost:8080/"
        },
        "id": "71054a67",
        "outputId": "cc55b8d2-2499-4faf-b14e-3cd690db5310"
      },
      "outputs": [
        {
          "output_type": "execute_result",
          "data": {
            "text/plain": [
              "3"
            ]
          },
          "metadata": {},
          "execution_count": 5
        }
      ],
      "source": [
        "len(my_list)"
      ]
    },
    {
      "cell_type": "markdown",
      "id": "fe9bdfd8",
      "metadata": {
        "id": "fe9bdfd8"
      },
      "source": [
        "## Sets"
      ]
    },
    {
      "cell_type": "code",
      "execution_count": 6,
      "id": "2cd42f05",
      "metadata": {
        "colab": {
          "base_uri": "https://localhost:8080/"
        },
        "id": "2cd42f05",
        "outputId": "cd703427-7f22-4f6d-f740-8fcfaf59ef16"
      },
      "outputs": [
        {
          "output_type": "stream",
          "name": "stdout",
          "text": [
            "{1, 2, 3, 4, 5}\n"
          ]
        }
      ],
      "source": [
        "my_set = {1,2,3,4,5}\n",
        "print(my_set)"
      ]
    },
    {
      "cell_type": "code",
      "execution_count": 7,
      "id": "ce2034e0",
      "metadata": {
        "colab": {
          "base_uri": "https://localhost:8080/"
        },
        "id": "ce2034e0",
        "outputId": "09e84047-fe60-4eec-a949-ee92fc29327d"
      },
      "outputs": [
        {
          "output_type": "execute_result",
          "data": {
            "text/plain": [
              "set"
            ]
          },
          "metadata": {},
          "execution_count": 7
        }
      ],
      "source": [
        "type(my_set)"
      ]
    },
    {
      "cell_type": "code",
      "execution_count": 8,
      "id": "c40a0c41",
      "metadata": {
        "colab": {
          "base_uri": "https://localhost:8080/"
        },
        "id": "c40a0c41",
        "outputId": "8f08daa3-4688-4a43-f46b-79d286a2f5fb"
      },
      "outputs": [
        {
          "output_type": "execute_result",
          "data": {
            "text/plain": [
              "5"
            ]
          },
          "metadata": {},
          "execution_count": 8
        }
      ],
      "source": [
        "len(my_set)"
      ]
    },
    {
      "cell_type": "code",
      "execution_count": 10,
      "id": "4dacc8e7",
      "metadata": {
        "colab": {
          "base_uri": "https://localhost:8080/"
        },
        "id": "4dacc8e7",
        "outputId": "f7d8f43b-8373-49a7-801f-d5b9e872d856"
      },
      "outputs": [
        {
          "output_type": "execute_result",
          "data": {
            "text/plain": [
              "2"
            ]
          },
          "metadata": {},
          "execution_count": 10
        }
      ],
      "source": [
        "my_set = {1,1,2,2}\n",
        "len(my_set)\n"
      ]
    },
    {
      "cell_type": "code",
      "source": [
        "print(my_set)"
      ],
      "metadata": {
        "colab": {
          "base_uri": "https://localhost:8080/"
        },
        "id": "IAq0wVQvjAsp",
        "outputId": "f6e2b9ee-a5cc-47f1-a173-5f9df2c94f6a"
      },
      "id": "IAq0wVQvjAsp",
      "execution_count": 11,
      "outputs": [
        {
          "output_type": "stream",
          "name": "stdout",
          "text": [
            "{1, 2}\n"
          ]
        }
      ]
    },
    {
      "cell_type": "code",
      "execution_count": 12,
      "id": "04796b0e",
      "metadata": {
        "colab": {
          "base_uri": "https://localhost:8080/"
        },
        "id": "04796b0e",
        "outputId": "de599734-5a4d-426b-e5b3-5d433f3b7df5"
      },
      "outputs": [
        {
          "output_type": "execute_result",
          "data": {
            "text/plain": [
              "False"
            ]
          },
          "metadata": {},
          "execution_count": 12
        }
      ],
      "source": [
        "[1,2] == [2,1]"
      ]
    },
    {
      "cell_type": "code",
      "execution_count": 13,
      "id": "542b7600",
      "metadata": {
        "colab": {
          "base_uri": "https://localhost:8080/"
        },
        "id": "542b7600",
        "outputId": "97ad599e-dd87-41c5-8691-5d452da8d8ca"
      },
      "outputs": [
        {
          "output_type": "execute_result",
          "data": {
            "text/plain": [
              "True"
            ]
          },
          "metadata": {},
          "execution_count": 13
        }
      ],
      "source": [
        "{1,2,3} == {3,2,1,1,1}"
      ]
    },
    {
      "cell_type": "markdown",
      "id": "2d54cd5f",
      "metadata": {
        "id": "2d54cd5f"
      },
      "source": [
        "## Tuples"
      ]
    },
    {
      "cell_type": "code",
      "execution_count": 14,
      "id": "f8d946cf",
      "metadata": {
        "id": "f8d946cf"
      },
      "outputs": [],
      "source": [
        "my_tuple = (1,2,3)"
      ]
    },
    {
      "cell_type": "code",
      "execution_count": 15,
      "id": "2b1218e0",
      "metadata": {
        "colab": {
          "base_uri": "https://localhost:8080/"
        },
        "id": "2b1218e0",
        "outputId": "97b0b170-1c56-4c84-8d4b-4610755189f0"
      },
      "outputs": [
        {
          "output_type": "execute_result",
          "data": {
            "text/plain": [
              "3"
            ]
          },
          "metadata": {},
          "execution_count": 15
        }
      ],
      "source": [
        "len(my_tuple)"
      ]
    },
    {
      "cell_type": "code",
      "execution_count": 16,
      "id": "0b11e898",
      "metadata": {
        "colab": {
          "base_uri": "https://localhost:8080/"
        },
        "id": "0b11e898",
        "outputId": "6b7c65a9-f06d-4abe-d8f4-32d66435d671"
      },
      "outputs": [
        {
          "output_type": "execute_result",
          "data": {
            "text/plain": [
              "False"
            ]
          },
          "metadata": {},
          "execution_count": 16
        }
      ],
      "source": [
        "(1,2) == (2,1)"
      ]
    },
    {
      "cell_type": "code",
      "execution_count": 17,
      "id": "f4f0164e",
      "metadata": {
        "colab": {
          "base_uri": "https://localhost:8080/"
        },
        "id": "f4f0164e",
        "outputId": "3bcbe2c2-9ef1-4590-972a-2b995218bed4"
      },
      "outputs": [
        {
          "output_type": "stream",
          "name": "stdout",
          "text": [
            "[[1, 2, 3], [False, True], [], 6]\n"
          ]
        }
      ],
      "source": [
        "my_list.append(6)\n",
        "print(my_list)"
      ]
    },
    {
      "cell_type": "code",
      "execution_count": 18,
      "id": "3fc754a7",
      "metadata": {
        "colab": {
          "base_uri": "https://localhost:8080/",
          "height": 141
        },
        "id": "3fc754a7",
        "outputId": "d0871051-fbb1-41f6-ecc5-42ac80839c2c"
      },
      "outputs": [
        {
          "output_type": "error",
          "ename": "AttributeError",
          "evalue": "'tuple' object has no attribute 'append'",
          "traceback": [
            "\u001b[0;31m---------------------------------------------------------------------------\u001b[0m",
            "\u001b[0;31mAttributeError\u001b[0m                            Traceback (most recent call last)",
            "\u001b[0;32m<ipython-input-18-5cb3df206248>\u001b[0m in \u001b[0;36m<cell line: 0>\u001b[0;34m()\u001b[0m\n\u001b[0;32m----> 1\u001b[0;31m \u001b[0mmy_tuple\u001b[0m\u001b[0;34m.\u001b[0m\u001b[0mappend\u001b[0m\u001b[0;34m(\u001b[0m\u001b[0;36m4\u001b[0m\u001b[0;34m)\u001b[0m\u001b[0;34m\u001b[0m\u001b[0;34m\u001b[0m\u001b[0m\n\u001b[0m",
            "\u001b[0;31mAttributeError\u001b[0m: 'tuple' object has no attribute 'append'"
          ]
        }
      ],
      "source": [
        "my_tuple.append(4)"
      ]
    },
    {
      "cell_type": "markdown",
      "id": "491e40c6",
      "metadata": {
        "id": "491e40c6"
      },
      "source": [
        "## Dictionaries"
      ]
    },
    {
      "cell_type": "code",
      "execution_count": 19,
      "id": "07eacb6d",
      "metadata": {
        "id": "07eacb6d"
      },
      "outputs": [],
      "source": [
        "my_dictionary = {\n",
        "    'apple': 'A red fruit',\n",
        "    'bear': 'A scary animal'\n",
        "}"
      ]
    },
    {
      "cell_type": "code",
      "execution_count": 20,
      "id": "e62a0f43",
      "metadata": {
        "colab": {
          "base_uri": "https://localhost:8080/",
          "height": 35
        },
        "id": "e62a0f43",
        "outputId": "1c511f8e-cd61-4f59-e744-d5530ed1197b"
      },
      "outputs": [
        {
          "output_type": "execute_result",
          "data": {
            "text/plain": [
              "'A red fruit'"
            ],
            "application/vnd.google.colaboratory.intrinsic+json": {
              "type": "string"
            }
          },
          "metadata": {},
          "execution_count": 20
        }
      ],
      "source": [
        "my_dictionary['apple']"
      ]
    },
    {
      "cell_type": "code",
      "execution_count": 21,
      "id": "40a2a490",
      "metadata": {
        "id": "40a2a490"
      },
      "outputs": [],
      "source": [
        "my_dictionary = {\n",
        "    'apple': 'A red fruit',\n",
        "    'bear': 'A scary animal',\n",
        "    'apple': 'Sometimes a green fruit'\n",
        "}"
      ]
    },
    {
      "cell_type": "code",
      "execution_count": 22,
      "id": "97ccc4aa",
      "metadata": {
        "colab": {
          "base_uri": "https://localhost:8080/",
          "height": 35
        },
        "id": "97ccc4aa",
        "outputId": "e4e65162-9bef-48d0-b5c8-50bb83e3cc76"
      },
      "outputs": [
        {
          "output_type": "execute_result",
          "data": {
            "text/plain": [
              "'Sometimes a green fruit'"
            ],
            "application/vnd.google.colaboratory.intrinsic+json": {
              "type": "string"
            }
          },
          "metadata": {},
          "execution_count": 22
        }
      ],
      "source": [
        "my_dictionary['apple']"
      ]
    },
    {
      "cell_type": "code",
      "execution_count": null,
      "id": "cb8ac863",
      "metadata": {
        "id": "cb8ac863"
      },
      "outputs": [],
      "source": []
    }
  ],
  "metadata": {
    "kernelspec": {
      "display_name": "Python 3 (ipykernel)",
      "language": "python",
      "name": "python3"
    },
    "language_info": {
      "codemirror_mode": {
        "name": "ipython",
        "version": 3
      },
      "file_extension": ".py",
      "mimetype": "text/x-python",
      "name": "python",
      "nbconvert_exporter": "python",
      "pygments_lexer": "ipython3",
      "version": "3.10.2"
    },
    "colab": {
      "provenance": [],
      "include_colab_link": true
    }
  },
  "nbformat": 4,
  "nbformat_minor": 5
}