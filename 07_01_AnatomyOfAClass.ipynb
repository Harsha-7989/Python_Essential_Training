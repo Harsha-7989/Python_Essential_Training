{
  "cells": [
    {
      "cell_type": "markdown",
      "metadata": {
        "id": "view-in-github",
        "colab_type": "text"
      },
      "source": [
        "<a href=\"https://colab.research.google.com/github/Harsha-7989/Python_Essential_Training/blob/main/07_01_AnatomyOfAClass.ipynb\" target=\"_parent\"><img src=\"https://colab.research.google.com/assets/colab-badge.svg\" alt=\"Open In Colab\"/></a>"
      ]
    },
    {
      "cell_type": "markdown",
      "id": "a34c27ca",
      "metadata": {
        "id": "a34c27ca"
      },
      "source": [
        "## Class"
      ]
    },
    {
      "cell_type": "markdown",
      "id": "9254338c",
      "metadata": {
        "id": "9254338c"
      },
      "source": [
        "### Instance Attributes"
      ]
    },
    {
      "cell_type": "code",
      "execution_count": 1,
      "id": "fd097c8c",
      "metadata": {
        "colab": {
          "base_uri": "https://localhost:8080/"
        },
        "id": "fd097c8c",
        "outputId": "16f492db-b1e3-462a-895d-912f1b31902b"
      },
      "outputs": [
        {
          "output_type": "stream",
          "name": "stdout",
          "text": [
            "Rover\n",
            "4\n"
          ]
        }
      ],
      "source": [
        "class Dog:\n",
        "    def __init__(self, name):\n",
        "        self.name = name\n",
        "        self.legs = 4\n",
        "\n",
        "    def speak(self):\n",
        "        print(self.name + ' says: Bark!')\n",
        "\n",
        "myDog = Dog('Rover')\n",
        "print(myDog.name)\n",
        "print(myDog.legs)"
      ]
    },
    {
      "cell_type": "code",
      "execution_count": 2,
      "id": "3abfa4a3",
      "metadata": {
        "colab": {
          "base_uri": "https://localhost:8080/",
          "height": 141
        },
        "id": "3abfa4a3",
        "outputId": "d2f7add2-663a-479f-f973-2d71d51a4e85"
      },
      "outputs": [
        {
          "output_type": "error",
          "ename": "AttributeError",
          "evalue": "type object 'Dog' has no attribute 'legs'",
          "traceback": [
            "\u001b[0;31m---------------------------------------------------------------------------\u001b[0m",
            "\u001b[0;31mAttributeError\u001b[0m                            Traceback (most recent call last)",
            "\u001b[0;32m<ipython-input-2-605c1d45827a>\u001b[0m in \u001b[0;36m<cell line: 0>\u001b[0;34m()\u001b[0m\n\u001b[0;32m----> 1\u001b[0;31m \u001b[0mDog\u001b[0m\u001b[0;34m.\u001b[0m\u001b[0mlegs\u001b[0m\u001b[0;34m\u001b[0m\u001b[0;34m\u001b[0m\u001b[0m\n\u001b[0m",
            "\u001b[0;31mAttributeError\u001b[0m: type object 'Dog' has no attribute 'legs'"
          ]
        }
      ],
      "source": [
        "Dog.legs"
      ]
    },
    {
      "cell_type": "markdown",
      "id": "910762e2",
      "metadata": {
        "id": "910762e2"
      },
      "source": [
        "### Static Attributes"
      ]
    },
    {
      "cell_type": "code",
      "execution_count": 8,
      "id": "d99d3ce6",
      "metadata": {
        "colab": {
          "base_uri": "https://localhost:8080/"
        },
        "id": "d99d3ce6",
        "outputId": "4755ec27-d0df-42cf-f124-ae7d15f8664d"
      },
      "outputs": [
        {
          "output_type": "stream",
          "name": "stdout",
          "text": [
            "Rover\n",
            "Rover says: Bark!\n",
            "None\n",
            "4\n"
          ]
        }
      ],
      "source": [
        "class Dog:\n",
        "    legs = 4\n",
        "    def __init__(self, name):\n",
        "        self.name = name\n",
        "\n",
        "    def speak(self):\n",
        "        print(self.name + ' says: Bark!')\n",
        "\n",
        "myDog = Dog('Rover')\n",
        "print(myDog.name)\n",
        "print(myDog.speak())\n",
        "print(myDog.legs)"
      ]
    },
    {
      "cell_type": "code",
      "execution_count": 9,
      "id": "10d39f55",
      "metadata": {
        "colab": {
          "base_uri": "https://localhost:8080/"
        },
        "id": "10d39f55",
        "outputId": "13782575-a0ce-463b-f1da-b26e54b3d297"
      },
      "outputs": [
        {
          "output_type": "execute_result",
          "data": {
            "text/plain": [
              "4"
            ]
          },
          "metadata": {},
          "execution_count": 9
        }
      ],
      "source": [
        "Dog.legs"
      ]
    },
    {
      "cell_type": "code",
      "execution_count": 10,
      "id": "6c0e3e22",
      "metadata": {
        "id": "6c0e3e22"
      },
      "outputs": [],
      "source": [
        "Dog.legs = 3"
      ]
    },
    {
      "cell_type": "code",
      "execution_count": 11,
      "id": "c6358449",
      "metadata": {
        "colab": {
          "base_uri": "https://localhost:8080/"
        },
        "id": "c6358449",
        "outputId": "4d951093-5254-42b8-bbf2-9132dcfd2470"
      },
      "outputs": [
        {
          "output_type": "stream",
          "name": "stdout",
          "text": [
            "Rover\n",
            "3\n"
          ]
        }
      ],
      "source": [
        "myDog = Dog('Rover')\n",
        "print(myDog.name)\n",
        "print(myDog.legs)"
      ]
    },
    {
      "cell_type": "code",
      "execution_count": 12,
      "id": "f242ba14",
      "metadata": {
        "colab": {
          "base_uri": "https://localhost:8080/"
        },
        "id": "f242ba14",
        "outputId": "809ca81d-2fb7-4d2b-855c-9018415d0750"
      },
      "outputs": [
        {
          "output_type": "stream",
          "name": "stdout",
          "text": [
            "Rover\n",
            "4\n"
          ]
        }
      ],
      "source": [
        "class Dog:\n",
        "    _legs = 4\n",
        "    def __init__(self, name):\n",
        "        self.name = name\n",
        "\n",
        "    def getLegs(self):\n",
        "        return self._legs\n",
        "\n",
        "    def speak(self):\n",
        "        print(self.name + ' says: Bark!')\n",
        "\n",
        "myDog = Dog('Rover')\n",
        "print(myDog.name)\n",
        "print(myDog.getLegs())"
      ]
    },
    {
      "cell_type": "code",
      "execution_count": 13,
      "id": "b914c567",
      "metadata": {
        "colab": {
          "base_uri": "https://localhost:8080/"
        },
        "id": "b914c567",
        "outputId": "225132c0-4dd7-467f-9f1b-bccd47f526db"
      },
      "outputs": [
        {
          "output_type": "stream",
          "name": "stdout",
          "text": [
            "Rover\n",
            "3\n",
            "4\n"
          ]
        }
      ],
      "source": [
        "myDog = Dog('Rover')\n",
        "myDog._legs = 3\n",
        "print(myDog.name)\n",
        "print(myDog.getLegs())\n",
        "print(Dog._legs)"
      ]
    },
    {
      "cell_type": "code",
      "execution_count": null,
      "id": "e7eb5e63",
      "metadata": {
        "id": "e7eb5e63"
      },
      "outputs": [],
      "source": []
    }
  ],
  "metadata": {
    "kernelspec": {
      "display_name": "Python 3 (ipykernel)",
      "language": "python",
      "name": "python3"
    },
    "language_info": {
      "codemirror_mode": {
        "name": "ipython",
        "version": 3
      },
      "file_extension": ".py",
      "mimetype": "text/x-python",
      "name": "python",
      "nbconvert_exporter": "python",
      "pygments_lexer": "ipython3",
      "version": "3.9.13"
    },
    "colab": {
      "provenance": [],
      "include_colab_link": true
    }
  },
  "nbformat": 4,
  "nbformat_minor": 5
}