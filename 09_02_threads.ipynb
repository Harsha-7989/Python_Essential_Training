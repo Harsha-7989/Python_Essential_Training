{
  "cells": [
    {
      "cell_type": "markdown",
      "metadata": {
        "id": "view-in-github",
        "colab_type": "text"
      },
      "source": [
        "<a href=\"https://colab.research.google.com/github/Harsha-7989/Python_Essential_Training/blob/main/09_02_threads.ipynb\" target=\"_parent\"><img src=\"https://colab.research.google.com/assets/colab-badge.svg\" alt=\"Open In Colab\"/></a>"
      ]
    },
    {
      "cell_type": "code",
      "execution_count": 1,
      "id": "48a15793",
      "metadata": {
        "scrolled": true,
        "id": "48a15793"
      },
      "outputs": [],
      "source": [
        "import threading\n",
        "import time"
      ]
    },
    {
      "cell_type": "markdown",
      "id": "5be113b0",
      "metadata": {
        "id": "5be113b0"
      },
      "source": [
        "## Threads"
      ]
    },
    {
      "cell_type": "code",
      "execution_count": 2,
      "id": "230c796a",
      "metadata": {
        "scrolled": true,
        "colab": {
          "base_uri": "https://localhost:8080/"
        },
        "id": "230c796a",
        "outputId": "843beb3c-d559-4c73-a1c2-878ef2419085"
      },
      "outputs": [
        {
          "output_type": "execute_result",
          "data": {
            "text/plain": [
              "[0, 1, 4, 9, 16]"
            ]
          },
          "metadata": {},
          "execution_count": 2
        }
      ],
      "source": [
        "def longSquare(num):\n",
        "    time.sleep(1)\n",
        "    return num**2\n",
        "\n",
        "[longSquare(n) for n in range(0, 5)]\n"
      ]
    },
    {
      "cell_type": "code",
      "execution_count": 3,
      "id": "f105891d",
      "metadata": {
        "id": "f105891d"
      },
      "outputs": [],
      "source": [
        "t1 = threading.Thread(target=longSquare, args=(1,))\n",
        "t2 = threading.Thread(target=longSquare, args=(2,))\n",
        "\n",
        "t1.start()\n",
        "t2.start()\n",
        "\n",
        "t1.join()\n",
        "t2.join()\n"
      ]
    },
    {
      "cell_type": "code",
      "execution_count": 4,
      "id": "5be33021",
      "metadata": {
        "colab": {
          "base_uri": "https://localhost:8080/"
        },
        "id": "5be33021",
        "outputId": "a7704d66-e4be-4c61-8798-61ba4ae298e1"
      },
      "outputs": [
        {
          "output_type": "stream",
          "name": "stdout",
          "text": [
            "{1: 1, 2: 4}\n"
          ]
        }
      ],
      "source": [
        "\n",
        "\n",
        "def longSquare(num, results):\n",
        "    time.sleep(1)\n",
        "    results[num] = num**2\n",
        "\n",
        "results = {}\n",
        "t1 = threading.Thread(target=longSquare, args=(1,results))\n",
        "t2 = threading.Thread(target=longSquare, args=(2,results))\n",
        "\n",
        "t1.start()\n",
        "t2.start()\n",
        "\n",
        "t1.join()\n",
        "t2.join()\n",
        "\n",
        "print(results)\n"
      ]
    },
    {
      "cell_type": "code",
      "execution_count": 5,
      "id": "6f9a6201",
      "metadata": {
        "colab": {
          "base_uri": "https://localhost:8080/"
        },
        "id": "6f9a6201",
        "outputId": "fb056c42-71d8-451c-d167-80280405352f"
      },
      "outputs": [
        {
          "output_type": "stream",
          "name": "stdout",
          "text": [
            "{0: 0, 1: 1, 2: 4, 3: 9, 4: 16, 5: 25, 6: 36, 7: 49, 8: 64, 9: 81, 10: 100, 11: 121, 12: 144, 13: 169, 14: 196, 15: 225, 16: 256, 17: 289, 18: 324, 19: 361, 20: 400, 21: 441, 22: 484, 23: 529, 24: 576, 25: 625, 26: 676, 27: 729, 28: 784, 29: 841, 30: 900, 31: 961, 32: 1024, 33: 1089, 34: 1156, 35: 1225, 36: 1296, 37: 1369, 38: 1444, 39: 1521, 40: 1600, 41: 1681, 42: 1764, 43: 1849, 44: 1936, 45: 2025, 46: 2116, 47: 2209, 48: 2304, 49: 2401, 50: 2500, 51: 2601, 52: 2704, 53: 2809, 54: 2916, 55: 3025, 56: 3136, 57: 3249, 58: 3364, 59: 3481, 60: 3600, 61: 3721, 62: 3844, 63: 3969, 64: 4096, 65: 4225, 66: 4356, 67: 4489, 68: 4624, 69: 4761, 70: 4900, 71: 5041, 72: 5184, 73: 5329, 74: 5476, 75: 5625, 76: 5776, 77: 5929, 78: 6084, 79: 6241, 80: 6400, 81: 6561, 82: 6724, 83: 6889, 84: 7056, 85: 7225, 86: 7396, 87: 7569, 88: 7744, 89: 7921, 90: 8100, 91: 8281, 92: 8464, 93: 8649, 94: 8836, 95: 9025, 96: 9216, 97: 9409, 98: 9604, 99: 9801}\n"
          ]
        }
      ],
      "source": [
        "\n",
        "\n",
        "def longSquare(num, results):\n",
        "    time.sleep(1)\n",
        "    results[num] = num**2\n",
        "\n",
        "results = {}\n",
        "threads = [threading.Thread(target=longSquare, args=(n, results)) for n in range(0, 100)]\n",
        "[t.start() for t in threads]\n",
        "[t.join() for t in threads]\n",
        "print(results)\n"
      ]
    },
    {
      "cell_type": "code",
      "execution_count": null,
      "id": "c63a0969",
      "metadata": {
        "id": "c63a0969"
      },
      "outputs": [],
      "source": []
    }
  ],
  "metadata": {
    "kernelspec": {
      "display_name": "Python 3 (ipykernel)",
      "language": "python",
      "name": "python3"
    },
    "language_info": {
      "codemirror_mode": {
        "name": "ipython",
        "version": 3
      },
      "file_extension": ".py",
      "mimetype": "text/x-python",
      "name": "python",
      "nbconvert_exporter": "python",
      "pygments_lexer": "ipython3",
      "version": "3.10.2"
    },
    "colab": {
      "provenance": [],
      "include_colab_link": true
    }
  },
  "nbformat": 4,
  "nbformat_minor": 5
}