{
  "cells": [
    {
      "cell_type": "markdown",
      "metadata": {
        "id": "view-in-github",
        "colab_type": "text"
      },
      "source": [
        "<a href=\"https://colab.research.google.com/github/Harsha-7989/Python_Essential_Training/blob/main/10_01_opening_reading_writing_files.ipynb\" target=\"_parent\"><img src=\"https://colab.research.google.com/assets/colab-badge.svg\" alt=\"Open In Colab\"/></a>"
      ]
    },
    {
      "cell_type": "markdown",
      "id": "6aa22b13",
      "metadata": {
        "id": "6aa22b13"
      },
      "source": [
        "## Files"
      ]
    },
    {
      "cell_type": "markdown",
      "id": "6845a35a",
      "metadata": {
        "id": "6845a35a"
      },
      "source": [
        "### Reading Files"
      ]
    },
    {
      "cell_type": "code",
      "execution_count": 1,
      "id": "136e3488",
      "metadata": {
        "colab": {
          "base_uri": "https://localhost:8080/"
        },
        "id": "136e3488",
        "outputId": "0fc035d4-ce44-4fba-9bb7-7d1817f8e648"
      },
      "outputs": [
        {
          "output_type": "stream",
          "name": "stdout",
          "text": [
            "<_io.TextIOWrapper name='10_01_file.txt' mode='r' encoding='utf-8'>\n"
          ]
        }
      ],
      "source": [
        "f = open('10_01_file.txt', 'r')\n",
        "print(f)"
      ]
    },
    {
      "cell_type": "code",
      "execution_count": 2,
      "id": "37766ca7",
      "metadata": {
        "colab": {
          "base_uri": "https://localhost:8080/",
          "height": 35
        },
        "id": "37766ca7",
        "outputId": "57730981-3644-452d-a286-ac526a31f12e"
      },
      "outputs": [
        {
          "output_type": "execute_result",
          "data": {
            "text/plain": [
              "'Beautiful is better than ugly.\\n'"
            ],
            "application/vnd.google.colaboratory.intrinsic+json": {
              "type": "string"
            }
          },
          "metadata": {},
          "execution_count": 2
        }
      ],
      "source": [
        "f.readline()"
      ]
    },
    {
      "cell_type": "code",
      "execution_count": 3,
      "id": "cbaa3c36",
      "metadata": {
        "colab": {
          "base_uri": "https://localhost:8080/"
        },
        "id": "cbaa3c36",
        "outputId": "93fa4503-9869-4f14-ae58-619e16d7ff11"
      },
      "outputs": [
        {
          "output_type": "execute_result",
          "data": {
            "text/plain": [
              "['Explicit is better than implicit.\\n',\n",
              " 'Simple is better than complex.\\n',\n",
              " 'Complex is better than complicated.\\n',\n",
              " 'Flat is better than nested.\\n',\n",
              " 'Sparse is better than dense.\\n',\n",
              " 'Readability counts.\\n',\n",
              " \"Special cases aren't special enough to break the rules.\\n\",\n",
              " 'Although practicality beats purity.\\n',\n",
              " 'Errors should never pass silently.\\n',\n",
              " 'Unless explicitly silenced.\\n',\n",
              " 'In the face of ambiguity, refuse the temptation to guess.\\n',\n",
              " 'There should be one-- and preferably only one --obvious way to do it.\\n',\n",
              " \"Although that way may not be obvious at first unless you're Dutch.\\n\",\n",
              " 'Now is better than never.\\n',\n",
              " 'Although never is often better than *right* now.\\n',\n",
              " \"If the implementation is hard to explain, it's a bad idea.\\n\",\n",
              " 'If the implementation is easy to explain, it may be a good idea.\\n',\n",
              " \"Namespaces are one honking great idea -- let's do more of those!\"]"
            ]
          },
          "metadata": {},
          "execution_count": 3
        }
      ],
      "source": [
        "f.readlines()"
      ]
    },
    {
      "cell_type": "code",
      "execution_count": 4,
      "id": "d4b71184",
      "metadata": {
        "colab": {
          "base_uri": "https://localhost:8080/"
        },
        "id": "d4b71184",
        "outputId": "89f563d0-b23e-4423-d5fb-aa24a82adab7"
      },
      "outputs": [
        {
          "output_type": "stream",
          "name": "stdout",
          "text": [
            "Beautiful is better than ugly.\n",
            "Explicit is better than implicit.\n",
            "Simple is better than complex.\n",
            "Complex is better than complicated.\n",
            "Flat is better than nested.\n",
            "Sparse is better than dense.\n",
            "Readability counts.\n",
            "Special cases aren't special enough to break the rules.\n",
            "Although practicality beats purity.\n",
            "Errors should never pass silently.\n",
            "Unless explicitly silenced.\n",
            "In the face of ambiguity, refuse the temptation to guess.\n",
            "There should be one-- and preferably only one --obvious way to do it.\n",
            "Although that way may not be obvious at first unless you're Dutch.\n",
            "Now is better than never.\n",
            "Although never is often better than *right* now.\n",
            "If the implementation is hard to explain, it's a bad idea.\n",
            "If the implementation is easy to explain, it may be a good idea.\n",
            "Namespaces are one honking great idea -- let's do more of those!\n"
          ]
        }
      ],
      "source": [
        "f = open('10_01_file.txt', 'r')\n",
        "for line in f.readlines():\n",
        "    print(line.strip())"
      ]
    },
    {
      "cell_type": "markdown",
      "id": "f50154d9",
      "metadata": {
        "id": "f50154d9"
      },
      "source": [
        "### Writing Files"
      ]
    },
    {
      "cell_type": "code",
      "execution_count": 5,
      "id": "0a968992",
      "metadata": {
        "colab": {
          "base_uri": "https://localhost:8080/"
        },
        "id": "0a968992",
        "outputId": "a848d65f-74c3-42e5-f215-fb075acfc19c"
      },
      "outputs": [
        {
          "output_type": "stream",
          "name": "stdout",
          "text": [
            "<_io.TextIOWrapper name='10_01_output.txt' mode='w' encoding='utf-8'>\n"
          ]
        }
      ],
      "source": [
        "f = open('10_01_output.txt', 'w')\n",
        "print(f)"
      ]
    },
    {
      "cell_type": "code",
      "execution_count": 6,
      "id": "5494eb04",
      "metadata": {
        "colab": {
          "base_uri": "https://localhost:8080/"
        },
        "id": "5494eb04",
        "outputId": "6016eb91-419d-41cc-e980-19bee6b929f9"
      },
      "outputs": [
        {
          "output_type": "execute_result",
          "data": {
            "text/plain": [
              "7"
            ]
          },
          "metadata": {},
          "execution_count": 6
        }
      ],
      "source": [
        "f.write('Line 1\\n')\n",
        "f.write('Line 2\\n')"
      ]
    },
    {
      "cell_type": "code",
      "execution_count": 7,
      "id": "b222ea93",
      "metadata": {
        "id": "b222ea93"
      },
      "outputs": [],
      "source": [
        "f.close()"
      ]
    },
    {
      "cell_type": "markdown",
      "id": "8a54d22e",
      "metadata": {
        "id": "8a54d22e"
      },
      "source": [
        "### Appending Files"
      ]
    },
    {
      "cell_type": "code",
      "execution_count": 8,
      "id": "42b670c3",
      "metadata": {
        "id": "42b670c3"
      },
      "outputs": [],
      "source": [
        "f = open('10_01_output.txt', 'a')\n",
        "f.write('Line 3\\n')\n",
        "f.write('Line 4\\n')\n",
        "f.close()"
      ]
    },
    {
      "cell_type": "code",
      "execution_count": 9,
      "id": "623506cf",
      "metadata": {
        "colab": {
          "base_uri": "https://localhost:8080/"
        },
        "id": "623506cf",
        "outputId": "620623cd-af00-44e6-ef2c-7adf04aaedb2"
      },
      "outputs": [
        {
          "output_type": "stream",
          "name": "stdout",
          "text": [
            "<_io.TextIOWrapper name='10_01_output.txt' mode='a' encoding='utf-8'>\n"
          ]
        }
      ],
      "source": [
        "with open('10_01_output.txt', 'a') as f:\n",
        "    f.write('some stuff\\n')\n",
        "    f.write('some other stuff\\n')\n",
        "\n",
        "print(f)"
      ]
    },
    {
      "cell_type": "code",
      "execution_count": 10,
      "id": "a8663ad4",
      "metadata": {
        "colab": {
          "base_uri": "https://localhost:8080/",
          "height": 141
        },
        "id": "a8663ad4",
        "outputId": "c56c1547-2bcc-4bc9-ff08-b7a482863b8f"
      },
      "outputs": [
        {
          "output_type": "error",
          "ename": "ValueError",
          "evalue": "I/O operation on closed file.",
          "traceback": [
            "\u001b[0;31m---------------------------------------------------------------------------\u001b[0m",
            "\u001b[0;31mValueError\u001b[0m                                Traceback (most recent call last)",
            "\u001b[0;32m<ipython-input-10-79582168d81d>\u001b[0m in \u001b[0;36m<cell line: 0>\u001b[0;34m()\u001b[0m\n\u001b[0;32m----> 1\u001b[0;31m \u001b[0mf\u001b[0m\u001b[0;34m.\u001b[0m\u001b[0mwrite\u001b[0m\u001b[0;34m(\u001b[0m\u001b[0;34m'PS. I forgot some stuff'\u001b[0m\u001b[0;34m)\u001b[0m\u001b[0;34m\u001b[0m\u001b[0;34m\u001b[0m\u001b[0m\n\u001b[0m",
            "\u001b[0;31mValueError\u001b[0m: I/O operation on closed file."
          ]
        }
      ],
      "source": [
        "f.write('PS. I forgot some stuff')"
      ]
    },
    {
      "cell_type": "code",
      "execution_count": null,
      "id": "06f58194",
      "metadata": {
        "id": "06f58194"
      },
      "outputs": [],
      "source": []
    }
  ],
  "metadata": {
    "kernelspec": {
      "display_name": "Python 3 (ipykernel)",
      "language": "python",
      "name": "python3"
    },
    "language_info": {
      "codemirror_mode": {
        "name": "ipython",
        "version": 3
      },
      "file_extension": ".py",
      "mimetype": "text/x-python",
      "name": "python",
      "nbconvert_exporter": "python",
      "pygments_lexer": "ipython3",
      "version": "3.10.2"
    },
    "colab": {
      "provenance": [],
      "include_colab_link": true
    }
  },
  "nbformat": 4,
  "nbformat_minor": 5
}