{
  "cells": [
    {
      "cell_type": "markdown",
      "metadata": {
        "id": "view-in-github",
        "colab_type": "text"
      },
      "source": [
        "<a href=\"https://colab.research.google.com/github/Harsha-7989/Python_Essential_Training/blob/main/06_03_VariablesAsFunctions.ipynb\" target=\"_parent\"><img src=\"https://colab.research.google.com/assets/colab-badge.svg\" alt=\"Open In Colab\"/></a>"
      ]
    },
    {
      "cell_type": "markdown",
      "id": "b693252d",
      "metadata": {
        "id": "b693252d"
      },
      "source": [
        "## Variables as Functions"
      ]
    },
    {
      "cell_type": "code",
      "execution_count": 1,
      "id": "4f487c83",
      "metadata": {
        "id": "4f487c83"
      },
      "outputs": [],
      "source": [
        "x = 5"
      ]
    },
    {
      "cell_type": "code",
      "execution_count": 3,
      "id": "cb49359a",
      "metadata": {
        "id": "cb49359a"
      },
      "outputs": [],
      "source": [
        "def x():\n",
        "    return 5"
      ]
    },
    {
      "cell_type": "markdown",
      "id": "4065cfed",
      "metadata": {
        "id": "4065cfed"
      },
      "source": [
        "### Viewing function data with  \\_\\_code\\_\\_"
      ]
    },
    {
      "cell_type": "code",
      "execution_count": 4,
      "id": "64b94543",
      "metadata": {
        "colab": {
          "base_uri": "https://localhost:8080/"
        },
        "id": "64b94543",
        "outputId": "9c29a000-efde-4786-a58d-75b324a81174"
      },
      "outputs": [
        {
          "output_type": "stream",
          "name": "stdout",
          "text": [
            "()\n",
            "b'\\x97\\x00d\\x01S\\x00'\n"
          ]
        }
      ],
      "source": [
        "print(x.__code__.co_varnames)\n",
        "print(x.__code__.co_code)"
      ]
    },
    {
      "cell_type": "markdown",
      "id": "5eb0b9e0",
      "metadata": {
        "id": "5eb0b9e0"
      },
      "source": [
        "### Text processing in Python"
      ]
    },
    {
      "cell_type": "code",
      "execution_count": 5,
      "id": "97284f20",
      "metadata": {
        "id": "97284f20"
      },
      "outputs": [],
      "source": [
        "text = '''\n",
        "Beautiful is better than ugly.\n",
        "Explicit is better than implicit.\n",
        "Simple is better than complex.\n",
        "Complex is better than complicated.\n",
        "Flat is better than nested.\n",
        "Sparse is better than dense.\n",
        "Readability counts.\n",
        "Special cases aren't special enough to break the rules.\n",
        "Although practicality beats purity.\n",
        "Errors should never pass silently.\n",
        "Unless explicitly silenced.\n",
        "In the face of ambiguity, refuse the temptation to guess.\n",
        "There should be one-- and preferably only one --obvious way to do it.\n",
        "Although that way may not be obvious at first unless you're Dutch.\n",
        "Now is better than never.\n",
        "Although never is often better than *right* now.\n",
        "If the implementation is hard to explain, it's a bad idea.\n",
        "If the implementation is easy to explain, it may be a good idea.\n",
        "Namespaces are one honking great idea -- let's do more of those!\n",
        "'''\n"
      ]
    },
    {
      "cell_type": "code",
      "execution_count": 6,
      "id": "bd899058",
      "metadata": {
        "id": "bd899058"
      },
      "outputs": [],
      "source": [
        "def lowercase(text):\n",
        "    return text.lower()\n",
        "\n",
        "def removePunctuation(text):\n",
        "    punctuations = ['.', '-', ',', '*']\n",
        "    for punctuation in punctuations:\n",
        "        text = text.replace(punctuation, '')\n",
        "    return text\n",
        "\n",
        "def removeNewlines(text):\n",
        "    text = text.replace('\\n', ' ')\n",
        "    return text\n",
        "\n",
        "def removeShortWords(text):\n",
        "    return ' '.join([word for word in text.split() if len(word) > 3])\n",
        "\n",
        "def removeLongWords(text):\n",
        "    return ' '.join([word for word in text.split() if len(word) < 6])"
      ]
    },
    {
      "cell_type": "code",
      "execution_count": 7,
      "id": "4e6e3111",
      "metadata": {
        "colab": {
          "base_uri": "https://localhost:8080/"
        },
        "id": "4e6e3111",
        "outputId": "f8113548-a705-4b04-dfea-9e90337eea35"
      },
      "outputs": [
        {
          "output_type": "stream",
          "name": "stdout",
          "text": [
            "is than ugly is than is than is than flat is than is than dense cases to break the rules beats never pass in the face of the to guess there be one and only one way to do it that way may not be at first dutch now is than never never is often than right now if the is hard to it's a bad idea if the is easy to it may be a good idea are one great idea let's do more of\n"
          ]
        }
      ],
      "source": [
        "processingFunctions = [lowercase, removePunctuation, removeNewlines, removeLongWords]\n",
        "\n",
        "for func in processingFunctions:\n",
        "    text = func(text)\n",
        "\n",
        "print(text)"
      ]
    },
    {
      "cell_type": "markdown",
      "id": "2639b4fa",
      "metadata": {
        "id": "2639b4fa"
      },
      "source": [
        "### Lambda functions"
      ]
    },
    {
      "cell_type": "code",
      "execution_count": 8,
      "id": "9d3bbf30",
      "metadata": {
        "colab": {
          "base_uri": "https://localhost:8080/"
        },
        "id": "9d3bbf30",
        "outputId": "b56303e0-20d6-430e-fce8-c9990d3334e1"
      },
      "outputs": [
        {
          "output_type": "execute_result",
          "data": {
            "text/plain": [
              "5"
            ]
          },
          "metadata": {},
          "execution_count": 8
        }
      ],
      "source": [
        "2 + 3"
      ]
    },
    {
      "cell_type": "code",
      "execution_count": 9,
      "id": "3867835f",
      "metadata": {
        "colab": {
          "base_uri": "https://localhost:8080/"
        },
        "id": "3867835f",
        "outputId": "689b0b9b-2443-484e-c541-e4c27c0588bf"
      },
      "outputs": [
        {
          "output_type": "execute_result",
          "data": {
            "text/plain": [
              "8"
            ]
          },
          "metadata": {},
          "execution_count": 9
        }
      ],
      "source": [
        "(lambda x: x + 3)(5)"
      ]
    },
    {
      "cell_type": "code",
      "execution_count": 10,
      "id": "0cb05720",
      "metadata": {
        "colab": {
          "base_uri": "https://localhost:8080/"
        },
        "id": "0cb05720",
        "outputId": "ce62eb33-030e-4c74-b8be-723602a796a3"
      },
      "outputs": [
        {
          "output_type": "execute_result",
          "data": {
            "text/plain": [
              "[2, 3, 4, 5]"
            ]
          },
          "metadata": {},
          "execution_count": 10
        }
      ],
      "source": [
        "myList = [5,4,3,2]\n",
        "sorted(myList)"
      ]
    },
    {
      "cell_type": "code",
      "execution_count": 11,
      "id": "6fcf5c06",
      "metadata": {
        "colab": {
          "base_uri": "https://localhost:8080/"
        },
        "id": "6fcf5c06",
        "outputId": "ff447dd6-99b5-4d4e-aa43-26ca13de41ac"
      },
      "outputs": [
        {
          "output_type": "execute_result",
          "data": {
            "text/plain": [
              "[{'num': 1}, {'num': 2}, {'num': 3}]"
            ]
          },
          "metadata": {},
          "execution_count": 11
        }
      ],
      "source": [
        "myList = [{'num': 3}, {'num': 2}, {'num': 1}]\n",
        "sorted(myList, key=lambda x: x['num'])"
      ]
    },
    {
      "cell_type": "code",
      "execution_count": null,
      "id": "2a87f878",
      "metadata": {
        "id": "2a87f878"
      },
      "outputs": [],
      "source": []
    }
  ],
  "metadata": {
    "kernelspec": {
      "display_name": "Python 3 (ipykernel)",
      "language": "python",
      "name": "python3"
    },
    "language_info": {
      "codemirror_mode": {
        "name": "ipython",
        "version": 3
      },
      "file_extension": ".py",
      "mimetype": "text/x-python",
      "name": "python",
      "nbconvert_exporter": "python",
      "pygments_lexer": "ipython3",
      "version": "3.9.13"
    },
    "colab": {
      "provenance": [],
      "include_colab_link": true
    }
  },
  "nbformat": 4,
  "nbformat_minor": 5
}