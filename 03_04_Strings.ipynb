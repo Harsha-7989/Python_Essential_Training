{
  "cells": [
    {
      "cell_type": "markdown",
      "metadata": {
        "id": "view-in-github",
        "colab_type": "text"
      },
      "source": [
        "<a href=\"https://colab.research.google.com/github/Harsha-7989/Python_Essential_Training/blob/main/03_04_Strings.ipynb\" target=\"_parent\"><img src=\"https://colab.research.google.com/assets/colab-badge.svg\" alt=\"Open In Colab\"/></a>"
      ]
    },
    {
      "cell_type": "code",
      "execution_count": 1,
      "id": "035347bb",
      "metadata": {
        "id": "035347bb"
      },
      "outputs": [],
      "source": [
        "import math"
      ]
    },
    {
      "cell_type": "markdown",
      "id": "02d18456",
      "metadata": {
        "id": "02d18456"
      },
      "source": [
        "## Strings"
      ]
    },
    {
      "cell_type": "markdown",
      "id": "bfc860a0",
      "metadata": {
        "id": "bfc860a0"
      },
      "source": [
        "### Slicing"
      ]
    },
    {
      "cell_type": "code",
      "execution_count": 2,
      "id": "387a2e6e",
      "metadata": {
        "id": "387a2e6e"
      },
      "outputs": [],
      "source": [
        "name = 'My name is Ryan Mitchell'"
      ]
    },
    {
      "cell_type": "code",
      "execution_count": 3,
      "id": "1ebc90d0",
      "metadata": {
        "colab": {
          "base_uri": "https://localhost:8080/",
          "height": 35
        },
        "id": "1ebc90d0",
        "outputId": "60d725a9-264d-44cc-93bf-ebbeae421132"
      },
      "outputs": [
        {
          "output_type": "execute_result",
          "data": {
            "text/plain": [
              "'M'"
            ],
            "application/vnd.google.colaboratory.intrinsic+json": {
              "type": "string"
            }
          },
          "metadata": {},
          "execution_count": 3
        }
      ],
      "source": [
        "name[0]"
      ]
    },
    {
      "cell_type": "code",
      "execution_count": 4,
      "id": "927b4d55",
      "metadata": {
        "colab": {
          "base_uri": "https://localhost:8080/",
          "height": 35
        },
        "id": "927b4d55",
        "outputId": "51a972a0-bf6d-4945-b54d-944a9f7bb0b6"
      },
      "outputs": [
        {
          "output_type": "execute_result",
          "data": {
            "text/plain": [
              "'y'"
            ],
            "application/vnd.google.colaboratory.intrinsic+json": {
              "type": "string"
            }
          },
          "metadata": {},
          "execution_count": 4
        }
      ],
      "source": [
        "name[1]"
      ]
    },
    {
      "cell_type": "code",
      "execution_count": 5,
      "id": "37f585af",
      "metadata": {
        "colab": {
          "base_uri": "https://localhost:8080/",
          "height": 35
        },
        "id": "37f585af",
        "outputId": "416abf15-0f46-4ac2-8f70-7ad9efe81a5f"
      },
      "outputs": [
        {
          "output_type": "execute_result",
          "data": {
            "text/plain": [
              "'My name'"
            ],
            "application/vnd.google.colaboratory.intrinsic+json": {
              "type": "string"
            }
          },
          "metadata": {},
          "execution_count": 5
        }
      ],
      "source": [
        "name[0:7]"
      ]
    },
    {
      "cell_type": "code",
      "execution_count": 6,
      "id": "147d51d5",
      "metadata": {
        "colab": {
          "base_uri": "https://localhost:8080/",
          "height": 35
        },
        "id": "147d51d5",
        "outputId": "7e07234c-45d6-4797-e4f1-3a352088c27e"
      },
      "outputs": [
        {
          "output_type": "execute_result",
          "data": {
            "text/plain": [
              "'My name'"
            ],
            "application/vnd.google.colaboratory.intrinsic+json": {
              "type": "string"
            }
          },
          "metadata": {},
          "execution_count": 6
        }
      ],
      "source": [
        "name[:7]"
      ]
    },
    {
      "cell_type": "code",
      "execution_count": 7,
      "id": "8642d491",
      "metadata": {
        "colab": {
          "base_uri": "https://localhost:8080/",
          "height": 35
        },
        "id": "8642d491",
        "outputId": "d2b6e8be-a238-41c4-dac6-aefcea0a9e69"
      },
      "outputs": [
        {
          "output_type": "execute_result",
          "data": {
            "text/plain": [
              "'Ryan Mitchell'"
            ],
            "application/vnd.google.colaboratory.intrinsic+json": {
              "type": "string"
            }
          },
          "metadata": {},
          "execution_count": 7
        }
      ],
      "source": [
        "name[11:]"
      ]
    },
    {
      "cell_type": "code",
      "execution_count": 8,
      "id": "0eb13957",
      "metadata": {
        "id": "0eb13957"
      },
      "outputs": [],
      "source": [
        "myList = [1,2,3,4,5]"
      ]
    },
    {
      "cell_type": "code",
      "execution_count": 9,
      "id": "11dc06e6",
      "metadata": {
        "colab": {
          "base_uri": "https://localhost:8080/"
        },
        "id": "11dc06e6",
        "outputId": "44db3eab-bcb3-40e8-adb1-36f909db17b5"
      },
      "outputs": [
        {
          "output_type": "execute_result",
          "data": {
            "text/plain": [
              "[3, 4]"
            ]
          },
          "metadata": {},
          "execution_count": 9
        }
      ],
      "source": [
        "myList[2:4]"
      ]
    },
    {
      "cell_type": "code",
      "execution_count": 10,
      "id": "6644ab0b",
      "metadata": {
        "colab": {
          "base_uri": "https://localhost:8080/"
        },
        "id": "6644ab0b",
        "outputId": "aac0afe5-ae0a-4ab0-e799-3bf789d9dab2"
      },
      "outputs": [
        {
          "output_type": "execute_result",
          "data": {
            "text/plain": [
              "24"
            ]
          },
          "metadata": {},
          "execution_count": 10
        }
      ],
      "source": [
        "len(name)"
      ]
    },
    {
      "cell_type": "code",
      "execution_count": 11,
      "id": "75b57667",
      "metadata": {
        "colab": {
          "base_uri": "https://localhost:8080/"
        },
        "id": "75b57667",
        "outputId": "ee1a94f4-8194-4b36-a9e5-f9e017f2161d"
      },
      "outputs": [
        {
          "output_type": "execute_result",
          "data": {
            "text/plain": [
              "5"
            ]
          },
          "metadata": {},
          "execution_count": 11
        }
      ],
      "source": [
        "len(myList)"
      ]
    },
    {
      "cell_type": "markdown",
      "id": "2f62d3a0",
      "metadata": {
        "id": "2f62d3a0"
      },
      "source": [
        "### Formatting"
      ]
    },
    {
      "cell_type": "code",
      "execution_count": 12,
      "id": "46e3eee4",
      "metadata": {
        "colab": {
          "base_uri": "https://localhost:8080/",
          "height": 35
        },
        "id": "46e3eee4",
        "outputId": "31954134-33a6-491c-d931-21998ea07e64"
      },
      "outputs": [
        {
          "output_type": "execute_result",
          "data": {
            "text/plain": [
              "'My number is: 5'"
            ],
            "application/vnd.google.colaboratory.intrinsic+json": {
              "type": "string"
            }
          },
          "metadata": {},
          "execution_count": 12
        }
      ],
      "source": [
        "'My number is: '+str(5)"
      ]
    },
    {
      "cell_type": "code",
      "execution_count": 13,
      "id": "50b4d13a",
      "metadata": {
        "colab": {
          "base_uri": "https://localhost:8080/",
          "height": 35
        },
        "id": "50b4d13a",
        "outputId": "9706514e-9564-47db-91b4-4cdc2170a3a3"
      },
      "outputs": [
        {
          "output_type": "execute_result",
          "data": {
            "text/plain": [
              "'My number is: 5'"
            ],
            "application/vnd.google.colaboratory.intrinsic+json": {
              "type": "string"
            }
          },
          "metadata": {},
          "execution_count": 13
        }
      ],
      "source": [
        "f'My number is: {5}'"
      ]
    },
    {
      "cell_type": "code",
      "execution_count": 14,
      "id": "bd3f66d7",
      "metadata": {
        "colab": {
          "base_uri": "https://localhost:8080/",
          "height": 35
        },
        "id": "bd3f66d7",
        "outputId": "4b390d2d-4507-45ad-81cf-2ca651c3ffc3"
      },
      "outputs": [
        {
          "output_type": "execute_result",
          "data": {
            "text/plain": [
              "'My number is: 5 and twice that is 10'"
            ],
            "application/vnd.google.colaboratory.intrinsic+json": {
              "type": "string"
            }
          },
          "metadata": {},
          "execution_count": 14
        }
      ],
      "source": [
        "f'My number is: {5} and twice that is {2*5}'"
      ]
    },
    {
      "cell_type": "code",
      "execution_count": 15,
      "id": "9581a9bc",
      "metadata": {
        "colab": {
          "base_uri": "https://localhost:8080/",
          "height": 35
        },
        "id": "9581a9bc",
        "outputId": "5463150d-f755-472f-8c4f-3f45a7d3328f"
      },
      "outputs": [
        {
          "output_type": "execute_result",
          "data": {
            "text/plain": [
              "'Pi is: 3.14'"
            ],
            "application/vnd.google.colaboratory.intrinsic+json": {
              "type": "string"
            }
          },
          "metadata": {},
          "execution_count": 15
        }
      ],
      "source": [
        "f'Pi is: {math.pi:.2f}'"
      ]
    },
    {
      "cell_type": "code",
      "execution_count": 16,
      "id": "4ac812ce",
      "metadata": {
        "colab": {
          "base_uri": "https://localhost:8080/",
          "height": 35
        },
        "id": "4ac812ce",
        "outputId": "ad2c22e7-b721-4356-d0e6-854d645c9bed"
      },
      "outputs": [
        {
          "output_type": "execute_result",
          "data": {
            "text/plain": [
              "'Pi is: 3.141592653589793'"
            ],
            "application/vnd.google.colaboratory.intrinsic+json": {
              "type": "string"
            }
          },
          "metadata": {},
          "execution_count": 16
        }
      ],
      "source": [
        "'Pi is: {}'.format(math.pi)"
      ]
    },
    {
      "cell_type": "markdown",
      "id": "9f153341",
      "metadata": {
        "id": "9f153341"
      },
      "source": [
        "### Multi-line Strings"
      ]
    },
    {
      "cell_type": "code",
      "execution_count": 17,
      "id": "92cb7feb",
      "metadata": {
        "id": "92cb7feb"
      },
      "outputs": [],
      "source": [
        "myString = '''\n",
        "Here is a long block of text\n",
        "I can add newlines!\n",
        "the text doesn't stop until it sees \\'\\'\\'\n",
        "\n",
        "'''"
      ]
    },
    {
      "cell_type": "code",
      "execution_count": 18,
      "id": "496129f8",
      "metadata": {
        "colab": {
          "base_uri": "https://localhost:8080/",
          "height": 35
        },
        "id": "496129f8",
        "outputId": "57bed8c2-093e-4a9e-a529-82b5bfa1cf40"
      },
      "outputs": [
        {
          "output_type": "execute_result",
          "data": {
            "text/plain": [
              "\"\\nHere is a long block of text\\nI can add newlines!\\nthe text doesn't stop until it sees '''\\n\\n\""
            ],
            "application/vnd.google.colaboratory.intrinsic+json": {
              "type": "string"
            }
          },
          "metadata": {},
          "execution_count": 18
        }
      ],
      "source": [
        "myString"
      ]
    },
    {
      "cell_type": "code",
      "source": [
        "myString"
      ],
      "metadata": {
        "id": "YQJrxIZguQs0",
        "outputId": "cb17502b-333b-4079-a355-3fb3881d0185",
        "colab": {
          "base_uri": "https://localhost:8080/",
          "height": 35
        }
      },
      "id": "YQJrxIZguQs0",
      "execution_count": 20,
      "outputs": [
        {
          "output_type": "execute_result",
          "data": {
            "text/plain": [
              "\"\\nHere is a long block of text\\nI can add newlines!\\nthe text doesn't stop until it sees '''\\n\\n\""
            ],
            "application/vnd.google.colaboratory.intrinsic+json": {
              "type": "string"
            }
          },
          "metadata": {},
          "execution_count": 20
        }
      ]
    },
    {
      "cell_type": "code",
      "execution_count": 19,
      "id": "a9b4ddec",
      "metadata": {
        "colab": {
          "base_uri": "https://localhost:8080/"
        },
        "id": "a9b4ddec",
        "outputId": "64d03203-ad22-4f16-bf03-a97bf2734189"
      },
      "outputs": [
        {
          "output_type": "stream",
          "name": "stdout",
          "text": [
            "\n",
            "Here is a long block of text\n",
            "I can add newlines!\n",
            "the text doesn't stop until it sees '''\n",
            "\n",
            "\n"
          ]
        }
      ],
      "source": [
        "print(myString)"
      ]
    },
    {
      "cell_type": "code",
      "execution_count": null,
      "id": "5fb8f96a",
      "metadata": {
        "id": "5fb8f96a"
      },
      "outputs": [],
      "source": []
    }
  ],
  "metadata": {
    "kernelspec": {
      "display_name": "Python 3 (ipykernel)",
      "language": "python",
      "name": "python3"
    },
    "language_info": {
      "codemirror_mode": {
        "name": "ipython",
        "version": 3
      },
      "file_extension": ".py",
      "mimetype": "text/x-python",
      "name": "python",
      "nbconvert_exporter": "python",
      "pygments_lexer": "ipython3",
      "version": "3.9.13"
    },
    "colab": {
      "provenance": [],
      "include_colab_link": true
    }
  },
  "nbformat": 4,
  "nbformat_minor": 5
}