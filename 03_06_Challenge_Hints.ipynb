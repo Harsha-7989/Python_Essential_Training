{
  "cells": [
    {
      "cell_type": "markdown",
      "metadata": {
        "id": "view-in-github",
        "colab_type": "text"
      },
      "source": [
        "<a href=\"https://colab.research.google.com/github/Harsha-7989/Python_Essential_Training/blob/main/03_06_Challenge_Hints.ipynb\" target=\"_parent\"><img src=\"https://colab.research.google.com/assets/colab-badge.svg\" alt=\"Open In Colab\"/></a>"
      ]
    },
    {
      "cell_type": "markdown",
      "id": "5cd90a72",
      "metadata": {
        "id": "5cd90a72"
      },
      "source": [
        "## Converting Hexadecimal to Decimal\n"
      ]
    },
    {
      "cell_type": "code",
      "execution_count": null,
      "id": "6f856dbf-cb3b-46f6-974c-2183088fc2eb",
      "metadata": {
        "id": "6f856dbf-cb3b-46f6-974c-2183088fc2eb"
      },
      "outputs": [],
      "source": []
    },
    {
      "cell_type": "markdown",
      "id": "b204bc4e",
      "metadata": {
        "id": "b204bc4e"
      },
      "source": [
        "### Challenge Hints!"
      ]
    },
    {
      "cell_type": "markdown",
      "id": "41ca3358",
      "metadata": {
        "id": "41ca3358"
      },
      "source": [
        "**Hint 1:** The following will convert 'ABC' into a decimal:\n"
      ]
    },
    {
      "cell_type": "code",
      "execution_count": null,
      "id": "31190f4a",
      "metadata": {
        "id": "31190f4a",
        "outputId": "330e9f7c-309f-45fc-858c-d699f22dc7de"
      },
      "outputs": [
        {
          "data": {
            "text/plain": [
              "2748"
            ]
          },
          "execution_count": 2,
          "metadata": {},
          "output_type": "execute_result"
        }
      ],
      "source": [
        "hexNumbers = {\n",
        "    '0': 0, '1': 1, '2': 2, '3': 3, '4': 4, '5': 5, '6': 6, '7': 7, '8': 8, '9': 9,\n",
        "    'A': 10, 'B': 11, 'C': 12, 'D': 13, 'E': 14, 'F': 15\n",
        "}\n",
        "\n",
        "hexNumbers['A'] * 256 + hexNumbers['B'] * 16 + hexNumbers['C']"
      ]
    },
    {
      "cell_type": "markdown",
      "id": "61a884ee",
      "metadata": {
        "id": "61a884ee"
      },
      "source": [
        "**Hint 2:** You can check to see how long the hex string is with:"
      ]
    },
    {
      "cell_type": "code",
      "execution_count": null,
      "id": "7f4a3877",
      "metadata": {
        "id": "7f4a3877",
        "outputId": "72954853-ce6b-48ca-f261-548375ce5618"
      },
      "outputs": [
        {
          "data": {
            "text/plain": [
              "2"
            ]
          },
          "execution_count": 4,
          "metadata": {},
          "output_type": "execute_result"
        }
      ],
      "source": [
        "hexNum = '1B'\n",
        "len(hexNum)"
      ]
    },
    {
      "cell_type": "markdown",
      "id": "2893d9ef",
      "metadata": {
        "id": "2893d9ef"
      },
      "source": [
        "**Hint 3:** You can get the character at each position of a string like this:"
      ]
    },
    {
      "cell_type": "code",
      "execution_count": null,
      "id": "a9cb3333",
      "metadata": {
        "id": "a9cb3333",
        "outputId": "852f18da-1d86-45e7-deb2-2e4852aa0b71"
      },
      "outputs": [
        {
          "name": "stdout",
          "output_type": "stream",
          "text": [
            "A\n",
            "B\n",
            "C\n"
          ]
        }
      ],
      "source": [
        "hexNum = 'ABC'\n",
        "print(hexNum[0])\n",
        "print(hexNum[1])\n",
        "print(hexNum[2])\n"
      ]
    },
    {
      "cell_type": "code",
      "execution_count": null,
      "id": "cfc54187",
      "metadata": {
        "id": "cfc54187"
      },
      "outputs": [],
      "source": [
        "hexNumbers = {\n",
        "    '0': 0, '1': 1, '2': 2, '3': 3, '4': 4, '5': 5, '6': 6, '7': 7, '8': 8, '9': 9,\n",
        "    'A': 10, 'B': 11, 'C': 12, 'D': 13, 'E': 14, 'F': 15\n",
        "}\n",
        "\n",
        "# Converts a string hexadecimal number into an integer decimal\n",
        "# If hexNum is not a valid hexadecimal number, returns None\n",
        "def hexToDec(hexNum):\n",
        "    pass"
      ]
    },
    {
      "cell_type": "markdown",
      "id": "db14e41c-81f1-4897-8bde-cd4855060fba",
      "metadata": {
        "id": "db14e41c-81f1-4897-8bde-cd4855060fba"
      },
      "source": [
        "**Hint 4**: You can tell if every character in a string is a hex character like this:\n",
        "\n"
      ]
    },
    {
      "cell_type": "code",
      "execution_count": null,
      "id": "6d4c987e-3b52-4679-9ae6-ce3115fd5fa9",
      "metadata": {
        "id": "6d4c987e-3b52-4679-9ae6-ce3115fd5fa9",
        "outputId": "2bc0c376-3ae8-4060-add4-58f4810e07e2"
      },
      "outputs": [
        {
          "name": "stdout",
          "output_type": "stream",
          "text": [
            "Z is not a hex character!\n"
          ]
        }
      ],
      "source": [
        "myString = 'ABCZ'\n",
        "for char in myString:\n",
        "    if char not in hexNumbers:\n",
        "        print(f'{char} is not a hex character!')"
      ]
    },
    {
      "cell_type": "code",
      "execution_count": 1,
      "id": "3ae60510-e28e-48cb-a4a7-de383931faa6",
      "metadata": {
        "id": "3ae60510-e28e-48cb-a4a7-de383931faa6"
      },
      "outputs": [],
      "source": [
        "hexNumbers = {\n",
        "    '0': 0, '1': 1, '2': 2, '3': 3, '4': 4, '5': 5, '6': 6, '7': 7, '8': 8, '9': 9,\n",
        "    'A': 10, 'B': 11, 'C': 12, 'D': 13, 'E': 14, 'F': 15\n",
        "}\n",
        "\n",
        "# Converts a string hexadecimal number into an integer decimal\n",
        "# If hexNum is not a valid hexadecimal number, returns None\n",
        "def hexToDec(hexNum):\n",
        "    ls = len(hexNum)\n",
        "    for char in hexNum:\n",
        "        if char not in hexNumbers:\n",
        "            return None\n",
        "    l = len(hexNum)\n",
        "    ans = 0\n",
        "    while l > 0:\n",
        "        ans = ans + (hexNumbers[hexNum[ls - l]] * (16 **(l-1)))\n",
        "        l = l - 1\n",
        "    return ans\n",
        "\n",
        "    pass"
      ]
    },
    {
      "cell_type": "code",
      "source": [
        "hexToDec('1B')"
      ],
      "metadata": {
        "id": "HN6GqHVLytXh",
        "outputId": "3823f07e-f9a3-4550-f123-0678d5e5b16e",
        "colab": {
          "base_uri": "https://localhost:8080/"
        }
      },
      "id": "HN6GqHVLytXh",
      "execution_count": 2,
      "outputs": [
        {
          "output_type": "execute_result",
          "data": {
            "text/plain": [
              "27"
            ]
          },
          "metadata": {},
          "execution_count": 2
        }
      ]
    },
    {
      "cell_type": "code",
      "source": [],
      "metadata": {
        "id": "o_V9PWQyyxyK"
      },
      "id": "o_V9PWQyyxyK",
      "execution_count": null,
      "outputs": []
    }
  ],
  "metadata": {
    "kernelspec": {
      "display_name": "Python 3 (ipykernel)",
      "language": "python",
      "name": "python3"
    },
    "language_info": {
      "codemirror_mode": {
        "name": "ipython",
        "version": 3
      },
      "file_extension": ".py",
      "mimetype": "text/x-python",
      "name": "python",
      "nbconvert_exporter": "python",
      "pygments_lexer": "ipython3",
      "version": "3.9.13"
    },
    "vscode": {
      "interpreter": {
        "hash": "949777d72b0d2535278d3dc13498b2535136f6dfe0678499012e853ee9abcab1"
      }
    },
    "colab": {
      "provenance": [],
      "include_colab_link": true
    }
  },
  "nbformat": 4,
  "nbformat_minor": 5
}