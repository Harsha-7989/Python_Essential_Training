{
  "cells": [
    {
      "cell_type": "markdown",
      "metadata": {
        "id": "view-in-github",
        "colab_type": "text"
      },
      "source": [
        "<a href=\"https://colab.research.google.com/github/Harsha-7989/Python_Essential_Training/blob/main/05_01_IfElseIfelse.ipynb\" target=\"_parent\"><img src=\"https://colab.research.google.com/assets/colab-badge.svg\" alt=\"Open In Colab\"/></a>"
      ]
    },
    {
      "cell_type": "markdown",
      "id": "c2034a59",
      "metadata": {
        "id": "c2034a59"
      },
      "source": [
        "## If statements with \"FizzBuzz\""
      ]
    },
    {
      "cell_type": "code",
      "execution_count": 1,
      "id": "4ba398e8",
      "metadata": {
        "colab": {
          "base_uri": "https://localhost:8080/"
        },
        "id": "4ba398e8",
        "outputId": "817495cc-538b-40fb-ae27-e375f1397a60"
      },
      "outputs": [
        {
          "output_type": "stream",
          "name": "stdout",
          "text": [
            "1\n",
            "2\n",
            "Fizz\n",
            "4\n",
            "Buzz\n",
            "Fizz\n",
            "7\n",
            "8\n",
            "Fizz\n",
            "Buzz\n",
            "11\n",
            "Fizz\n",
            "13\n",
            "14\n",
            "FizzBuzz\n",
            "16\n",
            "17\n",
            "Fizz\n",
            "19\n",
            "Buzz\n",
            "Fizz\n",
            "22\n",
            "23\n",
            "Fizz\n",
            "Buzz\n",
            "26\n",
            "Fizz\n",
            "28\n",
            "29\n",
            "FizzBuzz\n",
            "31\n",
            "32\n",
            "Fizz\n",
            "34\n",
            "Buzz\n",
            "Fizz\n",
            "37\n",
            "38\n",
            "Fizz\n",
            "Buzz\n",
            "41\n",
            "Fizz\n",
            "43\n",
            "44\n",
            "FizzBuzz\n",
            "46\n",
            "47\n",
            "Fizz\n",
            "49\n",
            "Buzz\n",
            "Fizz\n",
            "52\n",
            "53\n",
            "Fizz\n",
            "Buzz\n",
            "56\n",
            "Fizz\n",
            "58\n",
            "59\n",
            "FizzBuzz\n",
            "61\n",
            "62\n",
            "Fizz\n",
            "64\n",
            "Buzz\n",
            "Fizz\n",
            "67\n",
            "68\n",
            "Fizz\n",
            "Buzz\n",
            "71\n",
            "Fizz\n",
            "73\n",
            "74\n",
            "FizzBuzz\n",
            "76\n",
            "77\n",
            "Fizz\n",
            "79\n",
            "Buzz\n",
            "Fizz\n",
            "82\n",
            "83\n",
            "Fizz\n",
            "Buzz\n",
            "86\n",
            "Fizz\n",
            "88\n",
            "89\n",
            "FizzBuzz\n",
            "91\n",
            "92\n",
            "Fizz\n",
            "94\n",
            "Buzz\n",
            "Fizz\n",
            "97\n",
            "98\n",
            "Fizz\n",
            "Buzz\n"
          ]
        }
      ],
      "source": [
        "# 1, 2, Fizz, 4, Buzz, Fizz, 7, 8, Fizz, Buzz, 11, Fizz, 13, FizzBuzz, 16\n",
        "\n",
        "for n in range(1, 101):\n",
        "    if n % 15 == 0:\n",
        "        print('FizzBuzz')\n",
        "    else:\n",
        "        if n % 3 == 0:\n",
        "            print('Fizz')\n",
        "        else:\n",
        "            if n % 5 == 0:\n",
        "                print('Buzz')\n",
        "            else:\n",
        "                print(n)"
      ]
    },
    {
      "cell_type": "markdown",
      "id": "4397b06b",
      "metadata": {
        "id": "4397b06b"
      },
      "source": [
        "### Elif statements"
      ]
    },
    {
      "cell_type": "code",
      "execution_count": 2,
      "id": "9e194f71",
      "metadata": {
        "colab": {
          "base_uri": "https://localhost:8080/"
        },
        "id": "9e194f71",
        "outputId": "55e53de9-81ab-499c-dccf-da04336b706c"
      },
      "outputs": [
        {
          "output_type": "stream",
          "name": "stdout",
          "text": [
            "1\n",
            "2\n",
            "Fizz\n",
            "4\n",
            "Buzz\n",
            "Fizz\n",
            "7\n",
            "8\n",
            "Fizz\n",
            "Buzz\n",
            "11\n",
            "Fizz\n",
            "13\n",
            "14\n",
            "FizzBuzz\n",
            "16\n",
            "17\n",
            "Fizz\n",
            "19\n",
            "Buzz\n",
            "Fizz\n",
            "22\n",
            "23\n",
            "Fizz\n",
            "Buzz\n",
            "26\n",
            "Fizz\n",
            "28\n",
            "29\n",
            "FizzBuzz\n",
            "31\n",
            "32\n",
            "Fizz\n",
            "34\n",
            "Buzz\n",
            "Fizz\n",
            "37\n",
            "38\n",
            "Fizz\n",
            "Buzz\n",
            "41\n",
            "Fizz\n",
            "43\n",
            "44\n",
            "FizzBuzz\n",
            "46\n",
            "47\n",
            "Fizz\n",
            "49\n",
            "Buzz\n",
            "Fizz\n",
            "52\n",
            "53\n",
            "Fizz\n",
            "Buzz\n",
            "56\n",
            "Fizz\n",
            "58\n",
            "59\n",
            "FizzBuzz\n",
            "61\n",
            "62\n",
            "Fizz\n",
            "64\n",
            "Buzz\n",
            "Fizz\n",
            "67\n",
            "68\n",
            "Fizz\n",
            "Buzz\n",
            "71\n",
            "Fizz\n",
            "73\n",
            "74\n",
            "FizzBuzz\n",
            "76\n",
            "77\n",
            "Fizz\n",
            "79\n",
            "Buzz\n",
            "Fizz\n",
            "82\n",
            "83\n",
            "Fizz\n",
            "Buzz\n",
            "86\n",
            "Fizz\n",
            "88\n",
            "89\n",
            "FizzBuzz\n",
            "91\n",
            "92\n",
            "Fizz\n",
            "94\n",
            "Buzz\n",
            "Fizz\n",
            "97\n",
            "98\n",
            "Fizz\n",
            "Buzz\n"
          ]
        }
      ],
      "source": [
        "for n in range(1, 101):\n",
        "    if n % 15 == 0:\n",
        "        print('FizzBuzz')\n",
        "    elif n % 3 == 0:\n",
        "        print('Fizz')\n",
        "    elif n % 5 == 0:\n",
        "        print('Buzz')\n",
        "    else:\n",
        "        print(n)\n",
        "\n"
      ]
    },
    {
      "cell_type": "markdown",
      "id": "1413eeef",
      "metadata": {
        "id": "1413eeef"
      },
      "source": [
        "### Single Line if statements"
      ]
    },
    {
      "cell_type": "code",
      "execution_count": 3,
      "id": "bd670c44",
      "metadata": {
        "colab": {
          "base_uri": "https://localhost:8080/"
        },
        "id": "bd670c44",
        "outputId": "d6f16f23-237b-401c-d4d0-74c00a776c3b"
      },
      "outputs": [
        {
          "output_type": "stream",
          "name": "stdout",
          "text": [
            "5\n"
          ]
        }
      ],
      "source": [
        "n = 5\n",
        "print('Fizz' if n % 3 == 0 else n)"
      ]
    },
    {
      "cell_type": "code",
      "execution_count": 4,
      "id": "30aa0ab9",
      "metadata": {
        "id": "30aa0ab9"
      },
      "outputs": [],
      "source": [
        "fizzBuzz = 'Fizz' if n % 3 == 0 else n"
      ]
    },
    {
      "cell_type": "code",
      "execution_count": 5,
      "id": "8c657dbc",
      "metadata": {
        "colab": {
          "base_uri": "https://localhost:8080/",
          "height": 35
        },
        "id": "8c657dbc",
        "outputId": "71a0d96c-b4dc-4bf1-84eb-c69ad7b958c4"
      },
      "outputs": [
        {
          "output_type": "execute_result",
          "data": {
            "text/plain": [
              "'Buzz'"
            ],
            "application/vnd.google.colaboratory.intrinsic+json": {
              "type": "string"
            }
          },
          "metadata": {},
          "execution_count": 5
        }
      ],
      "source": [
        "'Fizz' if n % 3 == 0 else 'Buzz' if n % 5 == 0 else n"
      ]
    },
    {
      "cell_type": "code",
      "execution_count": 6,
      "id": "ac92cbb1",
      "metadata": {
        "colab": {
          "base_uri": "https://localhost:8080/",
          "height": 35
        },
        "id": "ac92cbb1",
        "outputId": "50d2ab99-4b23-40e5-e4b2-cfae7b8c06a8"
      },
      "outputs": [
        {
          "output_type": "execute_result",
          "data": {
            "text/plain": [
              "'Buzz'"
            ],
            "application/vnd.google.colaboratory.intrinsic+json": {
              "type": "string"
            }
          },
          "metadata": {},
          "execution_count": 6
        }
      ],
      "source": [
        "'FizzBuzz' if n % 15 == 0 else 'Fizz' if n % 3 == 0 else 'Buzz' if n % 5 == 0 else n"
      ]
    },
    {
      "cell_type": "code",
      "execution_count": 7,
      "id": "aab21dd3",
      "metadata": {
        "colab": {
          "base_uri": "https://localhost:8080/"
        },
        "id": "aab21dd3",
        "outputId": "6aea406e-4fe8-47d4-f4de-065b22375a3e"
      },
      "outputs": [
        {
          "output_type": "execute_result",
          "data": {
            "text/plain": [
              "[1,\n",
              " 2,\n",
              " 'Fizz',\n",
              " 4,\n",
              " 'Buzz',\n",
              " 'Fizz',\n",
              " 7,\n",
              " 8,\n",
              " 'Fizz',\n",
              " 'Buzz',\n",
              " 11,\n",
              " 'Fizz',\n",
              " 13,\n",
              " 14,\n",
              " 'FizzBuzz',\n",
              " 16,\n",
              " 17,\n",
              " 'Fizz',\n",
              " 19,\n",
              " 'Buzz',\n",
              " 'Fizz',\n",
              " 22,\n",
              " 23,\n",
              " 'Fizz',\n",
              " 'Buzz',\n",
              " 26,\n",
              " 'Fizz',\n",
              " 28,\n",
              " 29,\n",
              " 'FizzBuzz',\n",
              " 31,\n",
              " 32,\n",
              " 'Fizz',\n",
              " 34,\n",
              " 'Buzz',\n",
              " 'Fizz',\n",
              " 37,\n",
              " 38,\n",
              " 'Fizz',\n",
              " 'Buzz',\n",
              " 41,\n",
              " 'Fizz',\n",
              " 43,\n",
              " 44,\n",
              " 'FizzBuzz',\n",
              " 46,\n",
              " 47,\n",
              " 'Fizz',\n",
              " 49,\n",
              " 'Buzz',\n",
              " 'Fizz',\n",
              " 52,\n",
              " 53,\n",
              " 'Fizz',\n",
              " 'Buzz',\n",
              " 56,\n",
              " 'Fizz',\n",
              " 58,\n",
              " 59,\n",
              " 'FizzBuzz',\n",
              " 61,\n",
              " 62,\n",
              " 'Fizz',\n",
              " 64,\n",
              " 'Buzz',\n",
              " 'Fizz',\n",
              " 67,\n",
              " 68,\n",
              " 'Fizz',\n",
              " 'Buzz',\n",
              " 71,\n",
              " 'Fizz',\n",
              " 73,\n",
              " 74,\n",
              " 'FizzBuzz',\n",
              " 76,\n",
              " 77,\n",
              " 'Fizz',\n",
              " 79,\n",
              " 'Buzz',\n",
              " 'Fizz',\n",
              " 82,\n",
              " 83,\n",
              " 'Fizz',\n",
              " 'Buzz',\n",
              " 86,\n",
              " 'Fizz',\n",
              " 88,\n",
              " 89,\n",
              " 'FizzBuzz',\n",
              " 91,\n",
              " 92,\n",
              " 'Fizz',\n",
              " 94,\n",
              " 'Buzz',\n",
              " 'Fizz',\n",
              " 97,\n",
              " 98,\n",
              " 'Fizz',\n",
              " 'Buzz']"
            ]
          },
          "metadata": {},
          "execution_count": 7
        }
      ],
      "source": [
        "['FizzBuzz' if n % 15 == 0 else 'Fizz' if n % 3 == 0 else 'Buzz' if n % 5 == 0 else n for n in range(1, 101)]"
      ]
    },
    {
      "cell_type": "code",
      "execution_count": null,
      "id": "84dfc5c8",
      "metadata": {
        "id": "84dfc5c8"
      },
      "outputs": [],
      "source": []
    }
  ],
  "metadata": {
    "kernelspec": {
      "display_name": "Python 3 (ipykernel)",
      "language": "python",
      "name": "python3"
    },
    "language_info": {
      "codemirror_mode": {
        "name": "ipython",
        "version": 3
      },
      "file_extension": ".py",
      "mimetype": "text/x-python",
      "name": "python",
      "nbconvert_exporter": "python",
      "pygments_lexer": "ipython3",
      "version": "3.10.2"
    },
    "colab": {
      "provenance": [],
      "include_colab_link": true
    }
  },
  "nbformat": 4,
  "nbformat_minor": 5
}