{
  "cells": [
    {
      "cell_type": "markdown",
      "metadata": {
        "id": "view-in-github",
        "colab_type": "text"
      },
      "source": [
        "<a href=\"https://colab.research.google.com/github/Harsha-7989/Python_Essential_Training/blob/main/03_03_Booleans.ipynb\" target=\"_parent\"><img src=\"https://colab.research.google.com/assets/colab-badge.svg\" alt=\"Open In Colab\"/></a>"
      ]
    },
    {
      "cell_type": "markdown",
      "id": "b0b4ced9",
      "metadata": {
        "id": "b0b4ced9"
      },
      "source": [
        "## Booleans"
      ]
    },
    {
      "cell_type": "markdown",
      "id": "640d8e33",
      "metadata": {
        "id": "640d8e33"
      },
      "source": [
        "### Casting Booleans"
      ]
    },
    {
      "cell_type": "code",
      "execution_count": 1,
      "id": "fdfc97c5",
      "metadata": {
        "colab": {
          "base_uri": "https://localhost:8080/"
        },
        "id": "fdfc97c5",
        "outputId": "8a4bf533-2ad7-4255-e5f6-a046931d18aa"
      },
      "outputs": [
        {
          "output_type": "execute_result",
          "data": {
            "text/plain": [
              "True"
            ]
          },
          "metadata": {},
          "execution_count": 1
        }
      ],
      "source": [
        "bool(1)"
      ]
    },
    {
      "cell_type": "code",
      "execution_count": 2,
      "id": "4985b699",
      "metadata": {
        "colab": {
          "base_uri": "https://localhost:8080/"
        },
        "id": "4985b699",
        "outputId": "4a133c53-5023-4003-fad4-74ddbcb7381d"
      },
      "outputs": [
        {
          "output_type": "execute_result",
          "data": {
            "text/plain": [
              "False"
            ]
          },
          "metadata": {},
          "execution_count": 2
        }
      ],
      "source": [
        "bool(0)"
      ]
    },
    {
      "cell_type": "code",
      "execution_count": 3,
      "id": "2416682d",
      "metadata": {
        "colab": {
          "base_uri": "https://localhost:8080/"
        },
        "id": "2416682d",
        "outputId": "e2c299f8-19b0-4e2c-cb1d-d7ac900c7d1e"
      },
      "outputs": [
        {
          "output_type": "execute_result",
          "data": {
            "text/plain": [
              "True"
            ]
          },
          "metadata": {},
          "execution_count": 3
        }
      ],
      "source": [
        "bool(-1)"
      ]
    },
    {
      "cell_type": "code",
      "execution_count": 4,
      "id": "e0ab2a78",
      "metadata": {
        "colab": {
          "base_uri": "https://localhost:8080/"
        },
        "id": "e0ab2a78",
        "outputId": "469d3c9d-f2ff-4bd1-ea79-fce5194398a2"
      },
      "outputs": [
        {
          "output_type": "execute_result",
          "data": {
            "text/plain": [
              "True"
            ]
          },
          "metadata": {},
          "execution_count": 4
        }
      ],
      "source": [
        "bool(1j)"
      ]
    },
    {
      "cell_type": "code",
      "execution_count": 7,
      "id": "3358bc13",
      "metadata": {
        "colab": {
          "base_uri": "https://localhost:8080/"
        },
        "id": "3358bc13",
        "outputId": "6faa2ccc-2f6c-4bcf-b730-91c3662d090f"
      },
      "outputs": [
        {
          "output_type": "execute_result",
          "data": {
            "text/plain": [
              "False"
            ]
          },
          "metadata": {},
          "execution_count": 7
        }
      ],
      "source": [
        "bool(0.0)"
      ]
    },
    {
      "cell_type": "code",
      "execution_count": 8,
      "id": "fb3a4e01",
      "metadata": {
        "colab": {
          "base_uri": "https://localhost:8080/"
        },
        "id": "fb3a4e01",
        "outputId": "c004984b-57a1-4978-d471-639c26cf282c"
      },
      "outputs": [
        {
          "output_type": "execute_result",
          "data": {
            "text/plain": [
              "False"
            ]
          },
          "metadata": {},
          "execution_count": 8
        }
      ],
      "source": [
        "bool(0j)"
      ]
    },
    {
      "cell_type": "code",
      "execution_count": 9,
      "id": "6c75222b",
      "metadata": {
        "colab": {
          "base_uri": "https://localhost:8080/"
        },
        "id": "6c75222b",
        "outputId": "2d3cf423-513f-44d2-b574-8a2e2dfd507d"
      },
      "outputs": [
        {
          "output_type": "execute_result",
          "data": {
            "text/plain": [
              "True"
            ]
          },
          "metadata": {},
          "execution_count": 9
        }
      ],
      "source": [
        "bool('True')"
      ]
    },
    {
      "cell_type": "code",
      "execution_count": 10,
      "id": "1a7f925f",
      "metadata": {
        "colab": {
          "base_uri": "https://localhost:8080/"
        },
        "id": "1a7f925f",
        "outputId": "cee57cb5-3645-4003-b75c-561866f75eed"
      },
      "outputs": [
        {
          "output_type": "execute_result",
          "data": {
            "text/plain": [
              "True"
            ]
          },
          "metadata": {},
          "execution_count": 10
        }
      ],
      "source": [
        "bool('False')"
      ]
    },
    {
      "cell_type": "code",
      "execution_count": 11,
      "id": "3ddf506a",
      "metadata": {
        "colab": {
          "base_uri": "https://localhost:8080/"
        },
        "id": "3ddf506a",
        "outputId": "0160edc2-5416-4bc3-f695-3798a8e2e6b1"
      },
      "outputs": [
        {
          "output_type": "execute_result",
          "data": {
            "text/plain": [
              "False"
            ]
          },
          "metadata": {},
          "execution_count": 11
        }
      ],
      "source": [
        "bool('')"
      ]
    },
    {
      "cell_type": "code",
      "execution_count": 12,
      "id": "6a97eb8e",
      "metadata": {
        "colab": {
          "base_uri": "https://localhost:8080/"
        },
        "id": "6a97eb8e",
        "outputId": "a8959d00-6cfa-4caf-fa2c-c183b156a173"
      },
      "outputs": [
        {
          "output_type": "execute_result",
          "data": {
            "text/plain": [
              "True"
            ]
          },
          "metadata": {},
          "execution_count": 12
        }
      ],
      "source": [
        "bool([1,2])"
      ]
    },
    {
      "cell_type": "code",
      "execution_count": 13,
      "id": "d853d681",
      "metadata": {
        "colab": {
          "base_uri": "https://localhost:8080/"
        },
        "id": "d853d681",
        "outputId": "8aa859c0-9178-4ea2-a4ca-11abd51f6acf"
      },
      "outputs": [
        {
          "output_type": "execute_result",
          "data": {
            "text/plain": [
              "False"
            ]
          },
          "metadata": {},
          "execution_count": 13
        }
      ],
      "source": [
        "bool({})"
      ]
    },
    {
      "cell_type": "code",
      "execution_count": 14,
      "id": "b6080e95",
      "metadata": {
        "colab": {
          "base_uri": "https://localhost:8080/"
        },
        "id": "b6080e95",
        "outputId": "c4f52745-a3c0-425a-9e58-8e5e0d0db1a2"
      },
      "outputs": [
        {
          "output_type": "execute_result",
          "data": {
            "text/plain": [
              "False"
            ]
          },
          "metadata": {},
          "execution_count": 14
        }
      ],
      "source": [
        "bool(None)"
      ]
    },
    {
      "cell_type": "code",
      "execution_count": 15,
      "id": "4825cca1",
      "metadata": {
        "colab": {
          "base_uri": "https://localhost:8080/"
        },
        "id": "4825cca1",
        "outputId": "0022e327-7e38-4495-bca7-e6aaf01de11b"
      },
      "outputs": [
        {
          "output_type": "stream",
          "name": "stdout",
          "text": [
            "Mylist has some values in it!\n"
          ]
        }
      ],
      "source": [
        "myList = [1,2]\n",
        "if bool(myList):\n",
        "    print('Mylist has some values in it!')"
      ]
    },
    {
      "cell_type": "code",
      "execution_count": 16,
      "id": "05a35e09",
      "metadata": {
        "id": "05a35e09"
      },
      "outputs": [],
      "source": [
        "a = 5\n",
        "b = 5\n",
        "if a - b:\n",
        "    print('a and b are not equal!')"
      ]
    },
    {
      "cell_type": "code",
      "execution_count": 17,
      "id": "66a2af0f",
      "metadata": {
        "colab": {
          "base_uri": "https://localhost:8080/"
        },
        "id": "66a2af0f",
        "outputId": "c17025a2-80d1-46f4-f895-6116a29bc320"
      },
      "outputs": [
        {
          "output_type": "execute_result",
          "data": {
            "text/plain": [
              "True"
            ]
          },
          "metadata": {},
          "execution_count": 17
        }
      ],
      "source": [
        "a == b"
      ]
    },
    {
      "cell_type": "markdown",
      "id": "f7286f88",
      "metadata": {
        "id": "f7286f88"
      },
      "source": [
        "### Boolean Logic"
      ]
    },
    {
      "cell_type": "code",
      "execution_count": 18,
      "id": "bc2dd672",
      "metadata": {
        "colab": {
          "base_uri": "https://localhost:8080/"
        },
        "id": "bc2dd672",
        "outputId": "afc9e8bb-eb0a-4aaf-ab2c-b9201b2227ca"
      },
      "outputs": [
        {
          "output_type": "stream",
          "name": "stdout",
          "text": [
            "Go for a walk\n"
          ]
        }
      ],
      "source": [
        "weatherIsNice = True\n",
        "haveUmbrella = False\n",
        "\n",
        "if not (haveUmbrella or weatherIsNice):\n",
        "    print('Stay inside')\n",
        "else:\n",
        "    print('Go for a walk')"
      ]
    },
    {
      "cell_type": "code",
      "execution_count": 19,
      "id": "0e4a5134",
      "metadata": {
        "colab": {
          "base_uri": "https://localhost:8080/"
        },
        "id": "0e4a5134",
        "outputId": "68583fae-5d0e-480c-fce5-e15ccd5f96a4"
      },
      "outputs": [
        {
          "output_type": "stream",
          "name": "stdout",
          "text": [
            "Go for a walk\n"
          ]
        }
      ],
      "source": [
        "weatherIsNice = True\n",
        "haveUmbrella = False\n",
        "\n",
        "if (not haveUmbrella) and (not weatherIsNice):\n",
        "    print('Stay inside')\n",
        "else:\n",
        "    print('Go for a walk')"
      ]
    },
    {
      "cell_type": "code",
      "execution_count": 20,
      "id": "725f330a",
      "metadata": {
        "colab": {
          "base_uri": "https://localhost:8080/"
        },
        "id": "725f330a",
        "outputId": "d236984e-97f7-41b5-f37d-b84638357407"
      },
      "outputs": [
        {
          "output_type": "stream",
          "name": "stdout",
          "text": [
            "Go for a walk\n"
          ]
        }
      ],
      "source": [
        "weatherIsNice = True\n",
        "haveUmbrella = False\n",
        "\n",
        "if haveUmbrella or weatherIsNice:\n",
        "    print('Go for a walk')\n",
        "else:\n",
        "    print('Stay inside')"
      ]
    },
    {
      "cell_type": "code",
      "execution_count": 20,
      "id": "7f01dd8f",
      "metadata": {
        "id": "7f01dd8f"
      },
      "outputs": [],
      "source": []
    }
  ],
  "metadata": {
    "kernelspec": {
      "display_name": "Python 3 (ipykernel)",
      "language": "python",
      "name": "python3"
    },
    "language_info": {
      "codemirror_mode": {
        "name": "ipython",
        "version": 3
      },
      "file_extension": ".py",
      "mimetype": "text/x-python",
      "name": "python",
      "nbconvert_exporter": "python",
      "pygments_lexer": "ipython3",
      "version": "3.9.13"
    },
    "colab": {
      "provenance": [],
      "include_colab_link": true
    }
  },
  "nbformat": 4,
  "nbformat_minor": 5
}