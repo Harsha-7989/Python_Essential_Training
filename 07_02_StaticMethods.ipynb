{
  "cells": [
    {
      "cell_type": "markdown",
      "metadata": {
        "id": "view-in-github",
        "colab_type": "text"
      },
      "source": [
        "<a href=\"https://colab.research.google.com/github/Harsha-7989/Python_Essential_Training/blob/main/07_02_StaticMethods.ipynb\" target=\"_parent\"><img src=\"https://colab.research.google.com/assets/colab-badge.svg\" alt=\"Open In Colab\"/></a>"
      ]
    },
    {
      "cell_type": "markdown",
      "id": "ca340ac5",
      "metadata": {
        "id": "ca340ac5"
      },
      "source": [
        "## Static and Instance Methods"
      ]
    },
    {
      "cell_type": "code",
      "execution_count": 1,
      "id": "abae6b1e",
      "metadata": {
        "colab": {
          "base_uri": "https://localhost:8080/"
        },
        "id": "abae6b1e",
        "outputId": "a493dc8b-18f5-472d-c678-6c20f04863b8"
      },
      "outputs": [
        {
          "output_type": "stream",
          "name": "stdout",
          "text": [
            "{'sentence', 'is', 'ryan', 'a', 'to', 'another', 'i', 'want', 'add', 'here', 'im', 'hi'}\n"
          ]
        }
      ],
      "source": [
        "class WordSet:\n",
        "    def __init__(self):\n",
        "        self.words = set()\n",
        "\n",
        "    def addText(self, text):\n",
        "        text = WordSet.cleanText(text)\n",
        "        for word in text.split():\n",
        "            self.words.add(word)\n",
        "\n",
        "\n",
        "    def cleanText(text):\n",
        "        # chaining functions\n",
        "        text = text.replace('!', '').replace('.', '').replace(',', '').replace('\\'', '')\n",
        "        return text.lower()\n",
        "\n",
        "\n",
        "wordSet = WordSet()\n",
        "\n",
        "wordSet.addText('Hi, I\\'m Ryan! Here is a sentence I want to add!')\n",
        "wordSet.addText('Here is another sentence I want to add.')\n",
        "\n",
        "print(wordSet.words)"
      ]
    },
    {
      "cell_type": "code",
      "execution_count": 2,
      "id": "b022da1d",
      "metadata": {
        "colab": {
          "base_uri": "https://localhost:8080/"
        },
        "id": "b022da1d",
        "outputId": "b6a78644-f4d0-4336-d088-293b4d2d93c7"
      },
      "outputs": [
        {
          "output_type": "stream",
          "name": "stdout",
          "text": [
            "{'sentence', 'is', 'ryan', 'a', 'to', 'another', 'i', 'want', 'add', 'here', 'im', 'hi'}\n"
          ]
        }
      ],
      "source": [
        "class WordSet:\n",
        "    replacePuncs = ['!', '.', ',', '\\'']\n",
        "    def __init__(self):\n",
        "        self.words = set()\n",
        "\n",
        "    def addText(self, text):\n",
        "        text = WordSet.cleanText(text)\n",
        "        for word in text.split():\n",
        "            self.words.add(word)\n",
        "\n",
        "\n",
        "    def cleanText(text):\n",
        "        # chaining functions\n",
        "        for punc in WordSet.replacePuncs:\n",
        "            text = text.replace(punc, '')\n",
        "        return text.lower()\n",
        "\n",
        "\n",
        "wordSet = WordSet()\n",
        "\n",
        "wordSet.addText('Hi, I\\'m Ryan! Here is a sentence I want to add!')\n",
        "wordSet.addText('Here is another sentence I want to add.')\n",
        "\n",
        "print(wordSet.words)"
      ]
    },
    {
      "cell_type": "code",
      "execution_count": null,
      "id": "b23df77f",
      "metadata": {
        "id": "b23df77f"
      },
      "outputs": [],
      "source": []
    },
    {
      "cell_type": "markdown",
      "id": "bec9bbe4",
      "metadata": {
        "id": "bec9bbe4"
      },
      "source": [
        "### Decorators"
      ]
    },
    {
      "cell_type": "code",
      "execution_count": 3,
      "id": "87b6c48c",
      "metadata": {
        "colab": {
          "base_uri": "https://localhost:8080/"
        },
        "id": "87b6c48c",
        "outputId": "3b680f93-0b2f-42bf-bc54-faec352d3680"
      },
      "outputs": [
        {
          "output_type": "stream",
          "name": "stdout",
          "text": [
            "{'sentence', 'is', 'ryan', 'a', 'to', 'another', 'i', 'want', 'add', 'here', 'im', 'hi'}\n"
          ]
        }
      ],
      "source": [
        "class WordSet:\n",
        "    replacePuncs = ['!', '.', ',', '\\'']\n",
        "    def __init__(self):\n",
        "        self.words = set()\n",
        "\n",
        "    def addText(self, text):\n",
        "        text = self.cleanText(text)\n",
        "        for word in text.split():\n",
        "            self.words.add(word)\n",
        "\n",
        "    @staticmethod\n",
        "    def cleanText(text):\n",
        "        # chaining functions\n",
        "        for punc in WordSet.replacePuncs:\n",
        "            text = text.replace(punc, '')\n",
        "        return text.lower()\n",
        "\n",
        "\n",
        "wordSet = WordSet()\n",
        "\n",
        "wordSet.addText('Hi, I\\'m Ryan! Here is a sentence I want to add!')\n",
        "wordSet.addText('Here is another sentence I want to add.')\n",
        "\n",
        "print(wordSet.words)"
      ]
    },
    {
      "cell_type": "code",
      "execution_count": null,
      "id": "bf70671d",
      "metadata": {
        "id": "bf70671d"
      },
      "outputs": [],
      "source": []
    }
  ],
  "metadata": {
    "kernelspec": {
      "display_name": "Python 3 (ipykernel)",
      "language": "python",
      "name": "python3"
    },
    "language_info": {
      "codemirror_mode": {
        "name": "ipython",
        "version": 3
      },
      "file_extension": ".py",
      "mimetype": "text/x-python",
      "name": "python",
      "nbconvert_exporter": "python",
      "pygments_lexer": "ipython3",
      "version": "3.10.4"
    },
    "colab": {
      "provenance": [],
      "include_colab_link": true
    }
  },
  "nbformat": 4,
  "nbformat_minor": 5
}