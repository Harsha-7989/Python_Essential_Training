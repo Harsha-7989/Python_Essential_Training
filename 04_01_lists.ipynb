{
  "cells": [
    {
      "cell_type": "markdown",
      "metadata": {
        "id": "view-in-github",
        "colab_type": "text"
      },
      "source": [
        "<a href=\"https://colab.research.google.com/github/Harsha-7989/Python_Essential_Training/blob/main/04_01_lists.ipynb\" target=\"_parent\"><img src=\"https://colab.research.google.com/assets/colab-badge.svg\" alt=\"Open In Colab\"/></a>"
      ]
    },
    {
      "cell_type": "markdown",
      "id": "aec5c7a9",
      "metadata": {
        "id": "aec5c7a9"
      },
      "source": [
        "## Lists"
      ]
    },
    {
      "cell_type": "markdown",
      "id": "6b95c52f",
      "metadata": {
        "id": "6b95c52f"
      },
      "source": [
        "### List Slicing"
      ]
    },
    {
      "cell_type": "code",
      "execution_count": 1,
      "id": "f3869ca7",
      "metadata": {
        "colab": {
          "base_uri": "https://localhost:8080/"
        },
        "id": "f3869ca7",
        "outputId": "7aa4755b-d709-40f9-8a14-a23f3feff81f"
      },
      "outputs": [
        {
          "output_type": "execute_result",
          "data": {
            "text/plain": [
              "[4, 5]"
            ]
          },
          "metadata": {},
          "execution_count": 1
        }
      ],
      "source": [
        "myList = [1,2,3,4,5]\n",
        "myList[3:]"
      ]
    },
    {
      "cell_type": "code",
      "execution_count": 2,
      "id": "e6fef4b7",
      "metadata": {
        "colab": {
          "base_uri": "https://localhost:8080/"
        },
        "id": "e6fef4b7",
        "outputId": "c7ccabc5-aa51-4d60-ac68-fd0a48449a8f"
      },
      "outputs": [
        {
          "output_type": "execute_result",
          "data": {
            "text/plain": [
              "[1, 3, 5]"
            ]
          },
          "metadata": {},
          "execution_count": 2
        }
      ],
      "source": [
        "myList[0:6:2]"
      ]
    },
    {
      "cell_type": "code",
      "execution_count": 3,
      "id": "6d587461",
      "metadata": {
        "colab": {
          "base_uri": "https://localhost:8080/"
        },
        "id": "6d587461",
        "outputId": "191b2e51-52e5-4005-f064-b56343e8f2e0"
      },
      "outputs": [
        {
          "output_type": "execute_result",
          "data": {
            "text/plain": [
              "[1, 4]"
            ]
          },
          "metadata": {},
          "execution_count": 3
        }
      ],
      "source": [
        "myList[0:6:3]"
      ]
    },
    {
      "cell_type": "code",
      "execution_count": 4,
      "id": "3103c64d",
      "metadata": {
        "colab": {
          "base_uri": "https://localhost:8080/"
        },
        "id": "3103c64d",
        "outputId": "f52b13a2-a745-4259-8ef4-e8682f596461"
      },
      "outputs": [
        {
          "output_type": "execute_result",
          "data": {
            "text/plain": [
              "[1, 3, 5]"
            ]
          },
          "metadata": {},
          "execution_count": 4
        }
      ],
      "source": [
        "myList[::2]"
      ]
    },
    {
      "cell_type": "code",
      "execution_count": 6,
      "id": "3dc127d5",
      "metadata": {
        "colab": {
          "base_uri": "https://localhost:8080/"
        },
        "id": "3dc127d5",
        "outputId": "51f9d149-f986-4fbd-b1c8-c10404eeab68"
      },
      "outputs": [
        {
          "output_type": "stream",
          "name": "stdout",
          "text": [
            "0\n",
            "1\n",
            "2\n",
            "3\n",
            "4\n",
            "5\n",
            "6\n",
            "7\n",
            "8\n",
            "9\n"
          ]
        }
      ],
      "source": [
        "for i in range(10):\n",
        "    print(i)"
      ]
    },
    {
      "cell_type": "code",
      "execution_count": 7,
      "id": "57f1b769",
      "metadata": {
        "id": "57f1b769"
      },
      "outputs": [],
      "source": [
        "myList = list(range(100))"
      ]
    },
    {
      "cell_type": "code",
      "execution_count": 8,
      "id": "6b968843",
      "metadata": {
        "colab": {
          "base_uri": "https://localhost:8080/"
        },
        "id": "6b968843",
        "outputId": "1d7f20b1-050b-4bfd-9065-e486492b7b80"
      },
      "outputs": [
        {
          "output_type": "execute_result",
          "data": {
            "text/plain": [
              "[0, 10, 20, 30, 40, 50, 60, 70, 80, 90]"
            ]
          },
          "metadata": {},
          "execution_count": 8
        }
      ],
      "source": [
        "myList[::10]"
      ]
    },
    {
      "cell_type": "code",
      "execution_count": 9,
      "id": "d6b81548",
      "metadata": {
        "colab": {
          "base_uri": "https://localhost:8080/"
        },
        "id": "d6b81548",
        "outputId": "53e75c41-6d20-420c-c188-3e48a42cf379"
      },
      "outputs": [
        {
          "output_type": "execute_result",
          "data": {
            "text/plain": [
              "[99, 89, 79, 69, 59, 49, 39, 29, 19, 9]"
            ]
          },
          "metadata": {},
          "execution_count": 9
        }
      ],
      "source": [
        "myList[::-10]"
      ]
    },
    {
      "cell_type": "markdown",
      "id": "d138451b",
      "metadata": {
        "id": "d138451b"
      },
      "source": [
        "### Modifying Lists"
      ]
    },
    {
      "cell_type": "code",
      "execution_count": 10,
      "id": "5c065aff",
      "metadata": {
        "colab": {
          "base_uri": "https://localhost:8080/"
        },
        "id": "5c065aff",
        "outputId": "297d58f0-efb0-4851-f409-0c58906920cc"
      },
      "outputs": [
        {
          "output_type": "stream",
          "name": "stdout",
          "text": [
            "[1, 2, 3, 4, 5]\n"
          ]
        }
      ],
      "source": [
        "myList = [1,2,3,4]\n",
        "myList.append(5)\n",
        "print(myList)"
      ]
    },
    {
      "cell_type": "code",
      "execution_count": 11,
      "id": "93e06c86",
      "metadata": {
        "colab": {
          "base_uri": "https://localhost:8080/"
        },
        "id": "93e06c86",
        "outputId": "2d439309-f6d0-434c-c50f-a600ff258c4b"
      },
      "outputs": [
        {
          "output_type": "stream",
          "name": "stdout",
          "text": [
            "[1, 2, 3, 'a new value', 4, 5]\n"
          ]
        }
      ],
      "source": [
        "myList.insert(3, 'a new value')\n",
        "print(myList)"
      ]
    },
    {
      "cell_type": "code",
      "execution_count": 12,
      "id": "860ff53b",
      "metadata": {
        "id": "860ff53b"
      },
      "outputs": [],
      "source": [
        "myList.remove('a new value')"
      ]
    },
    {
      "cell_type": "code",
      "execution_count": 13,
      "id": "83863968",
      "metadata": {
        "colab": {
          "base_uri": "https://localhost:8080/"
        },
        "id": "83863968",
        "outputId": "1fa0b65a-1564-451b-f0f1-db502b9fe583"
      },
      "outputs": [
        {
          "output_type": "execute_result",
          "data": {
            "text/plain": [
              "[1, 2, 3, 4, 5]"
            ]
          },
          "metadata": {},
          "execution_count": 13
        }
      ],
      "source": [
        "myList"
      ]
    },
    {
      "cell_type": "code",
      "execution_count": 14,
      "id": "d5a8f0cd",
      "metadata": {
        "colab": {
          "base_uri": "https://localhost:8080/"
        },
        "id": "d5a8f0cd",
        "outputId": "203407bd-4e6c-4d29-94fe-f1a6e2dcb412"
      },
      "outputs": [
        {
          "output_type": "execute_result",
          "data": {
            "text/plain": [
              "5"
            ]
          },
          "metadata": {},
          "execution_count": 14
        }
      ],
      "source": [
        "myList.pop()"
      ]
    },
    {
      "cell_type": "code",
      "execution_count": 15,
      "id": "7d51f9c9",
      "metadata": {
        "colab": {
          "base_uri": "https://localhost:8080/"
        },
        "id": "7d51f9c9",
        "outputId": "022c4450-a599-4c30-deb6-f6d3802ce227"
      },
      "outputs": [
        {
          "output_type": "execute_result",
          "data": {
            "text/plain": [
              "[1, 2, 3, 4]"
            ]
          },
          "metadata": {},
          "execution_count": 15
        }
      ],
      "source": [
        "myList"
      ]
    },
    {
      "cell_type": "code",
      "execution_count": 16,
      "id": "2356b2a6",
      "metadata": {
        "colab": {
          "base_uri": "https://localhost:8080/"
        },
        "id": "2356b2a6",
        "outputId": "21930c8c-9b75-4c89-d047-e4788eb7d857"
      },
      "outputs": [
        {
          "output_type": "stream",
          "name": "stdout",
          "text": [
            "4\n",
            "3\n",
            "2\n",
            "1\n"
          ]
        }
      ],
      "source": [
        "while len(myList):\n",
        "    print(myList.pop())"
      ]
    },
    {
      "cell_type": "code",
      "execution_count": 17,
      "id": "5ddad205",
      "metadata": {
        "colab": {
          "base_uri": "https://localhost:8080/"
        },
        "id": "5ddad205",
        "outputId": "2f037758-7878-4170-8b73-1f3cbd9268e9"
      },
      "outputs": [
        {
          "output_type": "execute_result",
          "data": {
            "text/plain": [
              "[]"
            ]
          },
          "metadata": {},
          "execution_count": 17
        }
      ],
      "source": [
        "myList"
      ]
    },
    {
      "cell_type": "code",
      "execution_count": 18,
      "id": "501f1468",
      "metadata": {
        "colab": {
          "base_uri": "https://localhost:8080/"
        },
        "id": "501f1468",
        "outputId": "741b6447-7c4e-4446-87c4-0a4663647d46"
      },
      "outputs": [
        {
          "output_type": "stream",
          "name": "stdout",
          "text": [
            "[1, 2, 3, 4, 5, 6]\n"
          ]
        }
      ],
      "source": [
        "a = [1,2,3,4,5]\n",
        "b = a\n",
        "a.append(6)\n",
        "print(b)"
      ]
    },
    {
      "cell_type": "code",
      "execution_count": 19,
      "id": "89a368d1",
      "metadata": {
        "colab": {
          "base_uri": "https://localhost:8080/"
        },
        "id": "89a368d1",
        "outputId": "db4a921e-541e-4967-cdb6-cd4631374426"
      },
      "outputs": [
        {
          "output_type": "stream",
          "name": "stdout",
          "text": [
            "[1, 2, 3, 4, 5, 6]\n",
            "[1, 2, 3, 4, 5]\n"
          ]
        }
      ],
      "source": [
        "a = [1,2,3,4,5]\n",
        "b = a.copy()\n",
        "a.append(6)\n",
        "print(a)\n",
        "print(b)"
      ]
    },
    {
      "cell_type": "code",
      "execution_count": 20,
      "id": "6e1ceb3e",
      "metadata": {
        "colab": {
          "base_uri": "https://localhost:8080/"
        },
        "id": "6e1ceb3e",
        "outputId": "b1836d41-73ba-4130-f02f-ec3c648c388f"
      },
      "outputs": [
        {
          "output_type": "stream",
          "name": "stdout",
          "text": [
            "0\n",
            "1\n",
            "2\n",
            "3\n",
            "4\n",
            "5\n",
            "6\n",
            "7\n",
            "8\n",
            "9\n",
            "10\n",
            "11\n",
            "12\n",
            "13\n",
            "14\n",
            "15\n",
            "16\n",
            "17\n",
            "18\n",
            "19\n"
          ]
        }
      ],
      "source": [
        "for i in range(20):\n",
        "    print(i)"
      ]
    },
    {
      "cell_type": "code",
      "execution_count": null,
      "id": "07868576",
      "metadata": {
        "id": "07868576"
      },
      "outputs": [],
      "source": []
    }
  ],
  "metadata": {
    "kernelspec": {
      "display_name": "Python 3 (ipykernel)",
      "language": "python",
      "name": "python3"
    },
    "language_info": {
      "codemirror_mode": {
        "name": "ipython",
        "version": 3
      },
      "file_extension": ".py",
      "mimetype": "text/x-python",
      "name": "python",
      "nbconvert_exporter": "python",
      "pygments_lexer": "ipython3",
      "version": "3.10.2"
    },
    "colab": {
      "provenance": [],
      "include_colab_link": true
    }
  },
  "nbformat": 4,
  "nbformat_minor": 5
}