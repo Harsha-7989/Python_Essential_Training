{
  "cells": [
    {
      "cell_type": "markdown",
      "metadata": {
        "id": "view-in-github",
        "colab_type": "text"
      },
      "source": [
        "<a href=\"https://colab.research.google.com/github/Harsha-7989/Python_Essential_Training/blob/main/08_02_HandlingExceptions.ipynb\" target=\"_parent\"><img src=\"https://colab.research.google.com/assets/colab-badge.svg\" alt=\"Open In Colab\"/></a>"
      ]
    },
    {
      "cell_type": "code",
      "execution_count": 1,
      "id": "91c52d9a",
      "metadata": {
        "id": "91c52d9a"
      },
      "outputs": [],
      "source": [
        "import time"
      ]
    },
    {
      "cell_type": "markdown",
      "id": "c7033b12",
      "metadata": {
        "id": "c7033b12"
      },
      "source": [
        "## Handling Exceptions"
      ]
    },
    {
      "cell_type": "markdown",
      "id": "8a312fe4",
      "metadata": {
        "id": "8a312fe4"
      },
      "source": [
        "### Try / Except"
      ]
    },
    {
      "cell_type": "code",
      "execution_count": 2,
      "id": "20b83b44",
      "metadata": {
        "colab": {
          "base_uri": "https://localhost:8080/"
        },
        "id": "20b83b44",
        "outputId": "ec8f0f3a-de93-4f9f-fdc8-a18659c63e60"
      },
      "outputs": [
        {
          "output_type": "execute_result",
          "data": {
            "text/plain": [
              "ZeroDivisionError('division by zero')"
            ]
          },
          "metadata": {},
          "execution_count": 2
        }
      ],
      "source": [
        "def causeError():\n",
        "    try:\n",
        "        return 1/0\n",
        "    except Exception as e:\n",
        "        return e\n",
        "\n",
        "causeError()"
      ]
    },
    {
      "cell_type": "code",
      "execution_count": 3,
      "id": "df66e89a",
      "metadata": {
        "colab": {
          "base_uri": "https://localhost:8080/"
        },
        "id": "df66e89a",
        "outputId": "141f1732-4232-481c-a5c3-a8651079b965"
      },
      "outputs": [
        {
          "output_type": "stream",
          "name": "stdout",
          "text": [
            "There was some sort of error!\n"
          ]
        }
      ],
      "source": [
        "def causeError():\n",
        "    try:\n",
        "        return 1/0\n",
        "    except Exception:\n",
        "        print('There was some sort of error!')\n",
        "\n",
        "causeError()"
      ]
    },
    {
      "cell_type": "markdown",
      "id": "14e56369",
      "metadata": {
        "id": "14e56369"
      },
      "source": [
        "### Finally"
      ]
    },
    {
      "cell_type": "code",
      "execution_count": 4,
      "id": "31791e33",
      "metadata": {
        "colab": {
          "base_uri": "https://localhost:8080/"
        },
        "id": "31791e33",
        "outputId": "8abe0371-e557-4bdc-8b72-b612720be564"
      },
      "outputs": [
        {
          "output_type": "stream",
          "name": "stdout",
          "text": [
            "This will always execute!\n"
          ]
        },
        {
          "output_type": "execute_result",
          "data": {
            "text/plain": [
              "1.0"
            ]
          },
          "metadata": {},
          "execution_count": 4
        }
      ],
      "source": [
        "def causeError():\n",
        "    try:\n",
        "        return 1/1\n",
        "    except Exception:\n",
        "        print('There was some sort of error!')\n",
        "    finally:\n",
        "        print('This will always execute!')\n",
        "\n",
        "causeError()"
      ]
    },
    {
      "cell_type": "code",
      "execution_count": 5,
      "id": "865a6a76",
      "metadata": {
        "colab": {
          "base_uri": "https://localhost:8080/"
        },
        "id": "865a6a76",
        "outputId": "688dd662-e0f2-4a57-fec5-a0523f314f6f"
      },
      "outputs": [
        {
          "output_type": "stream",
          "name": "stdout",
          "text": [
            "There was some sort of error!\n",
            "Function took 0.5002851486206055 seconds to execute\n"
          ]
        }
      ],
      "source": [
        "def causeError():\n",
        "    start = time.time()\n",
        "    try:\n",
        "        time.sleep(0.5)\n",
        "        return 1/0\n",
        "    except Exception:\n",
        "        print('There was some sort of error!')\n",
        "    finally:\n",
        "        print(f'Function took {time.time() - start} seconds to execute')\n",
        "\n",
        "causeError()"
      ]
    },
    {
      "cell_type": "markdown",
      "id": "1debbbd8",
      "metadata": {
        "id": "1debbbd8"
      },
      "source": [
        "### Catching Exceptions by Type"
      ]
    },
    {
      "cell_type": "code",
      "execution_count": 6,
      "id": "04b0686c",
      "metadata": {
        "colab": {
          "base_uri": "https://localhost:8080/"
        },
        "id": "04b0686c",
        "outputId": "aaf82246-d6b7-4dad-b916-fd1375e70c71"
      },
      "outputs": [
        {
          "output_type": "stream",
          "name": "stdout",
          "text": [
            "There was a type error!\n"
          ]
        }
      ],
      "source": [
        "def causeError():\n",
        "    try:\n",
        "        return 1 + 'a'\n",
        "\n",
        "    except TypeError:\n",
        "        print('There was a type error!')\n",
        "    except ZeroDivisionError:\n",
        "        print('There was a zero division error!')\n",
        "    except Exception:\n",
        "        print('There was some sort of error!')\n",
        "\n",
        "\n",
        "causeError()"
      ]
    },
    {
      "cell_type": "markdown",
      "id": "bdd13638",
      "metadata": {
        "id": "bdd13638"
      },
      "source": [
        "### Custom Decorators"
      ]
    },
    {
      "cell_type": "code",
      "execution_count": 7,
      "id": "339fce9c",
      "metadata": {
        "colab": {
          "base_uri": "https://localhost:8080/"
        },
        "id": "339fce9c",
        "outputId": "8253da54-9ba4-45ee-e106-f0d7272feb92"
      },
      "outputs": [
        {
          "output_type": "stream",
          "name": "stdout",
          "text": [
            "There was a zero division error!\n"
          ]
        }
      ],
      "source": [
        "def handleException(func):\n",
        "    def wrapper(*args):\n",
        "        try:\n",
        "            func(*args)\n",
        "        except TypeError:\n",
        "            print('There was a type error!')\n",
        "        except ZeroDivisionError:\n",
        "            print('There was a zero division error!')\n",
        "        except Exception:\n",
        "            print('There was some sort of error!')\n",
        "    return wrapper\n",
        "\n",
        "@handleException\n",
        "def causeError():\n",
        "    return 1/0\n",
        "\n",
        "causeError()"
      ]
    },
    {
      "cell_type": "markdown",
      "id": "017a9545",
      "metadata": {
        "id": "017a9545"
      },
      "source": [
        "### Raising Exceptions"
      ]
    },
    {
      "cell_type": "code",
      "execution_count": 9,
      "id": "54a8798c",
      "metadata": {
        "colab": {
          "base_uri": "https://localhost:8080/"
        },
        "id": "54a8798c",
        "outputId": "4ad6c72f-ac22-457f-ac93-4abfddff687c"
      },
      "outputs": [
        {
          "output_type": "stream",
          "name": "stdout",
          "text": [
            "1\n"
          ]
        }
      ],
      "source": [
        "@handleException\n",
        "def raiseError(n):\n",
        "    if n == 0:\n",
        "        raise Exception()\n",
        "    print(n)\n",
        "\n",
        "raiseError(1)"
      ]
    },
    {
      "cell_type": "code",
      "execution_count": null,
      "id": "42d42d9f",
      "metadata": {
        "id": "42d42d9f"
      },
      "outputs": [],
      "source": []
    }
  ],
  "metadata": {
    "kernelspec": {
      "display_name": "Python 3 (ipykernel)",
      "language": "python",
      "name": "python3"
    },
    "language_info": {
      "codemirror_mode": {
        "name": "ipython",
        "version": 3
      },
      "file_extension": ".py",
      "mimetype": "text/x-python",
      "name": "python",
      "nbconvert_exporter": "python",
      "pygments_lexer": "ipython3",
      "version": "3.9.13"
    },
    "colab": {
      "provenance": [],
      "include_colab_link": true
    }
  },
  "nbformat": 4,
  "nbformat_minor": 5
}