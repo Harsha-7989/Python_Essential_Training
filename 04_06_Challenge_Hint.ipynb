{
  "cells": [
    {
      "cell_type": "markdown",
      "metadata": {
        "id": "view-in-github",
        "colab_type": "text"
      },
      "source": [
        "<a href=\"https://colab.research.google.com/github/Harsha-7989/Python_Essential_Training/blob/main/04_06_Challenge_Hint.ipynb\" target=\"_parent\"><img src=\"https://colab.research.google.com/assets/colab-badge.svg\" alt=\"Open In Colab\"/></a>"
      ]
    },
    {
      "cell_type": "markdown",
      "id": "6a6c3649",
      "metadata": {
        "id": "6a6c3649"
      },
      "source": [
        "## ASCII Art Encoding\n"
      ]
    },
    {
      "cell_type": "markdown",
      "id": "47490f41",
      "metadata": {
        "id": "47490f41"
      },
      "source": [
        "### Challenge Hints!"
      ]
    },
    {
      "cell_type": "markdown",
      "id": "a8c64bd5",
      "metadata": {
        "id": "a8c64bd5"
      },
      "source": [
        "**Hint 1:** While iterating through each character of a string, we can print out when a string has \"switched\" from one character to another:"
      ]
    },
    {
      "cell_type": "code",
      "execution_count": 2,
      "id": "c3d70033",
      "metadata": {
        "colab": {
          "base_uri": "https://localhost:8080/"
        },
        "id": "c3d70033",
        "outputId": "07e09d0a-d8e9-4d5c-d88d-699a1e416d06"
      },
      "outputs": [
        {
          "output_type": "stream",
          "name": "stdout",
          "text": [
            "New character is A\n",
            "New character is B\n",
            "New character is C\n"
          ]
        }
      ],
      "source": [
        "stringVal = 'AAAAABBBBBCCCCC'\n",
        "\n",
        "prevChar = None\n",
        "for char in stringVal:\n",
        "    if char != prevChar:\n",
        "        print(f'New character is {char}')\n",
        "    prevChar = char"
      ]
    },
    {
      "cell_type": "markdown",
      "id": "54ce72f7",
      "metadata": {
        "id": "54ce72f7"
      },
      "source": [
        "**Hint 2:** Remember that you can multiply a string by a number!"
      ]
    },
    {
      "cell_type": "code",
      "execution_count": null,
      "id": "7ab4bd96",
      "metadata": {
        "id": "7ab4bd96",
        "outputId": "5932538f-f8c5-452e-d402-cc6aeadfbd83"
      },
      "outputs": [
        {
          "data": {
            "text/plain": [
              "'AAAAA'"
            ]
          },
          "execution_count": 3,
          "metadata": {},
          "output_type": "execute_result"
        }
      ],
      "source": [
        "'A'*5"
      ]
    },
    {
      "cell_type": "code",
      "execution_count": 3,
      "id": "7777d38e",
      "metadata": {
        "id": "7777d38e"
      },
      "outputs": [],
      "source": [
        "def encodeString(stringVal):\n",
        "    pass\n",
        "\n",
        "def decodeString(encodedList):\n",
        "    pass"
      ]
    },
    {
      "cell_type": "code",
      "execution_count": 4,
      "id": "3eee6256",
      "metadata": {
        "id": "3eee6256"
      },
      "outputs": [],
      "source": [
        "art = '''\n",
        "\n",
        "\n",
        "\n",
        "                               %%%%%%%%%%%%%%%%%%%\n",
        "                        %%%%%%%%%%%%%%%%%%%%%%%%%%%%%%%%%\n",
        "                    %%%%%%%%                         %%%%%%%%\n",
        "                %%%%%%%                                   %%%%%%\n",
        "              %%%%%%                                         %%%%%%\n",
        "           %%%%%%                                               %%%%%\n",
        "          %%%%%                                                   %%%%%\n",
        "        %%%%%                                                       %%%%%\n",
        "       %%%%                 %%%%%              %%%%%                  %%%%\n",
        "      %%%%                 %%%%%%%            %%%%%%%                  %%%%\n",
        "     %%%%                  %%%%%%%            %%%%%%%                   %%%%\n",
        "    %%%%                   %%%%%%%            %%%%%%%                    %%%%\n",
        "    %%%%                    %%%%%              %%%%%                     %%%%\n",
        "   %%%%                                                                   %%%%\n",
        "   %%%%                                                                   %%%%\n",
        "   %%%%                                                                   %%%%\n",
        "   %%%%                                                      %%%%        %%%%\n",
        "    %%%%       %%%%%%                                        %%%%%       %%%%\n",
        "    %%%%         %%%%                                       %%%%        %%%%\n",
        "     %%%%         %%%%                                     %%%%         %%%%\n",
        "      %%%%         %%%%%                                  %%%%         %%%%\n",
        "       %%%%%         %%%%%                             %%%%%         %%%%%\n",
        "        %%%%%          %%%%%%                        %%%%%          %%%%\n",
        "          %%%%%           %%%%%%%               %%%%%%%           %%%%%\n",
        "            %%%%%             %%%%%%%%%%%%%%%%%%%%%             %%%%%\n",
        "              %%%%%%%                                        %%%%%\n",
        "                 %%%%%%%                                 %%%%%%%\n",
        "                     %%%%%%%%%                     %%%%%%%%%\n",
        "                          %%%%%%%%%%%%%%%%%%%%%%%%%%%%%\n",
        "                                   %%%%%%%%%%%%\n",
        "\n",
        "\n",
        "\n",
        "'''"
      ]
    },
    {
      "cell_type": "code",
      "execution_count": 8,
      "id": "dec27033",
      "metadata": {
        "id": "dec27033"
      },
      "outputs": [],
      "source": [
        "encodedString = encodeString(art)"
      ]
    },
    {
      "cell_type": "code",
      "execution_count": 9,
      "id": "942d4ff8",
      "metadata": {
        "colab": {
          "base_uri": "https://localhost:8080/",
          "height": 139
        },
        "id": "942d4ff8",
        "outputId": "350edc89-048a-43c6-dd91-2626422eaad8"
      },
      "outputs": [
        {
          "output_type": "execute_result",
          "data": {
            "text/plain": [
              "'\\n\\n                                                                                \\n                                                                                \\n                               %%%%%%%%%%%%%%%%%%%                              \\n                        %%%%%%%%%%%%%%%%%%%%%%%%%%%%%%%%%                       \\n                    %%%%%%%%                         %%%%%%%%                   \\n                %%%%%%%                                   %%%%%%                \\n              %%%%%%                                         %%%%%%             \\n           %%%%%%                                               %%%%%           \\n          %%%%%                                                   %%%%%         \\n        %%%%%                                                       %%%%%       \\n       %%%%                 %%%%%              %%%%%                  %%%%      \\n      %%%%                 %%%%%%%            %%%%%%%                  %%%%     \\n     %%%%                  %%%%%%%            %%%%%%%                   %%%%    \\n    %%%%                   %%%%%%%            %%%%%%%                    %%%%   \\n    %%%%                    %%%%%              %%%%%                     %%%%   \\n   %%%%                                                                   %%%%  \\n   %%%%                                                                   %%%%  \\n   %%%%                                                                   %%%%  \\n   %%%%                                                      %%%%        %%%%   \\n    %%%%       %%%%%%                                        %%%%%       %%%%   \\n    %%%%         %%%%                                       %%%%        %%%%    \\n     %%%%         %%%%                                     %%%%         %%%%    \\n      %%%%         %%%%%                                  %%%%         %%%%     \\n       %%%%%         %%%%%                             %%%%%         %%%%%      \\n        %%%%%          %%%%%%                        %%%%%          %%%%        \\n          %%%%%           %%%%%%%               %%%%%%%           %%%%%         \\n            %%%%%             %%%%%%%%%%%%%%%%%%%%%             %%%%%           \\n              %%%%%%%                                        %%%%%              \\n                 %%%%%%%                                 %%%%%%%                \\n                     %%%%%%%%%                     %%%%%%%%%                    \\n                          %%%%%%%%%%%%%%%%%%%%%%%%%%%%%                         \\n                                   %%%%%%%%%%%%                                 \\n                                                                                \\n                                                                                 \\n\\n'"
            ],
            "application/vnd.google.colaboratory.intrinsic+json": {
              "type": "string"
            }
          },
          "metadata": {},
          "execution_count": 9
        }
      ],
      "source": [
        "decodeString(encodedString)"
      ]
    },
    {
      "cell_type": "code",
      "execution_count": 7,
      "id": "e1485f53",
      "metadata": {
        "id": "e1485f53"
      },
      "outputs": [],
      "source": [
        "# Python code​​​​​​‌‌​‌​​‌‌​‌​‌‌​​​​​‌‌​​​‌​ below\n",
        "\n",
        "def encodeString(stringVal):\n",
        "    # Your code goes here.\n",
        "    ls = []\n",
        "    prevChar = stringVal[0]\n",
        "    cnt = 0\n",
        "    for char in stringVal:\n",
        "        if char != prevChar:\n",
        "            ls.append((prevChar, cnt))\n",
        "            cnt = 0\n",
        "        prevChar = char\n",
        "        cnt = cnt + 1\n",
        "    ls.append((prevChar, cnt))\n",
        "    return ls\n",
        "    pass\n",
        "\n",
        "def decodeString(encodedList):\n",
        "    # Your code goes here.\n",
        "    ans = ''\n",
        "    for item in encodedList:\n",
        "        ans = ans + item[0]*item[1]\n",
        "    return ans\n",
        "    pass"
      ]
    },
    {
      "cell_type": "code",
      "source": [],
      "metadata": {
        "id": "EWWTkxBQPtLq"
      },
      "id": "EWWTkxBQPtLq",
      "execution_count": null,
      "outputs": []
    }
  ],
  "metadata": {
    "kernelspec": {
      "display_name": "Python 3 (ipykernel)",
      "language": "python",
      "name": "python3"
    },
    "language_info": {
      "codemirror_mode": {
        "name": "ipython",
        "version": 3
      },
      "file_extension": ".py",
      "mimetype": "text/x-python",
      "name": "python",
      "nbconvert_exporter": "python",
      "pygments_lexer": "ipython3",
      "version": "3.9.13"
    },
    "vscode": {
      "interpreter": {
        "hash": "949777d72b0d2535278d3dc13498b2535136f6dfe0678499012e853ee9abcab1"
      }
    },
    "colab": {
      "provenance": [],
      "include_colab_link": true
    }
  },
  "nbformat": 4,
  "nbformat_minor": 5
}